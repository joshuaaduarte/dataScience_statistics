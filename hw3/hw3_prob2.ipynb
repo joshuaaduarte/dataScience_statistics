{
 "cells": [
  {
   "cell_type": "markdown",
   "id": "1cc3f1b6",
   "metadata": {},
   "source": [
    "---\n",
    "\n",
    "<h1><center>SDSE Homework 3 <br><br> Problem 2: Principal Components Analysis </center></h1>\n",
    "\n",
    "---\n",
    "\n",
    "In this problem we will use principal components analysis to reduce the number of columns in a dataset. The data consist of `N=100` iid samples of a multivariate random variable with `D=16` components. In other words, 100 measurements from 16 interdependent quantities. Our goal is to use PCA to reduce the number of columns in the matrix to 2.\n",
    "\n",
    "Please begin by replacing `None` in the next cell with your student id number."
   ]
  },
  {
   "cell_type": "code",
   "execution_count": null,
   "id": "26c430e9",
   "metadata": {},
   "outputs": [],
   "source": [
    "result = {\n",
    "    'SID': None # enter your SID\n",
    "}"
   ]
  },
  {
   "cell_type": "code",
   "execution_count": null,
   "id": "51e7d3cc",
   "metadata": {},
   "outputs": [],
   "source": [
    "import numpy as np \n",
    "import scipy.stats as stats\n",
    "import matplotlib.pyplot as plt\n",
    "import pandas as pd\n",
    "import pickle"
   ]
  },
  {
   "cell_type": "markdown",
   "id": "c10ccf82",
   "metadata": {},
   "source": [
    "The next cell loads the data and extracts its dimensions. "
   ]
  },
  {
   "cell_type": "code",
   "execution_count": null,
   "id": "2b81b67b",
   "metadata": {},
   "outputs": [],
   "source": [
    "with open('data_synthetic.pickle','rb') as file:\n",
    "    X = pickle.load(file)\n",
    "    \n",
    "N = X.shape[0]\n",
    "D = X.shape[1]"
   ]
  },
  {
   "cell_type": "markdown",
   "id": "3f840140",
   "metadata": {},
   "source": [
    "Our first task is exploratory. We want to get a sense of the correlations between the 16 random variables that compose $X$. That is, we want to estimate the correlation matrix. The correlation matrix is a normalized version of the covariance matrix that was defined in lectures. It contains all ones on the diagonal, and the off-diagonal entries are correlation coefficients (also defined in lecture). "
   ]
  },
  {
   "cell_type": "markdown",
   "id": "182a25bf",
   "metadata": {},
   "source": [
    "# Sample correlation matrix (not graded)\n",
    "\n",
    "Numpy's `np.corrcoef` computes the sample covariance matrix of $X$ for a dataset containing samples of $X$. Use it to compute the 16x16 sample correlation matrix for `X`, and then use `plt.imshow` to visualize it.  Can you see which of the columns of `X` might be most correlated with each other?"
   ]
  },
  {
   "cell_type": "code",
   "execution_count": null,
   "id": "fd6e5bf5",
   "metadata": {},
   "outputs": [],
   "source": [
    "cov = np.corrcoef(X.T) # 16x16\n",
    "plt.imshow(abs(cor),cmap='gray')"
   ]
  },
  {
   "cell_type": "markdown",
   "id": "f7635ddc",
   "metadata": {},
   "source": [
    "# Seaborn pairplot (not graded)\n",
    "\n",
    "[Seaborn](https://seaborn.pydata.org/) is a plotting package similar to matplotlib. We don't use it in this course, but it is pretty popular. You can install seaborn into your sdse environment with:\n",
    "\n",
    "```\n",
    "conda activate sdse\n",
    "conda install seaborn\n",
    "```\n",
    "\n",
    "One nice thing is its `pairplot` function, which is a visualization of the sample covariance matrix (the matrix containing the correlations between all pairs of columns in `X`). The plot is a 16x16 grid of subplots, in this case because D=16. Below we see the upper-left 4x4 block. The diagonals are histograms of each of the 16 variables. The off-diagonals are scatter plots of the respective column pairs. We can see, for example, that:\n",
    "+ x0 and x1 are negatively correlated\n",
    "+ x0 and x2 are uncorrelated\n",
    "+ x1 and x3 are positevely correlated "
   ]
  },
  {
   "cell_type": "code",
   "execution_count": null,
   "id": "26d037f5",
   "metadata": {},
   "outputs": [],
   "source": [
    "import seaborn as sns\n",
    "Xdf = pd.DataFrame(X)\n",
    "sns.pairplot(Xdf.iloc[:,:4])"
   ]
  },
  {
   "cell_type": "markdown",
   "id": "edd66fb1",
   "metadata": {},
   "source": [
    "# 1. Normalize the data\n",
    "Subtract the mean of each column from `X`. Divide the result by the standard deviation of each column, and record this new matrix as `Xc`."
   ]
  },
  {
   "cell_type": "code",
   "execution_count": null,
   "id": "43cab6b2",
   "metadata": {},
   "outputs": [],
   "source": [
    "Xc = ...  # Add your code here"
   ]
  },
  {
   "cell_type": "code",
   "execution_count": null,
   "id": "991376c3",
   "metadata": {},
   "outputs": [],
   "source": [
    "################################\n",
    "# Reporting. Do not modify.#####\n",
    "result['Xc'] = Xc    # 2 points\n",
    "################################"
   ]
  },
  {
   "cell_type": "markdown",
   "id": "de671bf0",
   "metadata": {},
   "source": [
    "# 2. Run SVD on Xc\n",
    "This has been done for you in the next cell."
   ]
  },
  {
   "cell_type": "code",
   "execution_count": null,
   "id": "11369e70",
   "metadata": {},
   "outputs": [],
   "source": [
    "U, s, Vt = np.linalg.svd(Xc)"
   ]
  },
  {
   "cell_type": "markdown",
   "id": "5dc07dc3",
   "metadata": {},
   "source": [
    "# 3. Plot the singular values in order\n",
    "Use `plt.plot` (a semilogy plot is not needed in this case)"
   ]
  },
  {
   "cell_type": "code",
   "execution_count": null,
   "id": "39f2298b",
   "metadata": {},
   "outputs": [],
   "source": [
    "fig3 = plt.figure(figsize=(10,5))\n",
    "# Add your code here"
   ]
  },
  {
   "cell_type": "code",
   "execution_count": null,
   "id": "83c7d454",
   "metadata": {},
   "outputs": [],
   "source": [
    "################################\n",
    "# Reporting. Do not modify.#####\n",
    "result['fig3'] = fig3    # 4 points\n",
    "################################"
   ]
  },
  {
   "cell_type": "markdown",
   "id": "95a8fea1",
   "metadata": {},
   "source": [
    "# 4. Plot the total variance explained as a function of the number of dimensions. \n",
    "The total variation explained by the rank $\\rho$ approximation of `Xc` is the sum of the squares of the first $\\rho$ singular values, divided by N. \n",
    "\n",
    "$$ \\frac{1}{N}\\sum_{i=1}^{\\rho} \\sigma_i^2 $$"
   ]
  },
  {
   "cell_type": "code",
   "execution_count": null,
   "id": "23e06b76",
   "metadata": {},
   "outputs": [],
   "source": [
    "fig4 = plt.figure(figsize=(10,5))\n",
    "# Add your code here"
   ]
  },
  {
   "cell_type": "code",
   "execution_count": null,
   "id": "db5de19d",
   "metadata": {},
   "outputs": [],
   "source": [
    "################################\n",
    "# Reporting. Do not modify.#####\n",
    "result['fig4'] = fig4   # 4 points\n",
    "################################"
   ]
  },
  {
   "cell_type": "markdown",
   "id": "3f055193",
   "metadata": {},
   "source": [
    "# 5. Compute $U_\\rho$, $\\Sigma_\\rho$, and $V^T_\\rho$ for $\\rho=2$.\n",
    "Save these to `Urho`, `Srho`, and `Vtrho`. The dimensions of these should be `(100, 2)`, `(2, 2)`, and `(2, 16)` respectively. "
   ]
  },
  {
   "cell_type": "code",
   "execution_count": null,
   "id": "f97ff469",
   "metadata": {},
   "outputs": [],
   "source": [
    "r = 2\n",
    "Ur = None  # Add your code here\n",
    "sr = None  # Add your code here\n",
    "Vtr = None  # Add your code here"
   ]
  },
  {
   "cell_type": "code",
   "execution_count": null,
   "id": "17907ba5",
   "metadata": {},
   "outputs": [],
   "source": [
    "################################\n",
    "# Reporting. Do not modify.#####\n",
    "result['Ur'] = Ur      # 2 points\n",
    "result['sr'] = sr      # 1 points\n",
    "result['Vtr'] = Vtr    # 2 points\n",
    "################################"
   ]
  },
  {
   "cell_type": "markdown",
   "id": "af3114c8",
   "metadata": {},
   "source": [
    "# 6. Compute the optimal two-column representation of X\n",
    "\n",
    "Save the result to `Xrho`. The shape of `Xrho` should be `(100, 2)`"
   ]
  },
  {
   "cell_type": "code",
   "execution_count": null,
   "id": "ff8262f0",
   "metadata": {},
   "outputs": [],
   "source": [
    "Xrho = ...  # Add your code here"
   ]
  },
  {
   "cell_type": "code",
   "execution_count": null,
   "id": "fe5e3951",
   "metadata": {},
   "outputs": [],
   "source": [
    "################################\n",
    "# Reporting. Do not modify.#####\n",
    "result['Xrho'] = Xrho   # 4 points\n",
    "################################"
   ]
  },
  {
   "cell_type": "markdown",
   "id": "a48dcea9",
   "metadata": {},
   "source": [
    "---\n",
    "## Do not modify below this"
   ]
  },
  {
   "cell_type": "code",
   "execution_count": null,
   "id": "b3633846",
   "metadata": {},
   "outputs": [],
   "source": [
    "with open('hw3_prob2_{}.pickle'.format(result['SID']),'wb') as file:\n",
    "    pickle.dump(result,file)"
   ]
  }
 ],
 "metadata": {
  "kernelspec": {
   "display_name": "Python 3 (ipykernel)",
   "language": "python",
   "name": "python3"
  },
  "language_info": {
   "codemirror_mode": {
    "name": "ipython",
    "version": 3
   },
   "file_extension": ".py",
   "mimetype": "text/x-python",
   "name": "python",
   "nbconvert_exporter": "python",
   "pygments_lexer": "ipython3",
   "version": "3.9.15"
  }
 },
 "nbformat": 4,
 "nbformat_minor": 5
}
