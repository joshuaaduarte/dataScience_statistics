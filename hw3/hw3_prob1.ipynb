{
 "cells": [
  {
   "cell_type": "markdown",
   "id": "454a30ec",
   "metadata": {},
   "source": [
    "---\n",
    "\n",
    "<h1><center>SDSE Homework 3 <br><br> Problem 1: Using SVD for Image Compression </center></h1>\n",
    "<h3><center>By Pavan M. Reddy [worked with Joshua Duarte]</h3>\n",
    "\n",
    "---\n",
    "\n",
    "This problem demonstrates the use of SVD for compressing images. We will do this with a very simple and clean image of a black circle. You will use Python to load the image, run the singular value decomposition, and then create and view images with different levels of compression. Please begin by replacing `None` in the next cell with your student id number. "
   ]
  },
  {
   "cell_type": "code",
   "execution_count": 70,
   "id": "ec4f798d",
   "metadata": {},
   "outputs": [],
   "source": [
    "result = {\n",
    "    'SID': 3038574931 # enter your SID\n",
    "}"
   ]
  },
  {
   "cell_type": "code",
   "execution_count": 71,
   "id": "3121bf40",
   "metadata": {},
   "outputs": [],
   "source": [
    "from PIL import Image\n",
    "import numpy as np\n",
    "import matplotlib.pyplot as plt\n",
    "import pickle"
   ]
  },
  {
   "cell_type": "markdown",
   "id": "dcc8a9c6",
   "metadata": {},
   "source": [
    "The next cell will load an image from a file, store it in the variable `X`, and plot it using `plt.imshow`. "
   ]
  },
  {
   "cell_type": "code",
   "execution_count": 72,
   "id": "58ad739e",
   "metadata": {},
   "outputs": [
    {
     "data": {
      "text/plain": [
       "<matplotlib.image.AxesImage at 0x7fc2d864fa90>"
      ]
     },
     "execution_count": 72,
     "metadata": {},
     "output_type": "execute_result"
    },
    {
     "data": {
      "image/png": "[encoded data removed]",
      "text/plain": [
       "<Figure size 432x288 with 1 Axes>"
      ]
     },
     "metadata": {
      "needs_background": "light"
     },
     "output_type": "display_data"
    }
   ],
   "source": [
    "# Load the data from a pickle file\n",
    "with open('data_circle.pickle', 'rb') as file:\n",
    "    X = pickle.load(file)   \n",
    "    \n",
    "# Display the data matrix as an image\n",
    "plt.imshow(X,cmap='gray')"
   ]
  },
  {
   "cell_type": "markdown",
   "id": "3cfa2697",
   "metadata": {},
   "source": [
    "# 1) Data dimensions\n",
    "\n",
    "Record the number of rows and columns of `X` in variables `N` and `D` respectively."
   ]
  },
  {
   "cell_type": "code",
   "execution_count": 73,
   "id": "175188c0",
   "metadata": {},
   "outputs": [],
   "source": [
    "N = X.shape[0]\n",
    "D = X.shape[1]"
   ]
  },
  {
   "cell_type": "code",
   "execution_count": 74,
   "id": "f34b9d2a",
   "metadata": {},
   "outputs": [],
   "source": [
    "################################\n",
    "# Reporting. Do not modify.#####\n",
    "result['N'] = N   # 1 point\n",
    "result['D'] = D   # 1 point\n",
    "################################"
   ]
  },
  {
   "cell_type": "markdown",
   "id": "5acef9c4",
   "metadata": {},
   "source": [
    "# 2) Run SVD\n",
    "We are using the implementation of SVD from scipy's `linalg` package. Please refer to the [documentation](https://numpy.org/doc/stable/reference/generated/numpy.linalg.svd.html) for `linalg.svd` to understand the syntax. Apply SVD to the image `X` and record the result in matrices `U`, `s`, and `Vt`. Note the dimension of these matrices. Is this what you expected from SVD?"
   ]
  },
  {
   "cell_type": "code",
   "execution_count": 75,
   "id": "4a91baa3",
   "metadata": {},
   "outputs": [
    {
     "data": {
      "text/plain": [
       "((446, 446), (160,), (160, 160))"
      ]
     },
     "execution_count": 75,
     "metadata": {},
     "output_type": "execute_result"
    }
   ],
   "source": [
    "from scipy import linalg\n",
    "\n",
    "U, s, Vt = linalg.svd(X)\n",
    "U.shape, s.shape, Vt.shape"
   ]
  },
  {
   "cell_type": "markdown",
   "id": "1cd79274",
   "metadata": {},
   "source": [
    "# 3) Matrix rank\n",
    "Compute the rank of X using [`np.linalg.matrix_rank`](https://numpy.org/doc/stable/reference/generated/numpy.linalg.matrix_rank.html). Record it to the variable `rank`."
   ]
  },
  {
   "cell_type": "code",
   "execution_count": 76,
   "id": "2153bbcd",
   "metadata": {},
   "outputs": [],
   "source": [
    "rank = np.linalg.matrix_rank(X)"
   ]
  },
  {
   "cell_type": "code",
   "execution_count": 77,
   "id": "f9c0f678",
   "metadata": {},
   "outputs": [],
   "source": [
    "################################\n",
    "# Reporting. Do not modify.#####\n",
    "result['rank'] = rank   # 2 points\n",
    "################################"
   ]
  },
  {
   "cell_type": "markdown",
   "id": "38853856",
   "metadata": {},
   "source": [
    "# 4) Plot the singular values\n",
    "Use [`plt.semilogy`](https://matplotlib.org/stable/api/_as_gen/matplotlib.pyplot.semilogy.html) to plot the sequence of singular values."
   ]
  },
  {
   "cell_type": "code",
   "execution_count": 78,
   "id": "92944482",
   "metadata": {},
   "outputs": [
    {
     "data": {
      "image/png": "[encoded data removed]",
      "text/plain": [
       "<Figure size 720x360 with 1 Axes>"
      ]
     },
     "metadata": {
      "needs_background": "light"
     },
     "output_type": "display_data"
    }
   ],
   "source": [
    "fig4 = plt.figure(figsize=(10,5))\n",
    "plt.semilogy(s)\n",
    "plt.show()"
   ]
  },
  {
   "cell_type": "code",
   "execution_count": 79,
   "id": "00e442ad",
   "metadata": {},
   "outputs": [],
   "source": [
    "################################\n",
    "# Reporting. Do not modify.#####\n",
    "result['fig4'] = fig4   # 4 points\n",
    "################################"
   ]
  },
  {
   "cell_type": "markdown",
   "id": "0d1ff8bc",
   "metadata": {},
   "source": [
    "# 5) Plot first 20 columns of $U \\Sigma$ using [`plt.imshow`](https://matplotlib.org/stable/api/_as_gen/matplotlib.pyplot.imshow.html)\n",
    "\n",
    "Hints: \n",
    "+1. matrix multiplication in numpy is performed with the `@` symbol or with `np.matmul`. Example:\n",
    "\n",
    "`AtimesB = np.matmul(A,B)`\n",
    "\n",
    "is the same as \n",
    "\n",
    "`AtimesB = A@B`\n",
    "\n",
    "2. Construct the matrix $\\Sigma$ by using `S = np.diag(s)`. \n",
    "\n",
    "3. Be aware of the dimensions of `U` and `S`, and how to select the appropriate rows/columns from those matrices. \n",
    "\n",
    "4. For plotting pass `aspect='auto', interpolation='none'` to `imshow`."
   ]
  },
  {
   "cell_type": "code",
   "execution_count": 80,
   "id": "e1184485",
   "metadata": {},
   "outputs": [
    {
     "data": {
      "text/plain": [
       "<Figure size 720x360 with 0 Axes>"
      ]
     },
     "metadata": {},
     "output_type": "display_data"
    },
    {
     "data": {
      "image/png": "[encoded data removed]",
      "text/plain": [
       "<Figure size 720x360 with 1 Axes>"
      ]
     },
     "metadata": {
      "needs_background": "light"
     },
     "output_type": "display_data"
    }
   ],
   "source": [
    "fig5 = plt.figure(figsize=(10,5))\n",
    "rho = 20\n",
    "fig5 = plt.figure(figsize=(10,5))\n",
    "r = 20\n",
    "S = np.diag(s)\n",
    "Xapprox = U [:,:r] @ S [:r,:r]\n",
    "img = plt.imshow(Xapprox, aspect='auto', interpolation='none',cmap='gray')#looks clear with 'prism' colormap\n",
    "plt.show() "
   ]
  },
  {
   "cell_type": "code",
   "execution_count": 81,
   "id": "88356f32",
   "metadata": {},
   "outputs": [],
   "source": [
    "################################\n",
    "# Reporting. Do not modify.#####\n",
    "result['fig5'] = fig5    # 6 points\n",
    "################################"
   ]
  },
  {
   "cell_type": "markdown",
   "id": "f7bb304c",
   "metadata": {},
   "source": [
    "# 6) Plot the first 20 rows of $\\Sigma V^T$ using `plt.imshow`\n",
    "\n",
    "Same instructions as part 5."
   ]
  },
  {
   "cell_type": "code",
   "execution_count": 82,
   "id": "b885c085",
   "metadata": {},
   "outputs": [
    {
     "data": {
      "image/png": "[encoded data removed]",
      "text/plain": [
       "<Figure size 720x360 with 1 Axes>"
      ]
     },
     "metadata": {
      "needs_background": "light"
     },
     "output_type": "display_data"
    }
   ],
   "source": [
    "fig6 = plt.figure(figsize=(10,5))\n",
    "rho =20\n",
    "S = np.diag(s)\n",
    "Xapproxs = S [:r,:r] @ Vt [:r,:]\n",
    "img = plt.imshow(Xapproxs, aspect='auto', interpolation='none',cmap='gray')#looks clear with 'prism' colormap\n",
    "plt.show()"
   ]
  },
  {
   "cell_type": "code",
   "execution_count": 83,
   "id": "10720c75",
   "metadata": {},
   "outputs": [],
   "source": [
    "################################\n",
    "# Reporting. Do not modify.#####\n",
    "result['fig6'] = fig6    # 6 points\n",
    "################################"
   ]
  },
  {
   "cell_type": "markdown",
   "id": "8edaa509",
   "metadata": {},
   "source": [
    "# 7) Plot the compressed images for $\\rho=2$, $\\rho=5$, $\\rho=50$\n",
    "\n",
    "Plot each one with `ax[i].imshow` with `i` varying from 0 to 2, so that the images appear in a row."
   ]
  },
  {
   "cell_type": "code",
   "execution_count": 84,
   "id": "0b02b385",
   "metadata": {},
   "outputs": [
    {
     "data": {
      "image/png": "[encoded data removed]",
      "text/plain": [
       "<Figure size 576x360 with 3 Axes>"
      ]
     },
     "metadata": {
      "needs_background": "light"
     },
     "output_type": "display_data"
    }
   ],
   "source": [
    "fig7, ax = plt.subplots(figsize=(8,5),nrows=1,ncols=3)\n",
    "rho=[2,5,50]\n",
    "for i in range (len(rho)):\n",
    "    xcompressed = U [:,:rho[i]] @ S [:rho[i],:rho[i]] @ Vt [:rho[i],:]\n",
    "    ax[i].imshow(xcompressed,cmap='gray')#looks clear with 'prism' colormap\n",
    "plt.show()"
   ]
  },
  {
   "cell_type": "code",
   "execution_count": 85,
   "id": "7aa84926",
   "metadata": {},
   "outputs": [],
   "source": [
    "################################\n",
    "# Reporting. Do not modify.#####\n",
    "result['fig7'] = fig7    # 6 points\n",
    "################################"
   ]
  },
  {
   "cell_type": "markdown",
   "id": "5fee6506",
   "metadata": {},
   "source": [
    "# 8) Plot the sum of the first $\\rho$ singular values as a function of $\\rho$\n",
    "\n",
    "Hint: [np.cumsum()](https://numpy.org/doc/stable/reference/generated/numpy.cumsum.html)"
   ]
  },
  {
   "cell_type": "code",
   "execution_count": 86,
   "id": "75d1ff54",
   "metadata": {},
   "outputs": [
    {
     "data": {
      "image/png": "[encoded data removed]",
      "text/plain": [
       "<Figure size 720x360 with 1 Axes>"
      ]
     },
     "metadata": {
      "needs_background": "light"
     },
     "output_type": "display_data"
    }
   ],
   "source": [
    "fig8 = plt.figure(figsize=(10,5))\n",
    "rplot = s.shape [0]\n",
    "rnum = np.linspace (1,160,160)\n",
    "cumr = np.cumsum(s)\n",
    "plt.plot(rnum, cumr)\n",
    "plt.show()"
   ]
  },
  {
   "cell_type": "code",
   "execution_count": 87,
   "id": "fd4f6263",
   "metadata": {},
   "outputs": [],
   "source": [
    "################################\n",
    "# Reporting. Do not modify.#####\n",
    "result['fig8'] = fig8    # 6 points\n",
    "################################"
   ]
  },
  {
   "cell_type": "markdown",
   "id": "efcc64a2",
   "metadata": {},
   "source": [
    "# 9) How many columns should be kept to preserve 90% of the total sum of singular values?\n",
    "Record your answer as `cols90`"
   ]
  },
  {
   "cell_type": "code",
   "execution_count": 88,
   "id": "ef4dc9fd",
   "metadata": {},
   "outputs": [],
   "source": [
    "cols90 = list(cumr<0.9*cumr[-1]).index(False) + 1"
   ]
  },
  {
   "cell_type": "code",
   "execution_count": 92,
   "id": "7a61a5cd",
   "metadata": {},
   "outputs": [],
   "source": [
    "################################\n",
    "# Reporting. Do not modify.#####\n",
    "result['cols90'] = cols90  # 4 points\n",
    "################################"
   ]
  },
  {
   "cell_type": "markdown",
   "id": "0658493a",
   "metadata": {},
   "source": [
    "---\n",
    "## Do not modify below this"
   ]
  },
  {
   "cell_type": "code",
   "execution_count": 91,
   "id": "57a3b275",
   "metadata": {},
   "outputs": [],
   "source": [
    "with open('hw3_prob1_{}.pickle'.format(result['SID']),'wb') as file:\n",
    "    pickle.dump(result,file)"
   ]
  },
  {
   "cell_type": "code",
   "execution_count": null,
   "id": "a88eaf7e-c92a-4f59-90fa-6884d898c4e7",
   "metadata": {},
   "outputs": [],
   "source": []
  }
 ],
 "metadata": {
  "kernelspec": {
   "display_name": "Python 3 (ipykernel)",
   "language": "python",
   "name": "python3"
  },
  "language_info": {
   "codemirror_mode": {
    "name": "ipython",
    "version": 3
   },
   "file_extension": ".py",
   "mimetype": "text/x-python",
   "name": "python",
   "nbconvert_exporter": "python",
   "pygments_lexer": "ipython3",
   "version": "3.7.13"
  }
 },
 "nbformat": 4,
 "nbformat_minor": 5
}
