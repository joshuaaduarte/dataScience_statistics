{
 "cells": [
  {
   "cell_type": "markdown",
   "id": "b56098bc-8520-4ac3-bbe5-4d49925b80d3",
   "metadata": {},
   "source": [
    "## Homework One\n",
    "### Completed By: Joshua Duarte"
   ]
  },
  {
   "cell_type": "markdown",
   "id": "8aa319e0-2f66-47df-9ab1-4015d5ab17b0",
   "metadata": {},
   "source": [
    "### Problem 1 (15 points)  \n",
    "Find whether the following are valid PDFs. Note: You may do the proofs by hand, or you may use a symbolic calculator / code. If you use a computer or calculator, please include a screenshot of the code. Also, plots of the function over the sample space can be used to show positivity.  \n",
    "(a) p(x) = 1/2 cos(x) , Ω = [−π/2,π/2]  \n",
    "(b) p(x) = 1/(1 + e−x) , Ω = R  \n",
    "(c) p(x) = 1/3 x^3 , Ω = [0,1]  \n",
    "(d) p(x) = 1/x , Ω = N (the natural numbers {1,2,3,...})  \n",
    "(e) p(x) = 2^(−x) , Ω = N  "
   ]
  },
  {
   "cell_type": "markdown",
   "id": "bb9db9e7-bf61-4043-887c-4f4d91ab3309",
   "metadata": {},
   "source": [
    "### Problem 2 (4+4+4+1 points)  \n",
    "Consider the function f : R2 →R,  \n",
    "f(x1,x2) = x31/3 −4x1 + x32/3 − 16x2\n",
    "(a) Find the set of stationary points of f.  \n",
    "(b) Determine which of these stationary points are local maxima and local minima.  \n",
    "(c) Plot the function using one of Matplotlib’s surface plotters (plot surface, plot wireframe, or plot trisurf). Indicate in the plot the stationary points and extrema of the function.  \n",
    "(d) What is the solution of the problem: maximize f(x1,x2) over R2?  "
   ]
  },
  {
   "cell_type": "markdown",
   "id": "898efc73-b221-4c29-8001-683348455ca3",
   "metadata": {},
   "source": [
    "### Problem 3 (2+2+3+3 points)  \n",
    "A study of washing machines found their lifetime T to follow an exponential distribution:\n",
    "pT (t) = 0.1e−0.1t\n",
    "with t measured in years.  \n",
    "(a) What is the mean lifetime of washing machines?  \n",
    "(b) What is the standard deviation?  \n",
    "(c) What percentage of washing machine are expected to fail in 10 years?  \n",
    "(d) What is the median life of washing machines?  \n"
   ]
  },
  {
   "cell_type": "markdown",
   "id": "9415e5ba-a113-4d8a-84ac-afa06a366cc9",
   "metadata": {},
   "source": [
    "### Problem 4 (2+3+3 points)  \n",
    "Measurements are made of the length L and width W of a rectangular component. As-\n",
    "sume that L ∼ U(9.95,10.05) and W ∼ U(4.9,5.1), and that they are independent random\n",
    "variables.  \n",
    "(a) Find P(L < 9.98)    \n",
    "(b) Draw the region in the LW plane corresponding to the event (L∈[9.96,9.98] ∩ W ∈[5.0,5.05]) and compute its probability.  \n",
    "(c) Draw the region in the LW plane corresponding to the event (L∈[9.96,9.98] ∪ W ∈[5.0,5.05]) and compute its probability.  "
   ]
  },
  {
   "cell_type": "markdown",
   "id": "525aef88-43dc-401c-9af0-d6133d5ae878",
   "metadata": {},
   "source": [
    "### Problem 5 (3 points)  \n",
    "Certain pipes are specified to have a roughness coefficient of between 0.2 and 0.3. The manufacturing process is known produce pipes with normally distributed roughnesses with mean 0.25 and a standard deviation of 0.03. What percentage of pipes is expected to meet the specification?   \n",
    "Hint: stats.norm"
   ]
  }
 ],
 "metadata": {
  "kernelspec": {
   "display_name": "Python 3 (ipykernel)",
   "language": "python",
   "name": "python3"
  },
  "language_info": {
   "codemirror_mode": {
    "name": "ipython",
    "version": 3
   },
   "file_extension": ".py",
   "mimetype": "text/x-python",
   "name": "python",
   "nbconvert_exporter": "python",
   "pygments_lexer": "ipython3",
   "version": "3.9.15"
  }
 },
 "nbformat": 4,
 "nbformat_minor": 5
}
