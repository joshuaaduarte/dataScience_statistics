{
 "cells": [
  {
   "cell_type": "markdown",
   "id": "4d1a660b",
   "metadata": {},
   "source": [
    "---\n",
    "# <center><font color=purple>[Matplotlib](https://matplotlib.org/)</font> </center>\n",
    "\n",
    "### <center>Plots</center>\n",
    "\n",
    "\n",
    "---\n",
    "+ Matplotlib designed to be Matlab-like.\n",
    "+ main package: `pyplot`\n",
    "+ [Tutorial](https://matplotlib.org/tutorials/introductory/pyplot.html)\n",
    "+ [Types of plots](https://matplotlib.org/gallery/index.html)\n",
    "\n",
    "## Standard import statement ([pyplot](https://matplotlib.org/api/_as_gen/matplotlib.pyplot.html#module-matplotlib.pyplot))"
   ]
  },
  {
   "cell_type": "code",
   "execution_count": null,
   "id": "dc90f55d",
   "metadata": {},
   "outputs": [],
   "source": [
    "import matplotlib.pyplot as plt\n",
    "import numpy as np"
   ]
  },
  {
   "cell_type": "markdown",
   "id": "7c279405",
   "metadata": {},
   "source": [
    "---\n",
    "# <center> <font color=darkgreen>Figures and axes</font>  </center>\n",
    "---"
   ]
  },
  {
   "cell_type": "markdown",
   "id": "c592418d",
   "metadata": {},
   "source": [
    "<img src=\"figure_axes.png\" width=\"300\">"
   ]
  },
  {
   "cell_type": "markdown",
   "id": "9680825f",
   "metadata": {},
   "source": [
    "Create a figure with [`plt.figure()`](https://matplotlib.org/api/_as_gen/matplotlib.pyplot.figure.html#matplotlib.pyplot.figure) and axes with [`plt.subplot`](https://matplotlib.org/api/_as_gen/matplotlib.pyplot.subplot.html#matplotlib.pyplot.subplot). \n",
    "\n",
    "+ Use `figsize` to control the size of the figure."
   ]
  },
  {
   "cell_type": "code",
   "execution_count": null,
   "id": "96c07b72",
   "metadata": {},
   "outputs": [],
   "source": [
    "fig = plt.figure(figsize=(12,4))\n",
    "ax1 = plt.subplot(221)\n",
    "ax2 = plt.subplot(222)\n",
    "ax3 = plt.subplot(223)\n",
    "ax4 = plt.subplot(224)"
   ]
  },
  {
   "cell_type": "markdown",
   "id": "baa23368",
   "metadata": {},
   "source": [
    "\n"
   ]
  },
  {
   "cell_type": "markdown",
   "id": "223ed3fc",
   "metadata": {},
   "source": [
    "---\n",
    "# <center> <font color=darkgreen>Line plots</font>  </center>\n",
    "---"
   ]
  },
  {
   "cell_type": "code",
   "execution_count": null,
   "id": "ba77a886",
   "metadata": {},
   "outputs": [],
   "source": [
    "# create a figure with a single Axes\n",
    "fig = plt.figure(figsize=(10,4))\n",
    "\n",
    "# data\n",
    "x = np.linspace(0,2*np.pi,20)\n",
    "y = np.sin(x)\n",
    "\n",
    "print(len(x))\n",
    "\n",
    "# plot it on the axes\n",
    "plt.plot(x, y)"
   ]
  },
  {
   "cell_type": "markdown",
   "id": "e6430cf6",
   "metadata": {},
   "source": [
    "## Configuring the axes: [`set()`](https://matplotlib.org/3.2.2/api/_as_gen/matplotlib.axes.Axes.set.html#examples-using-matplotlib-axes-axes-set)\n",
    "\n",
    "Pass keyword arguments such as: `xlabel`, `ylabel`, `xlim`, `ylim`, `title`\n",
    "        "
   ]
  },
  {
   "cell_type": "markdown",
   "id": "0ce9c921",
   "metadata": {},
   "source": [
    "## Example: `subplots()`, `set_*()`, `grid()`, `legend()`."
   ]
  },
  {
   "cell_type": "code",
   "execution_count": null,
   "id": "2612b2a1",
   "metadata": {},
   "outputs": [],
   "source": [
    "# this is a shortcut for creating the figure and axes at the same time.\n",
    "fig = plt.figure(figsize=(10,4))\n",
    "\n",
    "# plot returen a list of Line2D objects\n",
    "line = plt.plot(x,np.sin(x))\n",
    "\n",
    "# explore the set_ methods\n",
    "line[0].set_linewidth(8)\n",
    "line[0].set_linestyle(':')\n",
    "line[0].set_color('r')\n",
    "\n",
    "# add a grid\n",
    "plt.grid()\n",
    "\n",
    "# add a legend -- note that it takes a list!\n",
    "plt.legend(['This is the legend.'])"
   ]
  },
  {
   "cell_type": "markdown",
   "id": "62a18d8e",
   "metadata": {},
   "source": [
    "## Example: Using [keyword arguments](https://matplotlib.org/3.1.3/api/_as_gen/matplotlib.axes.Axes.plot.html) instead of `set_`"
   ]
  },
  {
   "cell_type": "code",
   "execution_count": null,
   "id": "a86b76c7",
   "metadata": {},
   "outputs": [],
   "source": [
    "# this is a shortcut for creating the figure and axes at the same time.\n",
    "fig = plt.figure(figsize=(10,4))\n",
    "\n",
    "# plot returen a list of Line2D objects\n",
    "plt.plot(x,np.sin(x),label='sine',linewidth=3,linestyle='--',color='r')\n",
    "\n",
    "# add a grid\n",
    "plt.grid()\n",
    "\n",
    "# add a legend -- note that it takes a list!\n",
    "plt.legend()"
   ]
  },
  {
   "cell_type": "markdown",
   "id": "ee113f03",
   "metadata": {},
   "source": [
    "---\n",
    "## <center><font color=dark> >> 3-minute challenge << </font></center>\n",
    "---\n",
    "\n",
    "+ Copy the code from the previous cell.\n",
    "+ Add a second line, for the cosine, in blue.\n",
    "+ Add a legend item for the cosine."
   ]
  },
  {
   "cell_type": "code",
   "execution_count": null,
   "id": "cb59d81a",
   "metadata": {},
   "outputs": [],
   "source": []
  },
  {
   "cell_type": "markdown",
   "id": "1cce8601",
   "metadata": {},
   "source": [
    "## Example: Markers"
   ]
  },
  {
   "cell_type": "code",
   "execution_count": null,
   "id": "d04fdea0",
   "metadata": {},
   "outputs": [],
   "source": [
    "fig = plt.figure(figsize=(10,4))\n",
    "plt.plot(x,np.sin(x),color='r',marker='o',label='sine')\n",
    "plt.plot(x,np.cos(x),color='b',marker='+',label='cosine')  \n",
    "\n",
    "plt.grid()\n",
    "plt.legend()"
   ]
  },
  {
   "cell_type": "markdown",
   "id": "4b72c246",
   "metadata": {},
   "source": [
    "## Example: Markers only (`linestyle='none'`)"
   ]
  },
  {
   "cell_type": "code",
   "execution_count": null,
   "id": "73276ccb",
   "metadata": {},
   "outputs": [],
   "source": [
    "fig = plt.figure(figsize=(10,4))\n",
    "\n",
    "x = np.linspace(0,10)\n",
    "y_clean = np.cos(x)\n",
    "y_noisy = y_clean + np.random.normal(0,.3,50)\n",
    "\n",
    "plt.plot(x,y_clean,label='average', color='m', linewidth=2)\n",
    "plt.plot(x,y_noisy,label='samples', color='b', linestyle='none',marker='o',markersize=4)\n",
    "\n",
    "plt.grid()\n",
    "plt.legend()"
   ]
  },
  {
   "cell_type": "markdown",
   "id": "5ed813e0",
   "metadata": {},
   "source": [
    "**Note**: You can also use [`scatter()`](https://matplotlib.org/3.1.3/api/_as_gen/matplotlib.pyplot.scatter.html#matplotlib.pyplot.scatter) for this."
   ]
  },
  {
   "cell_type": "markdown",
   "id": "596d6527",
   "metadata": {},
   "source": [
    "---\n",
    "# <center> <font color=darkgreen>Histograms [`hist()`](https://matplotlib.org/3.1.3/api/_as_gen/matplotlib.axes.Axes.hist.html)</font>  </center>\n",
    "---\n"
   ]
  },
  {
   "cell_type": "code",
   "execution_count": null,
   "id": "8733b801",
   "metadata": {},
   "outputs": [],
   "source": [
    "import random\n",
    "my_data = [random.gauss(0,1) for i in range(400)]\n",
    "\n",
    "fig = plt.figure(figsize=(10,4))\n",
    "plt.hist(my_data,100)\n",
    "plt.grid()"
   ]
  },
  {
   "cell_type": "markdown",
   "id": "72cf53a6",
   "metadata": {},
   "source": [
    "---\n",
    "# <center> <font color=darkgreen>Bar plots [`bar()`](https://matplotlib.org/3.1.3/api/_as_gen/matplotlib.pyplot.bar.html#matplotlib.pyplot.bar)</font>  </center>\n",
    "---\n"
   ]
  },
  {
   "cell_type": "code",
   "execution_count": null,
   "id": "db0564cc",
   "metadata": {},
   "outputs": [],
   "source": [
    "state_population = {\n",
    "    'California':39_512_223,\n",
    "    'Texas':28_995_881,\n",
    "    'Florida':21477737,\n",
    "    'New York':19453561,\n",
    "    'Pennsylvania':12801989,\n",
    "    'Illinois':12671821,\n",
    "    'Ohio':11689100,\n",
    "    'Georgia':10617423,\n",
    "    'North Carolina':10488084 }\n",
    "\n",
    "\n",
    "fig = plt.figure(figsize=(12,5))\n",
    "plt.bar(state_population.keys(),state_population.values())\n",
    "plt.ylabel('population (tens of millions)',fontsize=16)\n",
    "plt.title('US largest states',fontsize=20)\n",
    "plt.grid()"
   ]
  },
  {
   "cell_type": "markdown",
   "id": "b7b308b1",
   "metadata": {},
   "source": [
    "---\n",
    "# <center> <font color=darkgreen>Save the figure: [`savefig()`](https://matplotlib.org/3.3.2/api/_as_gen/matplotlib.pyplot.savefig.html) </font>  </center>\n",
    "---"
   ]
  },
  {
   "cell_type": "code",
   "execution_count": null,
   "id": "a9192eff",
   "metadata": {},
   "outputs": [],
   "source": [
    "my_data = [random.gauss(0,1) for i in range(400)]\n",
    "\n",
    "fig = plt.figure(figsize=(10,4))\n",
    "plt.hist(my_data,30)\n",
    "plt.grid()\n",
    "\n",
    "from pathlib import Path\n",
    "filename = str(Path.home()) + '/myfig.png'\n",
    "\n",
    "print(filename)\n",
    "plt.savefig(filename)"
   ]
  }
 ],
 "metadata": {
  "kernelspec": {
   "display_name": "Python 3 (ipykernel)",
   "language": "python",
   "name": "python3"
  },
  "language_info": {
   "codemirror_mode": {
    "name": "ipython",
    "version": 3
   },
   "file_extension": ".py",
   "mimetype": "text/x-python",
   "name": "python",
   "nbconvert_exporter": "python",
   "pygments_lexer": "ipython3",
   "version": "3.9.15"
  }
 },
 "nbformat": 4,
 "nbformat_minor": 5
}
