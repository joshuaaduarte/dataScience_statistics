{
 "cells": [
  {
   "cell_type": "markdown",
   "id": "5d5637e6",
   "metadata": {},
   "source": [
    "---\n",
    "\n",
    "# <center> <font color=darkgreen>Iterables</font>  </center>\n",
    "\n",
    "---\n",
    "\n",
    "<img src=\"data_types.png\" width=\"500\">\n",
    "\n",
    "---"
   ]
  },
  {
   "cell_type": "markdown",
   "id": "6f39528e",
   "metadata": {},
   "source": [
    "Iterable types in Python contain sets of elements. There are\n",
    "+ **string** - ordered sequence of characters\n",
    "+ **set** - sets of unique objects\n",
    "+ **tuple** - immutable ordered sets of objects\n",
    "+ **list** - mutable ordered sets of objects\n",
    "+ **dictionary** - mutable sets of key/value pairs.\n",
    "\n",
    "We will study each of these, but first we will look at built-in functions that apply to iterables in general."
   ]
  },
  {
   "cell_type": "markdown",
   "id": "7e8d36e9",
   "metadata": {},
   "source": [
    "## Checking membership:  `in` and `not in`\n",
    "\n",
    "`a in A` evaluates to `True` if `a` is an element of the iterable `A`, and `False` otherwise. \n",
    "\n",
    "You can also use `a not in A` to get the opposite behavior.\n",
    "\n",
    "In the following example, `A` is a list."
   ]
  },
  {
   "cell_type": "code",
   "execution_count": null,
   "id": "3b6e9bf3",
   "metadata": {},
   "outputs": [],
   "source": []
  },
  {
   "cell_type": "markdown",
   "id": "3ded4b32",
   "metadata": {},
   "source": [
    "## Unpacking\n",
    "\n",
    "Unpacking is a shorthand syntax for assigning each of the elements of an iterable to different scalar variables. "
   ]
  },
  {
   "cell_type": "code",
   "execution_count": null,
   "id": "d733aa5b",
   "metadata": {},
   "outputs": [],
   "source": []
  },
  {
   "cell_type": "markdown",
   "id": "cf86b6ff",
   "metadata": {},
   "source": [
    "**Question**: What do you think happens if the number of variable names does not match the number of elements in the iterable?"
   ]
  },
  {
   "cell_type": "markdown",
   "id": "542fc224",
   "metadata": {},
   "source": [
    "---\n",
    "# <center> <font color=darkgreen> Indexing iterables</font>  </center>\n",
    "---\n",
    "\n",
    "+ Strings, tuples, and lists are **ordered iterables**. \n",
    "\n",
    "+ Indexing is **0-based** and uses square brackets `[]`.\n",
    "\n",
    "+ Sets and dictionaries are not ordered. Therefore they cannot be indexed."
   ]
  },
  {
   "cell_type": "markdown",
   "id": "a870ed1f",
   "metadata": {},
   "source": [
    "**Example** : Index a string"
   ]
  },
  {
   "cell_type": "code",
   "execution_count": null,
   "id": "130ec974",
   "metadata": {},
   "outputs": [],
   "source": [
    "astring = 'Food is an important part of a balanced diet - Fran Lebowitz'"
   ]
  },
  {
   "cell_type": "markdown",
   "id": "712e904f",
   "metadata": {},
   "source": [
    "**Example** : Index a list"
   ]
  },
  {
   "cell_type": "code",
   "execution_count": null,
   "id": "8ae54d5e",
   "metadata": {},
   "outputs": [],
   "source": []
  },
  {
   "cell_type": "markdown",
   "id": "4a0fd104",
   "metadata": {},
   "source": [
    "**Example** : Index a tuple"
   ]
  },
  {
   "cell_type": "code",
   "execution_count": null,
   "id": "76836701",
   "metadata": {},
   "outputs": [],
   "source": []
  },
  {
   "cell_type": "markdown",
   "id": "6265cf13",
   "metadata": {},
   "source": [
    "**Lists are mutable, tuples and strings are not**"
   ]
  },
  {
   "cell_type": "code",
   "execution_count": null,
   "id": "58e21a2a",
   "metadata": {},
   "outputs": [],
   "source": []
  },
  {
   "cell_type": "markdown",
   "id": "16481649",
   "metadata": {},
   "source": [
    "## Slice indexing\n",
    "+ You can get a 'slice' of an iterable using the colon symbol `:`\n",
    "+ This returns a new iterable that is a portion of the original object.\n",
    "+ `astring[a:b]` is the substring starting at index `a` and ending at `b-1`."
   ]
  },
  {
   "cell_type": "code",
   "execution_count": null,
   "id": "64d4f409",
   "metadata": {},
   "outputs": [],
   "source": []
  },
  {
   "cell_type": "markdown",
   "id": "95260f01",
   "metadata": {},
   "source": [
    "+ Leaving out the start index means 'from the beginning'\n",
    "+ Leaving out the end index means 'to the end'"
   ]
  },
  {
   "cell_type": "code",
   "execution_count": null,
   "id": "906154d7",
   "metadata": {},
   "outputs": [],
   "source": []
  },
  {
   "cell_type": "markdown",
   "id": "1f54c86f",
   "metadata": {},
   "source": [
    "## Negative indices\n",
    "Negative indices count backward from the end."
   ]
  },
  {
   "cell_type": "code",
   "execution_count": null,
   "id": "287861ac",
   "metadata": {},
   "outputs": [],
   "source": []
  },
  {
   "cell_type": "markdown",
   "id": "69e3a990",
   "metadata": {},
   "source": [
    "## Skipping values\n",
    "\n",
    "You can specify a \"skip\" value after a second colon: `A[start:end:skip]`"
   ]
  },
  {
   "cell_type": "code",
   "execution_count": null,
   "id": "28b1bd41",
   "metadata": {},
   "outputs": [],
   "source": [
    "A = [0,1,2,3,4,5,6,7,8,9]\n",
    "\n",
    "# What will this return?\n",
    "A[0:5:3]"
   ]
  },
  {
   "cell_type": "markdown",
   "id": "c72c82c6",
   "metadata": {},
   "source": [
    "---\n",
    "# <center> <font color=darkgreen>[Strings methods](https://docs.python.org/3/library/stdtypes.html#string-methods)</font>  </center>\n",
    "---\n",
    "\n",
    "Things we can do with strings,\n",
    "+ create them,\n",
    "+ change cases in various ways,\n",
    "+ search for a substring,\n",
    "+ split strings,\n",
    "+ etc."
   ]
  },
  {
   "cell_type": "code",
   "execution_count": null,
   "id": "cba6052e",
   "metadata": {},
   "outputs": [],
   "source": [
    "strA = 'ABC'\n",
    "strB = '123'\n",
    "\n",
    "strB.lower()"
   ]
  },
  {
   "cell_type": "markdown",
   "id": "b12c4c5c",
   "metadata": {},
   "source": [
    "## String `+`"
   ]
  },
  {
   "cell_type": "code",
   "execution_count": null,
   "id": "7f17d4f4",
   "metadata": {},
   "outputs": [],
   "source": []
  },
  {
   "cell_type": "markdown",
   "id": "54bfb266",
   "metadata": {},
   "source": [
    "## Formatting strings - [`.format()`](https://docs.python.org/3/library/stdtypes.html#str.format)\n",
    "\n",
    "The `format()` method is especially useful for building strings that involve numerical or other variables. The function is powerful, and you can find advanced examples [here](https://docs.python.org/3/library/string.html\\#format-examples). However the simple form works most of the time. Here is an example.\n",
    "\n",
    "### Example: \"Johann Sebastian Bach was born in 1685, and died in 1750.\""
   ]
  },
  {
   "cell_type": "code",
   "execution_count": null,
   "id": "55aeec79",
   "metadata": {},
   "outputs": [],
   "source": [
    "name = 'Johann Sebastian Bach'\n",
    "birth_year = 1685\n",
    "death_year = 1750\n",
    "\n",
    "# using the 'format' method\n",
    "str1 = '{0} was born in {1}, and died in {2}.'.format(name, birth_year, death_year)\n",
    "\n",
    "print(str1)\n",
    "\n",
    "# \"f-string\" method\n",
    "str2 = f'{name} was born in {birth_year}, and died in {death_year}.'\n",
    "\n",
    "print(str2)"
   ]
  },
  {
   "cell_type": "markdown",
   "id": "7b5d1209",
   "metadata": {},
   "source": [
    "### `.split()`"
   ]
  },
  {
   "cell_type": "code",
   "execution_count": null,
   "id": "a95f7c70",
   "metadata": {},
   "outputs": [],
   "source": [
    "a = '1,phone,None,-4.5,'"
   ]
  },
  {
   "cell_type": "markdown",
   "id": "48346e12",
   "metadata": {},
   "source": [
    "---\n",
    "## <center><font color=dark> >> 5-minute challenge << </font></center>\n",
    "---\n",
    "Use `split` to extract the name of the author in `astring`."
   ]
  },
  {
   "cell_type": "code",
   "execution_count": null,
   "id": "7049d65d",
   "metadata": {},
   "outputs": [],
   "source": [
    "print(astring)"
   ]
  },
  {
   "cell_type": "markdown",
   "id": "dc90eccd",
   "metadata": {},
   "source": [
    "---\n",
    "# <center> <font color=darkgreen>Lists: `[]` </font>  </center>\n",
    "---\n",
    "A **list** is a sequence of objects that is:\n",
    "+ **ordered**: They can be indexed with `[]`.\n",
    "+ **inhomogeneous**: They can contain a variety of object types.\n",
    "+ **mutable**: You can modify them by adding and/or deleting items after they are created."
   ]
  },
  {
   "cell_type": "code",
   "execution_count": null,
   "id": "6d3a4a7e",
   "metadata": {},
   "outputs": [],
   "source": []
  },
  {
   "cell_type": "markdown",
   "id": "73f0d39c",
   "metadata": {},
   "source": [
    "## [List methods](https://docs.python.org/3/tutorial/datastructures.html#more-on-lists)\n",
    "\n",
    "The methods attached to list objects provide functionality for adding, removing, and changing the order of the elements in a list. "
   ]
  },
  {
   "cell_type": "markdown",
   "id": "53ff3f30",
   "metadata": {},
   "source": [
    "## Building lists\n",
    "\n",
    "The `append`, `extend`, and `insert` methods can be used to populate a list. Later we will learn about \"list comprehensions\" which give us a compact syntax for building large lists (as well as sets and dictionaries)."
   ]
  },
  {
   "cell_type": "markdown",
   "id": "3e8f1abb",
   "metadata": {},
   "source": [
    "### `.append()` Puts a value at the end of the list."
   ]
  },
  {
   "cell_type": "markdown",
   "id": "20785220",
   "metadata": {},
   "source": [
    "### `.extend()` Appends each value of an iterable to the list."
   ]
  },
  {
   "cell_type": "markdown",
   "id": "ee79c3d6",
   "metadata": {},
   "source": [
    "### `.insert` Inserts an element at a given location in the list."
   ]
  },
  {
   "cell_type": "markdown",
   "id": "a3725a85",
   "metadata": {},
   "source": [
    "## Removing items from lists\n",
    "\n",
    "### `.remove()` Remove the first instance of a given object."
   ]
  },
  {
   "cell_type": "markdown",
   "id": "dd6b250a",
   "metadata": {},
   "source": [
    "### `.pop()` Extract the item at a given index and return it."
   ]
  },
  {
   "cell_type": "markdown",
   "id": "e734ba4d",
   "metadata": {},
   "source": [
    "### `del`\n",
    "Remove an item at a given index."
   ]
  },
  {
   "cell_type": "code",
   "execution_count": null,
   "id": "7b067aea",
   "metadata": {},
   "outputs": [],
   "source": [
    "a=[4,1,9]"
   ]
  },
  {
   "cell_type": "markdown",
   "id": "f48d2069",
   "metadata": {},
   "source": [
    "### `.clear()` Remove all items from the list."
   ]
  },
  {
   "cell_type": "code",
   "execution_count": null,
   "id": "a7801f5e",
   "metadata": {},
   "outputs": [],
   "source": []
  },
  {
   "cell_type": "markdown",
   "id": "d6e0a4e8",
   "metadata": {},
   "source": [
    "---\n",
    "## <center><font color=dark> >> 5-minute challenge << </font></center> \n",
    "---\n",
    "1. Create this list: [4,1,9]\n",
    "2. Use list object methods to put it in reverse order: [9,4,1]\n",
    "\n",
    "**HINT**: `help(a.sort)` and`help(a.reverse)` "
   ]
  },
  {
   "cell_type": "markdown",
   "id": "6595d276",
   "metadata": {},
   "source": [
    "---\n",
    "# <center> <font color=darkgreen>[Tuples](https://docs.python.org/3/tutorial/datastructures.html#tuples-and-sequences): `()`</font>  </center>\n",
    "---\n",
    "\n",
    "A **tuple** is a sequence of objects that is:\n",
    "+ **ordered**\n",
    "+ **inhomogeneous**\n",
    "+ **mutable**\n",
    "\n",
    "Tuples offer only 2 methods: `count()` and `index()`.\n",
    "\n",
    "### Why use a *tuple* instead of a *list*?\n",
    "\n",
    "+ return values from functions\n",
    "+ keys in dictionaries"
   ]
  },
  {
   "cell_type": "code",
   "execution_count": null,
   "id": "97db264e",
   "metadata": {},
   "outputs": [],
   "source": []
  },
  {
   "cell_type": "markdown",
   "id": "d7717bd8",
   "metadata": {},
   "source": [
    "\n",
    "---\n",
    "# <center> <font color=darkgreen>[Sets](https://docs.python.org/3/tutorial/datastructures.html#sets): `{}`</font>  </center>\n",
    "---\n",
    "\n",
    "A **set** is a sequence of objects that is:\n",
    "+ **inhomogeneous**\n",
    "+ **not ordered**\n",
    "+ **mutable**\n",
    "+ **contains no duplicates**\n"
   ]
  },
  {
   "cell_type": "code",
   "execution_count": null,
   "id": "7d8c9027",
   "metadata": {},
   "outputs": [],
   "source": []
  },
  {
   "cell_type": "markdown",
   "id": "bc800028",
   "metadata": {},
   "source": [
    "---\n",
    "## <center><font color=dark> >> 5-minute challenge << </font></center> \n",
    "---\n",
    "\n",
    "Use a `set` to count the number of unique words in the following paragraph.\n",
    "\n",
    "X = \"Python is an easy to learn, powerful programming language. It has efficient high-level data structures and a simple but effective approach to object-oriented programming. Python’s elegant syntax and dynamic typing, together with its interpreted nature, make it an ideal language for scripting and rapid application development in many areas on most platforms. The Python interpreter and the extensive standard library are freely available in source or binary form for all major platforms from the Python Web site, https://www.python.org/, and may be freely distributed. The same site also contains distributions of and pointers to many free third party Python modules, programs and tools, and additional documentation.\""
   ]
  },
  {
   "cell_type": "code",
   "execution_count": null,
   "id": "6d1589b0",
   "metadata": {},
   "outputs": [],
   "source": [
    "X = \"Python is an easy to learn, powerful programming language. It has efficient high-level data structures and a simple but effective approach to object-oriented programming. Python’s elegant syntax and dynamic typing, together with its interpreted nature, make it an ideal language for scripting and rapid application development in many areas on most platforms. The Python interpreter and the extensive standard library are freely available in source or binary form for all major platforms from the Python Web site, https://www.python.org/, and may be freely distributed. The same site also contains distributions of and pointers to many free third party Python modules, programs and tools, and additional documentation.\"\n",
    "\n",
    "words = X.split(' ')\n",
    "unique_words = set(words)\n",
    "\n",
    "print(len(words))"
   ]
  },
  {
   "cell_type": "markdown",
   "id": "00f2bca8",
   "metadata": {},
   "source": [
    "---\n",
    "# <center> <font color=darkgreen>[Dictionaries](https://docs.python.org/3/tutorial/datastructures.html#dictionaries): `{:}`</font>  </center>\n",
    "---\n",
    "A **dictionary** is a mapping from a set of *keys* to a set of *values*.\n",
    "+ The keys in a dictionary must be **immutable** (scalars, strings, tuples). \n",
    "+ The values in a dictionary can be **anything**. \n",
    "+ Dictionaries are created with **curly brackets** and **colons**: { a1:b1 , a2:b2 }"
   ]
  },
  {
   "cell_type": "code",
   "execution_count": null,
   "id": "e94b67d0",
   "metadata": {},
   "outputs": [],
   "source": [
    "JSB = { 'name' : 'Johann Sebastian Bach' ,\n",
    "        'birth_year' : 1685 ,\n",
    "        'death_year' : 1750 }\n",
    "\n",
    "print(JSB)"
   ]
  },
  {
   "cell_type": "markdown",
   "id": "90eaed75",
   "metadata": {},
   "source": [
    "### Querying the dictionary: square brackets"
   ]
  },
  {
   "cell_type": "code",
   "execution_count": null,
   "id": "22f66c75",
   "metadata": {},
   "outputs": [],
   "source": []
  },
  {
   "cell_type": "markdown",
   "id": "332e5c33",
   "metadata": {},
   "source": [
    "### Get the set of keys"
   ]
  },
  {
   "cell_type": "code",
   "execution_count": null,
   "id": "e1c8b925",
   "metadata": {},
   "outputs": [],
   "source": []
  },
  {
   "cell_type": "markdown",
   "id": "0032a7a2",
   "metadata": {},
   "source": [
    "### Change a value"
   ]
  },
  {
   "cell_type": "code",
   "execution_count": null,
   "id": "dc1fca48",
   "metadata": {},
   "outputs": [],
   "source": []
  },
  {
   "cell_type": "markdown",
   "id": "bf9c1884",
   "metadata": {},
   "source": [
    "### Add a new key-value pair"
   ]
  },
  {
   "cell_type": "code",
   "execution_count": null,
   "id": "592822f7",
   "metadata": {},
   "outputs": [],
   "source": []
  }
 ],
 "metadata": {
  "jupytext": {
   "encoding": "# -*- coding: utf-8 -*-"
  },
  "kernelspec": {
   "display_name": "Python 3 (ipykernel)",
   "language": "python",
   "name": "python3"
  },
  "language_info": {
   "codemirror_mode": {
    "name": "ipython",
    "version": 3
   },
   "file_extension": ".py",
   "mimetype": "text/x-python",
   "name": "python",
   "nbconvert_exporter": "python",
   "pygments_lexer": "ipython3",
   "version": "3.9.15"
  }
 },
 "nbformat": 4,
 "nbformat_minor": 5
}
