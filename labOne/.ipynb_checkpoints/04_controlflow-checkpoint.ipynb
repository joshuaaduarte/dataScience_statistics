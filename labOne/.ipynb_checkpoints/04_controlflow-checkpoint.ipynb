{
 "cells": [
  {
   "cell_type": "markdown",
   "id": "7ff80d5d",
   "metadata": {},
   "source": [
    "---\n",
    "# <center><font color=purple>[Control flow](https://docs.python.org/3/tutorial/controlflow.html)</font> </center>\n",
    "\n",
    " <center> if statements and loops </center>\n",
    "\n",
    "---\n",
    "\n",
    "## On the use of whitespace in Python\n",
    "\n",
    "+ Other programming languages (C, C++, Java, Matlab, etc):\n",
    "    + *whitespace* (spaces and tabs) is ignored. \n",
    "    + Blocks of code are demarcated with special symbols (curly brackets in C, C++, Java; 'end' in Matlab, etc.).\n",
    "\n",
    "+ In contrast, Python *indentation levels* to demarcate blocks of code.\n",
    "+ **Consistency** is important.\n",
    "+ Common practice:\n",
    "    + **tab character** or \n",
    "    + **4 white spaces**"
   ]
  },
  {
   "cell_type": "code",
   "execution_count": null,
   "id": "6555b961",
   "metadata": {},
   "outputs": [],
   "source": []
  },
  {
   "cell_type": "markdown",
   "id": "857605ad",
   "metadata": {},
   "source": [
    "---\n",
    "# <center> <font color=darkgreen>[if statements](https://docs.python.org/3/tutorial/controlflow.html#if-statements)</font>  </center>\n",
    "---\n",
    "\n",
    "An *if* statement (or *conditional* statement) determines which of several blocks of code should be executed, depending on the value of a boolean expression. \n",
    "\n",
    "**Syntax**\n",
    "\n",
    "```python\n",
    "if <boolean expression 1>:\n",
    "    <code block 1>\n",
    "elif <boolean expression 2>:\n",
    "    <code block 2>\n",
    "    # ...\n",
    "elif <boolean expression N-1>:\n",
    "    <code block N-1>\n",
    "else:\n",
    "    <code block N>\n",
    "```\n",
    "\n",
    "### Example : Issuing a speeding ticket"
   ]
  },
  {
   "cell_type": "code",
   "execution_count": null,
   "id": "d265984b",
   "metadata": {},
   "outputs": [],
   "source": [
    "speed = 140\n",
    "license_expired = False\n",
    "speed_limit = 120\n",
    "\n",
    "if speed>speed_limit and license_expired:\n",
    "    print(\"You get a big ticket!\")\n",
    "if speed>speed_limit and not license_expired:\n",
    "    print(\"You get a small ticket.\")\n",
    "elif speed < 0:\n",
    "    print(\"Wrong way!\")\n",
    "else:\n",
    "    print(\"Have a nice day!\")"
   ]
  },
  {
   "cell_type": "markdown",
   "id": "75da265d",
   "metadata": {},
   "source": [
    "**Note**:\n",
    "+ The boolean expressions can include `and`, `or`, and `not`.\n",
    "+ At most one code block will be executed. \n",
    "+ Don't forget the `:`"
   ]
  },
  {
   "cell_type": "markdown",
   "id": "609d1983",
   "metadata": {},
   "source": [
    "---\n",
    "## <center><font color=dark> >> 5-minute challenge << </font></center> \n",
    "---\n",
    "\n",
    "Write code that will print whether you are at work or not depending on the day and time. "
   ]
  },
  {
   "cell_type": "code",
   "execution_count": null,
   "id": "2aed93eb",
   "metadata": {},
   "outputs": [],
   "source": [
    "workdays = {\"Sunday\",\"Monday\",\"Tuesday\",\"Wednesday\",\"Thursday\"}\n",
    "start_time = 8\n",
    "end_time = 16\n",
    "\n",
    "day = \"Sunday\"\n",
    "time = 12"
   ]
  },
  {
   "cell_type": "markdown",
   "id": "edc51170",
   "metadata": {},
   "source": [
    "---\n",
    "# <center> <font color=darkgreen>while loops</font>  </center>\n",
    "---\n",
    "\n",
    "A **while** loop executes a block of code as long as a boolean expression evaluates to `True`.\n",
    "\n",
    "`while <boolean expression>:\n",
    "    <code block>\n",
    "`\n",
    "\n",
    "**Example**"
   ]
  },
  {
   "cell_type": "code",
   "execution_count": null,
   "id": "c63f3533",
   "metadata": {},
   "outputs": [],
   "source": []
  },
  {
   "cell_type": "markdown",
   "id": "999f7db8",
   "metadata": {},
   "source": [
    "---\n",
    "# <center> <font color=darkgreen>[for loops](https://docs.python.org/3/tutorial/controlflow.html#for-statements)</font>  </center>\n",
    "---\n",
    "\n",
    "A **for** loop executes the block of code as many times as there are items in a given iterable (set, list, tuple, string, or dict). A variable is assigned successive values from the iterable. If the iterable is non-sequential (i.e. a set or dict), then the order is not guaranteed. \n",
    "\n",
    "```python\n",
    "for <variable> in <iterable>:\n",
    "    <code block>\n",
    "```\n",
    "\n",
    "### Example : iterate through a list"
   ]
  },
  {
   "cell_type": "code",
   "execution_count": null,
   "id": "3a545df2",
   "metadata": {},
   "outputs": [],
   "source": [
    "alist = ('5',9+1j,0.1)"
   ]
  },
  {
   "cell_type": "markdown",
   "id": "149ac566",
   "metadata": {},
   "source": [
    "### Example : iterate through a set"
   ]
  },
  {
   "cell_type": "code",
   "execution_count": null,
   "id": "15750ea5",
   "metadata": {},
   "outputs": [],
   "source": [
    "aset = {'5',9+1j,0.1,0.1,0.1}"
   ]
  },
  {
   "cell_type": "markdown",
   "id": "4154983d",
   "metadata": {},
   "source": [
    "**Note** The order is not necessarily preserved."
   ]
  },
  {
   "cell_type": "markdown",
   "id": "3c8a8f77",
   "metadata": {},
   "source": [
    "### Example : iterate through a tuple"
   ]
  },
  {
   "cell_type": "code",
   "execution_count": null,
   "id": "4bce8f85",
   "metadata": {},
   "outputs": [],
   "source": [
    "atuple = ('5',9+1j,0.1,0.1,0.1)"
   ]
  },
  {
   "cell_type": "markdown",
   "id": "1724024f",
   "metadata": {},
   "source": [
    "### Example : iterate through a dict"
   ]
  },
  {
   "cell_type": "code",
   "execution_count": null,
   "id": "b5282dbb",
   "metadata": {},
   "outputs": [],
   "source": [
    "adict = {0:'5',1:9,2:0.1}"
   ]
  },
  {
   "cell_type": "markdown",
   "id": "c68d033b",
   "metadata": {},
   "source": [
    "**Note**. `adict.items()` returns key/value pairs as tuples."
   ]
  },
  {
   "cell_type": "markdown",
   "id": "edb5ef65",
   "metadata": {},
   "source": [
    "# [`break` and `continue`](https://docs.python.org/3/tutorial/controlflow.html#break-and-continue-statements-and-else-clauses-on-loops)\n",
    "\n",
    "Used within loops (both `for` and `while`).\n",
    "+ `break`: exit the for (or while) loop immediately. \n",
    "+ `continue`: ignore the rest of the block and go on to next iteration."
   ]
  },
  {
   "cell_type": "markdown",
   "id": "69de929d",
   "metadata": {},
   "source": [
    "**Example**: It is common to use `while True:` with a `break` statement."
   ]
  },
  {
   "cell_type": "code",
   "execution_count": null,
   "id": "281d7ca4",
   "metadata": {},
   "outputs": [],
   "source": [
    "x=0\n",
    "while True:\n",
    "    x = x + 0.5\n",
    "    print(x)\n",
    "    if x**2>=9:\n",
    "        break"
   ]
  },
  {
   "cell_type": "markdown",
   "id": "c6734306",
   "metadata": {},
   "source": [
    "# [range](https://docs.python.org/3/library/functions.html#func-range)\n",
    "It is very common to iterate through a uniformly spaced list of numbers. The `range` function (it is actuatlly a type) is useful for this.\n",
    "\n",
    "**Syntax**\n",
    "`range(start,stop,step)`  (step is optional)\n",
    "\n",
    "## Examples"
   ]
  },
  {
   "cell_type": "code",
   "execution_count": null,
   "id": "7816c744",
   "metadata": {},
   "outputs": [],
   "source": [
    "for a in range(0,10,2):\n",
    "    print(a)"
   ]
  },
  {
   "cell_type": "code",
   "execution_count": null,
   "id": "d7bf4604",
   "metadata": {},
   "outputs": [],
   "source": [
    "a = range(4,11,2)\n",
    "list(a)"
   ]
  },
  {
   "cell_type": "code",
   "execution_count": null,
   "id": "1f012323",
   "metadata": {},
   "outputs": [],
   "source": [
    "# Iterate through numbers from 0 to 4"
   ]
  }
 ],
 "metadata": {
  "kernelspec": {
   "display_name": "Python 3 (ipykernel)",
   "language": "python",
   "name": "python3"
  },
  "language_info": {
   "codemirror_mode": {
    "name": "ipython",
    "version": 3
   },
   "file_extension": ".py",
   "mimetype": "text/x-python",
   "name": "python",
   "nbconvert_exporter": "python",
   "pygments_lexer": "ipython3",
   "version": "3.9.15"
  }
 },
 "nbformat": 4,
 "nbformat_minor": 5
}
