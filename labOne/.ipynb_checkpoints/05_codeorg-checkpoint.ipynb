{
 "cells": [
  {
   "cell_type": "markdown",
   "id": "83922605",
   "metadata": {},
   "source": [
    "---\n",
    "# <center><font color=purple>Code organization : Functions, modules, and packages </font> </center>\n",
    "---\n",
    "\n",
    "Now that we have covered the basic syntax of Python, we will begin to learn how to build code to solve interesting problems. Programming is often a group or even community activity, and it is therefore important to write code that is clear and well organized. \n",
    "\n",
    "Here are a few tips.\n",
    "\n",
    "+ Use informative variable names, even if they are a bit longer.\n",
    "`flow_m3perhr` is better than `x`.\n",
    "+ Include lots of *comments*. `#`\n",
    "+ Gather reusable code **functions**. \n",
    "+ Gather functions into **modules**. \n",
    "+ Gather modules into **packages**. "
   ]
  },
  {
   "cell_type": "markdown",
   "id": "a8516d42",
   "metadata": {},
   "source": [
    "---\n",
    "# <center> <font color=darkgreen>Functions</font>  </center>\n",
    "---\n",
    "\n",
    "Functions are the building blocks of your programs. These are chunks of code that depend on some data (the inputs) to produce other data (the outputs).\n",
    "\n",
    "We have already used many functions.\n",
    "\n",
    "Let's now learn how to create our own.\n",
    "\n",
    "# Syntax\n",
    "\n",
    "```python\n",
    "def <name of the function>( <arguments> ):\n",
    "   <body>\n",
    "   return <output>\n",
    "```\n",
    "\n",
    "+ `def` tells Python that what follows is a function.\n",
    "+ The body of the function is indented with respect to `def`.\n",
    "+ `<arguments>` is optional.\n",
    "+ Notice the `:`\n",
    "+ The `return` statement tells Python to exit the function and return `<output>`. There may be multiple (or no) `return` statements in the function. \n",
    "+ Functions in Python must be defined **before** they are used. \n",
    "\n",
    "### Example\n",
    "\n",
    "Write a function that adds one to a numer."
   ]
  },
  {
   "cell_type": "code",
   "execution_count": null,
   "id": "bedb0aca",
   "metadata": {},
   "outputs": [],
   "source": []
  },
  {
   "cell_type": "markdown",
   "id": "ac87c033",
   "metadata": {},
   "source": [
    "Th following will not work because the function is used before it is defined. "
   ]
  },
  {
   "cell_type": "code",
   "execution_count": null,
   "id": "b1e1f9a8",
   "metadata": {},
   "outputs": [],
   "source": [
    "print(multiply_by_7(2))\n",
    "\n",
    "def multiply_by_7(a):\n",
    "    b = a*7\n",
    "    return b"
   ]
  },
  {
   "cell_type": "markdown",
   "id": "18aa0187",
   "metadata": {},
   "source": [
    "---\n",
    "# Input \n",
    "\n",
    "Inputs can be passed to functions via either *positional* or *keyword* arguments. \n",
    "\n",
    "## Positional arguments\n",
    "This is the style used in most programming languages, including C, C++, Java, Fortran, Javascript, and Matlab. Here the multiple inputs must be passed by the caller in the same order as they are listed in the function declaration."
   ]
  },
  {
   "cell_type": "code",
   "execution_count": null,
   "id": "643f9242",
   "metadata": {},
   "outputs": [],
   "source": [
    "def compute_change(unit_price,quantity,payment):\n",
    "    change = payment - unit_price*quantity\n",
    "    return change\n",
    "    \n",
    "change = compute_change(10,2,30)\n",
    "print(\"Return ${0}.\".format(change)) "
   ]
  },
  {
   "cell_type": "markdown",
   "id": "f15b9583",
   "metadata": {},
   "source": [
    "This approach can be a source of errors. The *keyword* or *named* style of calling functions is preferred.\n",
    "\n",
    "## Keyword arguments\n",
    "Here the name of each input argument is used when calling the funciton. When we do this, the order of the arguments no longer matters. Notice in the example below that the order is changed. "
   ]
  },
  {
   "cell_type": "code",
   "execution_count": null,
   "id": "28a4232d",
   "metadata": {},
   "outputs": [],
   "source": [
    "change = compute_change(unit_price=10,payment=30,quantity=2)\n",
    "print(\"Return ${0}.\".format(change)) "
   ]
  },
  {
   "cell_type": "markdown",
   "id": "b7307527",
   "metadata": {},
   "source": [
    "## Default values\n",
    "It is legal in Python to not provide values for every single input parameter, so long as the ones left out have *default values*. The default values are provided in the function definition. "
   ]
  },
  {
   "cell_type": "code",
   "execution_count": null,
   "id": "ab8eb364",
   "metadata": {},
   "outputs": [],
   "source": [
    "def compute_change_with_defaults(unit_price=1,quantity=1,payment=0):\n",
    "        \n",
    "    change = payment - unit_price*quantity + alpha\n",
    "    return change\n",
    "    \n",
    "change = compute_change_with_defaults(payment=30,unit_price=10)\n",
    "print(\"Return ${0}.\".format(change)) "
   ]
  },
  {
   "cell_type": "markdown",
   "id": "301f8870",
   "metadata": {},
   "source": [
    "---\n",
    "# Output\n",
    "Functions are allowed to return only a single object. \n",
    "\n",
    "The **positional** style for returning multiple values is to package them into a **tuple**, and unpack them on the output. "
   ]
  },
  {
   "cell_type": "code",
   "execution_count": null,
   "id": "94b96d9d",
   "metadata": {},
   "outputs": [],
   "source": [
    "def integer_division(num,den):\n",
    "    q = num//den\n",
    "    r = num - q*den\n",
    "    return (q,r)\n",
    "\n",
    "q, r = integer_division(5,2)\n",
    "\n",
    "print(q, r)"
   ]
  },
  {
   "cell_type": "markdown",
   "id": "48a8a347",
   "metadata": {},
   "source": [
    "The **keyword** style is to use a **dictionary**."
   ]
  },
  {
   "cell_type": "code",
   "execution_count": null,
   "id": "67c99582",
   "metadata": {},
   "outputs": [],
   "source": [
    "def integer_division_d(num,den):\n",
    "    q = num//den\n",
    "    r = num - q*den\n",
    "    return {'q':q,'r':r}\n",
    "\n",
    "X = integer_division_d(5,2)\n",
    "\n",
    "print(X['q'], X['r'])"
   ]
  },
  {
   "cell_type": "markdown",
   "id": "dd0334d5",
   "metadata": {},
   "source": [
    "---\n",
    "# <center> <font color=darkgreen>Modules and Packages</font>  </center>\n",
    "---\n",
    "\n",
    "## Module\n",
    "\n",
    "A [**module**](https://docs.python.org/3.8/tutorial/modules.html) is a *file* containing functions.\n",
    "\n",
    "+ A module is contained in a single `.py` file. (e.g. mymodule.py)\n",
    "+ A module can include a \"main function\": `if __name__ == \"__main__\":` \n",
    "\n",
    "## Package\n",
    "\n",
    "A [**package**](https://docs.python.org/3.8/tutorial/modules.html#packages) is a set of modules that work together. \n",
    "\n",
    "+ A package is contained in a single folder. (e.g. mypackage/)\n",
    "+ ~~A package folder must contain a file called `__init__.py`~~. **Note: This is no longer true, even though the documentation says so.**\n",
    "+ A package folder *may* contain a file called `__init__.py` with package initialization information. This can include:\n",
    "    + specifying which modules to load, by setting `__all__`\n",
    "    + providing the location of package components that reside in other folders, by setting `__path__`. \n",
    "    + defining global variables.\n",
    "    \n",
    "\n",
    "---\n",
    "\n",
    "# [`import`](https://docs.python.org/3/reference/import.html)\n",
    "\n",
    "`import` a module into your workspace. Calls `__init__.py`.\n",
    "\n",
    "---\n",
    "\n",
    "### Import a single module from a package\n",
    "\n",
    "Import `moduleA` from `mypackage`"
   ]
  },
  {
   "cell_type": "code",
   "execution_count": null,
   "id": "0a33113d",
   "metadata": {},
   "outputs": [],
   "source": [
    "import mypackage.moduleA"
   ]
  },
  {
   "cell_type": "markdown",
   "id": "ace74693",
   "metadata": {},
   "source": [
    "+ `mypackage.moduleA` is now a valid prefix for functions in `moduleA`. (`moduleA` isn't).\n",
    "+  Call a function from `moduleA` as follows"
   ]
  },
  {
   "cell_type": "code",
   "execution_count": null,
   "id": "c11bc080",
   "metadata": {},
   "outputs": [],
   "source": [
    "mypackage.moduleA.sayHi()"
   ]
  },
  {
   "cell_type": "markdown",
   "id": "a9e295a3",
   "metadata": {},
   "source": [
    "### `from` \n",
    "\n",
    "+ Import only some modules from the package.\n",
    "+ Make the package name a valid prefix. Ie. invoke with `module.function()` instead of `package.module.function()`"
   ]
  },
  {
   "cell_type": "code",
   "execution_count": null,
   "id": "c84cb42e",
   "metadata": {},
   "outputs": [],
   "source": [
    "from mypackage import moduleB, moduleA\n",
    "\n",
    "moduleB.sayHi()"
   ]
  },
  {
   "cell_type": "markdown",
   "id": "366a5bce",
   "metadata": {},
   "source": [
    "We can also use `from` to import individual functions from a module. In this case, the functions can be called directly with no prefix."
   ]
  },
  {
   "cell_type": "code",
   "execution_count": null,
   "id": "4c40e819",
   "metadata": {
    "lines_to_next_cell": 2
   },
   "outputs": [],
   "source": [
    "from mypackage.moduleB import sayHi, sayB\n",
    "\n",
    "sayHi()"
   ]
  },
  {
   "cell_type": "markdown",
   "id": "8ccfc8dd",
   "metadata": {},
   "source": [
    "**Rule of thumb**: Begin the function call with whatever follows `import`."
   ]
  },
  {
   "cell_type": "markdown",
   "id": "0964270c",
   "metadata": {},
   "source": [
    "### `as`: Replace the prefix with an alias."
   ]
  },
  {
   "cell_type": "code",
   "execution_count": null,
   "id": "0b7a5388",
   "metadata": {},
   "outputs": [],
   "source": [
    "from mypackage import moduleA as mA\n",
    "from mypackage import moduleB as mB\n",
    "\n",
    "mA.sayHi()\n",
    "mB.sayHi()"
   ]
  },
  {
   "cell_type": "markdown",
   "id": "64f43720",
   "metadata": {},
   "source": [
    "The same applies to importing functions from modules. "
   ]
  },
  {
   "cell_type": "code",
   "execution_count": null,
   "id": "cd3f79dc",
   "metadata": {},
   "outputs": [],
   "source": [
    "from mypackage.moduleA import sayHi as AAA\n",
    "\n",
    "AAA()"
   ]
  },
  {
   "cell_type": "code",
   "execution_count": null,
   "id": "8e558264",
   "metadata": {},
   "outputs": [],
   "source": []
  }
 ],
 "metadata": {
  "kernelspec": {
   "display_name": "Python 3 (ipykernel)",
   "language": "python",
   "name": "python3"
  },
  "language_info": {
   "codemirror_mode": {
    "name": "ipython",
    "version": 3
   },
   "file_extension": ".py",
   "mimetype": "text/x-python",
   "name": "python",
   "nbconvert_exporter": "python",
   "pygments_lexer": "ipython3",
   "version": "3.9.15"
  }
 },
 "nbformat": 4,
 "nbformat_minor": 5
}
