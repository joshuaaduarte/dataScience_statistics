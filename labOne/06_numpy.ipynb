{
 "cells": [
  {
   "cell_type": "markdown",
   "id": "cf441d71",
   "metadata": {},
   "source": [
    "---\n",
    "# <center><font color=purple>[Numpy](https://numpy.org/)</font> </center>\n",
    "---\n",
    "\n",
    "+ NumPy is a package for performing computations with **numerical lists**. \n",
    "+ Many scientific computing libraries are built on NumPy.\n",
    "    + SciPy\n",
    "    + pandas\n",
    "    + scikit-learn\n",
    "    + python-control\n",
    "+ [Tutorial](https://numpy.org/devdocs/user/quickstart.html)\n",
    "\n",
    "## Standard import statement"
   ]
  },
  {
   "cell_type": "code",
   "execution_count": null,
   "id": "b2fd4205",
   "metadata": {},
   "outputs": [],
   "source": [
    "import numpy as np"
   ]
  },
  {
   "cell_type": "markdown",
   "id": "80957169",
   "metadata": {},
   "source": [
    "## NumPy arrays\n",
    "\n",
    "The main type in NumPy is the the \"numpy array\" or **ndarray** (for n-dimensional array).\n",
    "\n",
    "Create an ndarray with `np.array()`:"
   ]
  },
  {
   "cell_type": "code",
   "execution_count": null,
   "id": "e4356de5",
   "metadata": {},
   "outputs": [],
   "source": [
    "x = np.array([1,2,1])\n",
    "\n",
    "print(x)"
   ]
  },
  {
   "cell_type": "markdown",
   "id": "907e0f6f",
   "metadata": {},
   "source": [
    "A NumPy array is\n",
    "+ Multi-dimensional (arrays of arrays)\n",
    "+ Homogeneous (all elements are of the same type)\n",
    "+ Numerical (integers, floats, or complex)\n",
    "\n",
    "## Why prefer NumPy over native lists?\n",
    "\n",
    "1. Specialized functionality.\n",
    "2. Tuned for speed.\n",
    "\n",
    "| NumPy arrays | Lists |\n",
    "| --- | --- |\n",
    "| low level types | Objects |\n",
    "| homogeneous | multiple types |\n",
    "| contiguous memory | scattered |"
   ]
  },
  {
   "cell_type": "markdown",
   "id": "6b5eeeec",
   "metadata": {},
   "source": [
    "\n",
    "---\n",
    "# <center> <font color=darkgreen> [Creating arrays](https://numpy.org/doc/stable/reference/routines.array-creation.html) </font> </center>\n",
    "---\n",
    "\n",
    "\n",
    "# 1-D arrays\n",
    "\n",
    "### [`np.array(x)`](https://numpy.org/doc/stable/reference/generated/numpy.array.html)"
   ]
  },
  {
   "cell_type": "code",
   "execution_count": null,
   "id": "2be6c44b",
   "metadata": {},
   "outputs": [],
   "source": []
  },
  {
   "cell_type": "markdown",
   "id": "088be9cd",
   "metadata": {},
   "source": [
    "### [`empty(shape)`](https://numpy.org/doc/stable/reference/generated/numpy.empty.html#numpy.empty) [`zeros(shape)`](https://numpy.org/doc/stable/reference/generated/numpy.zeros.html#numpy.zeros) [`ones(shape)`](https://numpy.org/doc/stable/reference/generated/numpy.ones.html#numpy.ones)"
   ]
  },
  {
   "cell_type": "code",
   "execution_count": null,
   "id": "90a6be7e",
   "metadata": {},
   "outputs": [],
   "source": []
  },
  {
   "cell_type": "markdown",
   "id": "f60a377d",
   "metadata": {},
   "source": [
    "### [`linspace(start,stop,num)`](https://numpy.org/doc/stable/reference/generated/numpy.linspace.html#numpy.linspace)"
   ]
  },
  {
   "cell_type": "code",
   "execution_count": null,
   "id": "f954b27b",
   "metadata": {},
   "outputs": [],
   "source": []
  },
  {
   "cell_type": "markdown",
   "id": "043d8fd4",
   "metadata": {},
   "source": [
    "# 2-D arrays"
   ]
  },
  {
   "cell_type": "code",
   "execution_count": null,
   "id": "c2bfd9c2",
   "metadata": {},
   "outputs": [],
   "source": []
  },
  {
   "cell_type": "markdown",
   "id": "12ec4f59",
   "metadata": {},
   "source": [
    "\n",
    "---\n",
    "# <center> <font color=darkgreen> [Manipulating arrays](https://numpy.org/doc/stable/reference/routines.array-manipulation.html) </font> </center>\n",
    "---"
   ]
  },
  {
   "cell_type": "markdown",
   "id": "043751ec",
   "metadata": {},
   "source": [
    "### [`append(x,values)`](https://numpy.org/doc/stable/reference/generated/numpy.append.html#numpy.append):  Append `values` to the end of `x`."
   ]
  },
  {
   "cell_type": "code",
   "execution_count": null,
   "id": "855b7d2f",
   "metadata": {},
   "outputs": [],
   "source": [
    "x = np.array([1,2,3,4])\n",
    "\n",
    "np.append(x,[100,200])"
   ]
  },
  {
   "cell_type": "markdown",
   "id": "5664b68b",
   "metadata": {},
   "source": [
    "### [`insert(x,ind,values)`](https://numpy.org/doc/stable/reference/generated/numpy.insert.html#numpy.insert): Insert `values` into `x` at `ind`"
   ]
  },
  {
   "cell_type": "code",
   "execution_count": null,
   "id": "2a378223",
   "metadata": {},
   "outputs": [],
   "source": [
    "x = np.array([1,2,3,4])\n",
    "\n",
    "np.insert(x,2,[100,200])"
   ]
  },
  {
   "cell_type": "markdown",
   "id": "68d3ac92",
   "metadata": {},
   "source": [
    "### [`concatenate((x1,x2,...))`](https://numpy.org/doc/stable/reference/generated/numpy.concatenate.html#numpy.concatenate): Concatenate a collection of arrays."
   ]
  },
  {
   "cell_type": "code",
   "execution_count": null,
   "id": "46e2bf1e",
   "metadata": {},
   "outputs": [],
   "source": [
    "x1 = np.array([1,2,3])\n",
    "x2 = np.array([4,5,6])\n",
    "np.concatenate((x1,x2))"
   ]
  },
  {
   "cell_type": "markdown",
   "id": "9fb5af3f",
   "metadata": {},
   "source": [
    "### [`unique(x)`](https://numpy.org/doc/stable/reference/generated/numpy.unique.html#numpy.unique): Find the unique elements in `x`."
   ]
  },
  {
   "cell_type": "code",
   "execution_count": null,
   "id": "44bb8af0",
   "metadata": {},
   "outputs": [],
   "source": [
    "x = np.array([1,2,1,2,4,4,4,4])\n",
    "print(x)\n",
    "print(np.unique(x))"
   ]
  },
  {
   "cell_type": "markdown",
   "id": "40cbd0d2",
   "metadata": {},
   "source": [
    "---\n",
    "# <center> <font color=darkgreen> [Indexing](https://numpy.org/doc/stable/reference/arrays.indexing.html) </font> </center>\n",
    "---\n",
    "\n",
    "## 1D: `[x]` where `x` is a list of indexes or a slice"
   ]
  },
  {
   "cell_type": "code",
   "execution_count": null,
   "id": "ce1202dd",
   "metadata": {},
   "outputs": [],
   "source": [
    "a = np.array([4,7,9,4,9,30,6,20,54])\n",
    "\n",
    "print(a[3:8:2])"
   ]
  },
  {
   "cell_type": "markdown",
   "id": "4f15a50d",
   "metadata": {},
   "source": [
    "## more than 1D: [x,y]   (instead of lists' [x][y])"
   ]
  },
  {
   "cell_type": "code",
   "execution_count": null,
   "id": "c6dc3e49",
   "metadata": {},
   "outputs": [],
   "source": [
    "b = np.array([(1.5,2,3), (4,5,6)])\n",
    "\n",
    "print(b)\n",
    "\n",
    "b[0:1,[0,2] ]"
   ]
  },
  {
   "cell_type": "markdown",
   "id": "3f753bd0",
   "metadata": {},
   "source": [
    "## Boolean indexing"
   ]
  },
  {
   "cell_type": "code",
   "execution_count": null,
   "id": "d65a3985",
   "metadata": {},
   "outputs": [],
   "source": [
    "print(a)\n",
    "\n",
    "print(a[a>7])"
   ]
  },
  {
   "cell_type": "markdown",
   "id": "1b0ca3d5",
   "metadata": {},
   "source": [
    "---\n",
    "# <center> <font color=darkgreen> Iteration </font> </center>\n",
    "---\n",
    "\n",
    "Just like native Python iterables."
   ]
  },
  {
   "cell_type": "code",
   "execution_count": null,
   "id": "4686b63b",
   "metadata": {},
   "outputs": [],
   "source": [
    "for x in b:\n",
    "    print(\"x:\",x)\n",
    "    for y in x:\n",
    "        print(y)"
   ]
  },
  {
   "cell_type": "markdown",
   "id": "d7d42797",
   "metadata": {},
   "source": [
    "---\n",
    "# <center> <font color=darkgreen> Array operations </font> </center>\n",
    "---\n",
    "\n",
    "\n",
    "\n",
    "# array + array\n",
    "\n",
    "+ Adding two Python lists involves a `for` loop, or a comprehension.\n",
    "+ With NumPy you can add two arrays with `+`.\n",
    "+ Similar for other arithmetic operations."
   ]
  },
  {
   "cell_type": "code",
   "execution_count": null,
   "id": "745270d1",
   "metadata": {},
   "outputs": [],
   "source": [
    "a = np.array([1,2,3])\n",
    "b = np.array([4,5,6])\n",
    "\n",
    "print(a+b)\n",
    "print(a-b)\n",
    "print(a*b)\n",
    "print(a/b)\n",
    "print(a**b)\n",
    "print(a//b)\n",
    "print(a%b)"
   ]
  },
  {
   "cell_type": "markdown",
   "id": "1ca73aad",
   "metadata": {},
   "source": [
    "# array + scalar "
   ]
  },
  {
   "cell_type": "code",
   "execution_count": null,
   "id": "e2082d0a",
   "metadata": {},
   "outputs": [],
   "source": [
    "print(a+7)"
   ]
  },
  {
   "cell_type": "markdown",
   "id": "6bceebf5",
   "metadata": {},
   "source": [
    "---\n",
    "# <center> <font color=darkgreen>[Array methods](https://numpy.org/doc/stable/reference/generated/numpy.ndarray.html)</font>  </center>\n",
    "---"
   ]
  },
  {
   "cell_type": "code",
   "execution_count": null,
   "id": "7b3b3f19",
   "metadata": {},
   "outputs": [],
   "source": [
    "a."
   ]
  },
  {
   "cell_type": "markdown",
   "id": "b25299e9",
   "metadata": {},
   "source": [
    "### [`dot`](https://docs.scipy.org/doc/numpy/reference/generated/numpy.dot.html): Matrix product"
   ]
  },
  {
   "cell_type": "code",
   "execution_count": null,
   "id": "20e8796a",
   "metadata": {},
   "outputs": [],
   "source": [
    "A = np.array([[3, 2, 0], [1, -1, 0], [0, 5, 1]])\n",
    "b = np.array([2, 4, -1])\n",
    "\n",
    "print(\"A\\n\",A)\n",
    "print(\"b\\n\",b)\n",
    "print(\"Ab\\n\", A.dot(b) )     # as method of ndarray\n",
    "print(\"AA\\n\", A.dot(A) )     # as method of ndarray"
   ]
  },
  {
   "cell_type": "markdown",
   "id": "945b39ec",
   "metadata": {},
   "source": [
    "### [`T`](https://numpy.org/doc/stable/reference/generated/numpy.ndarray.T.html): Transpose"
   ]
  },
  {
   "cell_type": "code",
   "execution_count": null,
   "id": "89eca908",
   "metadata": {},
   "outputs": [],
   "source": [
    "A.T"
   ]
  },
  {
   "cell_type": "markdown",
   "id": "6ec7bbff",
   "metadata": {},
   "source": [
    "###  [`all()`](https://numpy.org/devdocs/reference/generated/numpy.all.html) [`any()`](https://numpy.org/devdocs/reference/generated/numpy.any.html): Methods on boolean arrays"
   ]
  },
  {
   "cell_type": "code",
   "execution_count": null,
   "id": "d3ecc797",
   "metadata": {},
   "outputs": [],
   "source": [
    "A = np.arange(10)\n",
    "B = A>4\n",
    "print(B)\n",
    "print(np.all(B))\n",
    "print(np.any(B))"
   ]
  },
  {
   "cell_type": "markdown",
   "id": "94a4a768",
   "metadata": {},
   "source": [
    "### [`cumsum()`](https://numpy.org/devdocs/reference/generated/numpy.cumsum.html): Cumulative sum."
   ]
  },
  {
   "cell_type": "code",
   "execution_count": null,
   "id": "23f000f0",
   "metadata": {},
   "outputs": [],
   "source": [
    "print(A)\n",
    "print( np.cumsum(A) )"
   ]
  },
  {
   "cell_type": "markdown",
   "id": "91934d09",
   "metadata": {},
   "source": [
    "### [`diff()`](https://numpy.org/devdocs/reference/generated/numpy.diff.html): Differences between subsequent elements"
   ]
  },
  {
   "cell_type": "code",
   "execution_count": null,
   "id": "9cf019e4",
   "metadata": {},
   "outputs": [],
   "source": [
    "print(len(A))\n",
    "print( len(np.diff(A) ))"
   ]
  },
  {
   "cell_type": "markdown",
   "id": "9d7c50b7",
   "metadata": {},
   "source": [
    "### [`ceil()`](https://numpy.org/devdocs/reference/generated/numpy.ceil.html) [`floor()`](https://numpy.org/devdocs/reference/generated/numpy.floor.html) [`round()`](https://docs.python.org/dev/library/functions.html#round): Rounding methods"
   ]
  },
  {
   "cell_type": "code",
   "execution_count": null,
   "id": "e97f3b59",
   "metadata": {},
   "outputs": [],
   "source": [
    "B = A/3\n",
    "print(B)\n",
    "print( np.ceil(B) ) \n",
    "print( np.floor(B) ) \n",
    "print( np.round(B) ) "
   ]
  },
  {
   "cell_type": "markdown",
   "id": "9ced2615",
   "metadata": {},
   "source": [
    "### [`max()`](https://docs.python.org/dev/library/functions.html#max),  [`min()`](https://docs.python.org/dev/library/functions.html#min), [`argmax()`](https://numpy.org/devdocs/reference/generated/numpy.argmax.html), [`argmin()`](https://numpy.org/devdocs/reference/generated/numpy.argmin.html): Largest and smallest elements"
   ]
  },
  {
   "cell_type": "code",
   "execution_count": null,
   "id": "e853ea13",
   "metadata": {},
   "outputs": [],
   "source": [
    "import random\n",
    "random.shuffle(A)\n",
    "\n",
    "print(A)\n",
    "print( np.max(A) ) \n",
    "print( np.argmax(A) ) \n",
    "print( np.min(A) ) \n",
    "print( np.argmin(A) ) "
   ]
  },
  {
   "cell_type": "markdown",
   "id": "be69c9e2",
   "metadata": {},
   "source": [
    "### [`maximum()`](https://numpy.org/devdocs/reference/generated/numpy.maximum.html), [`minimum()`](https://numpy.org/devdocs/reference/generated/numpy.minimum.html): Element-wise max and min between two arrays"
   ]
  },
  {
   "cell_type": "code",
   "execution_count": null,
   "id": "0155267f",
   "metadata": {},
   "outputs": [],
   "source": [
    "A = np.array([1,2,3,4,5])\n",
    "B = np.array([5,4,3,2,1])\n",
    "print( A )\n",
    "print( B )\n",
    "print( np.maximum(A,B) )\n",
    "print( np.minimum(A,B) )"
   ]
  },
  {
   "cell_type": "markdown",
   "id": "634db895",
   "metadata": {},
   "source": [
    "### [`median()`](https://numpy.org/devdocs/reference/generated/numpy.median.html) [`mean()`](https://numpy.org/devdocs/reference/generated/numpy.mean.html) [`std()`](https://numpy.org/devdocs/reference/generated/numpy.std.html): Descriptive statistics\n"
   ]
  },
  {
   "cell_type": "code",
   "execution_count": null,
   "id": "abf3a3db",
   "metadata": {},
   "outputs": [],
   "source": [
    "A = np.array([0,0,0,0,1,2,3,4,5,6])\n",
    "print(A)\n",
    "print( np.median(A) )\n",
    "print( np.mean(A) )\n",
    "print( np.std(A) )"
   ]
  },
  {
   "cell_type": "markdown",
   "id": "dfc8c081",
   "metadata": {},
   "source": [
    "###  [`sum()`](https://numpy.org/devdocs/reference/generated/numpy.sum.html) [`prod()`](https://numpy.org/devdocs/reference/generated/numpy.prod.html): Aggregation\n"
   ]
  },
  {
   "cell_type": "code",
   "execution_count": null,
   "id": "5e45e158",
   "metadata": {},
   "outputs": [],
   "source": [
    "print( np.sum(A) )\n",
    "print( np.prod(A) )"
   ]
  },
  {
   "cell_type": "markdown",
   "id": "113cff8c",
   "metadata": {},
   "source": [
    "### [`sort()`](https://numpy.org/devdocs/reference/generated/numpy.sort.html) [`argsort()`](https://numpy.org/devdocs/reference/generated/numpy.argsort.html): Sorting"
   ]
  },
  {
   "cell_type": "code",
   "execution_count": null,
   "id": "54d576fa",
   "metadata": {},
   "outputs": [],
   "source": [
    "import random\n",
    "\n",
    "a = [0,1,2,3,4,5,6,7,8,9]\n",
    "random.shuffle(a)\n",
    "stra = [str(x) for x in a]\n",
    "\n",
    "A = np.array(a)\n",
    "strA = np.array(stra)\n",
    "\n",
    "\n",
    "ind = np.argsort(A)\n",
    "\n",
    "\n",
    "print(A)\n",
    "print(ind)\n",
    "\n",
    "print(A[ind])\n",
    "print(strA[ind])"
   ]
  }
 ],
 "metadata": {
  "kernelspec": {
   "display_name": "Python 3 (ipykernel)",
   "language": "python",
   "name": "python3"
  },
  "language_info": {
   "codemirror_mode": {
    "name": "ipython",
    "version": 3
   },
   "file_extension": ".py",
   "mimetype": "text/x-python",
   "name": "python",
   "nbconvert_exporter": "python",
   "pygments_lexer": "ipython3",
   "version": "3.9.15"
  }
 },
 "nbformat": 4,
 "nbformat_minor": 5
}
