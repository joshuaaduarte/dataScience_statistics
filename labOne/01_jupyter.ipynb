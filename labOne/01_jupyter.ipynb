{
 "cells": [
  {
   "cell_type": "markdown",
   "id": "e61f59fc",
   "metadata": {},
   "source": [
    "---\n",
    "# <center><font color=purple>Jupyter notebooks</font> </center>\n",
    "---"
   ]
  },
  {
   "cell_type": "markdown",
   "id": "bdde04d1",
   "metadata": {},
   "source": [
    "## Pros\n",
    "+ Story-telling environment, great for presentations, demos.\n",
    "+ Good for fast prototyping\n",
    "\n",
    "## Cons\n",
    "+ `.ipynb` files not good for version control, which creates difficulties for collaboration.\n",
    "+ complexities of non-sequential execution. \n",
    "+ no advanced IDE features (breakpoints, variable inspection, step-by-step execution, autocomplete, etc.) \n",
    "+ Alternatives: **Spyder** or **PyCharm**, DataSpell, and text editors Atom, Sublime, etc.."
   ]
  },
  {
   "cell_type": "markdown",
   "id": "b73aa783",
   "metadata": {},
   "source": [
    "A Jupyter notebook consists of a sequence of **cells**:"
   ]
  },
  {
   "cell_type": "code",
   "execution_count": null,
   "id": "e649bdd1",
   "metadata": {},
   "outputs": [],
   "source": []
  },
  {
   "cell_type": "code",
   "execution_count": null,
   "id": "4d176dfd",
   "metadata": {},
   "outputs": [],
   "source": []
  },
  {
   "cell_type": "code",
   "execution_count": null,
   "id": "15c2e1f4",
   "metadata": {},
   "outputs": [],
   "source": []
  },
  {
   "cell_type": "markdown",
   "id": "e40a49ae",
   "metadata": {},
   "source": [
    "A cell can be a **code** cell..."
   ]
  },
  {
   "cell_type": "code",
   "execution_count": null,
   "id": "d2946051",
   "metadata": {},
   "outputs": [],
   "source": [
    "# This is a code cell\n",
    "\n",
    "print(\"Hello!\")"
   ]
  },
  {
   "cell_type": "markdown",
   "id": "5343cc83",
   "metadata": {},
   "source": [
    "... or a **markdown** cell, like this one."
   ]
  },
  {
   "cell_type": "markdown",
   "id": "7a98c8c6",
   "metadata": {},
   "source": [
    "---\n",
    "## Anatomy of a Jupyter notebook\n",
    "\n",
    "  \n",
    "+ Check out the Menubar and the Toolbar.\n",
    "+ Two notebook modes:\n",
    "    + <font color=blue>**Command mode [Esc]**</font> -- Edit whole cells\n",
    "        + Use the toolbar or \n",
    "        + keyboard shortcuts.\n",
    "            + `a`: Insert new cell above.\n",
    "            + `b`: Insert new cell below.\n",
    "            + `x`: Cut cell\n",
    "            + `c`: Copy cell\n",
    "            + `v`: Paste cell\n",
    "    + <font color=green>**Edit mode [Enter]**</font> -- Edit text within a cell\n",
    "        + Type code."
   ]
  },
  {
   "cell_type": "markdown",
   "id": "07d4e1d7",
   "metadata": {},
   "source": [
    "## Running cells\n",
    "\n",
    "+ You can run individual cells, a selection of cells, or all cells.\n",
    "    + from the Cell menu\n",
    "    + from the Toolbar\n",
    "    + `Ctrl-Enter` : Run this cell without going to next cell\n",
    "    + `Shift-Enter`: Run this cell and go to next cell."
   ]
  },
  {
   "cell_type": "markdown",
   "id": "396ed879",
   "metadata": {},
   "source": [
    "---\n",
    "# <center> <font color=darkgreen>Code cells</font>  </center>\n",
    "---\n",
    "\n",
    "+ The last line if a cell is printed immediately following the cell.\n",
    "+ Code cells can include *inline* plots. (We will learn about those later)\n",
    "+ Use `Shift-Tab` to get information about a variable.\n",
    "\n",
    "### Try it out..."
   ]
  },
  {
   "cell_type": "code",
   "execution_count": null,
   "id": "2dffb08a",
   "metadata": {},
   "outputs": [],
   "source": [
    "a = \"hello!\"\n",
    "a"
   ]
  },
  {
   "cell_type": "markdown",
   "id": "0a22c5f8",
   "metadata": {},
   "source": [
    "---\n",
    "# <center> <font color=darkgreen>Markdown cells</font>  </center>\n",
    "---\n",
    "\n",
    "Markdown cells can contain:\n",
    "+ Text\n",
    "+ Lists\n",
    "+ Images\n",
    "+ Hyperlinks \n",
    "+ Tables\n",
    "+ Formatted code\n",
    "+ Latex"
   ]
  },
  {
   "cell_type": "markdown",
   "id": "99621d08",
   "metadata": {},
   "source": [
    "### Horizontal lines\n",
    "---\n",
    "\n",
    "### Lists\n",
    "\n",
    "+ this is a\n",
    "+ bullet \n",
    "    + list \n",
    "\n",
    "\n",
    "1. this is a\n",
    "2. numbered\n",
    "3. list\n",
    "\n",
    "### Images\n",
    "\n",
    "<img src=\"uc_berkeley.jpg\" width=\"600\">\n",
    "\n",
    "### Hyperlinks\n",
    "\n",
    "[Click here!](https://engineering.berkeley.edu/)\n",
    "\n",
    "### Tables\n",
    "\n",
    "| This | is   |\n",
    "|------|------|\n",
    "|   a  | table|\n",
    "\n",
    "### Formatted code\n",
    "\n",
    "```python\n",
    "A = (0,1,2,3)\n",
    "for i in range(4):\n",
    "    print(A[i])\n",
    "```\n",
    "\n",
    "### Latex\n",
    "\n",
    "The area $A$ of a circle is, $$A=\\pi r^2$$"
   ]
  },
  {
   "cell_type": "markdown",
   "id": "5076b7ab",
   "metadata": {},
   "source": [
    "---\n",
    "\n",
    "## Text\n",
    "\n",
    "Font can be \n",
    "+ *italics*, **bold**\n",
    "+ \n",
    "<font color=blue>Blue</font> \n",
    "<font color=red>Red</font> \n",
    "<font color=green>Green</font> \n",
    "<font color=pink>Pink</font> \n",
    "<font color=yellow>Yellow</font> \n",
    "+ Headings:\n",
    "# H1\n",
    "## H2\n",
    "### H3\n",
    "#### H4"
   ]
  }
 ],
 "metadata": {
  "kernelspec": {
   "display_name": "Python 3 (ipykernel)",
   "language": "python",
   "name": "python3"
  },
  "language_info": {
   "codemirror_mode": {
    "name": "ipython",
    "version": 3
   },
   "file_extension": ".py",
   "mimetype": "text/x-python",
   "name": "python",
   "nbconvert_exporter": "python",
   "pygments_lexer": "ipython3",
   "version": "3.9.15"
  }
 },
 "nbformat": 4,
 "nbformat_minor": 5
}
