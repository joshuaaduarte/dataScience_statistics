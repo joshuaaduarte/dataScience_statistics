{
 "cells": [
  {
   "cell_type": "markdown",
   "id": "fe3758c0",
   "metadata": {},
   "source": [
    "---\n",
    "# <center><font color=purple>Python data types</font> </center>\n",
    "---\n",
    "\n",
    "<img src=\"data_types.png\" width=\"500\">"
   ]
  },
  {
   "cell_type": "markdown",
   "id": "678af339",
   "metadata": {},
   "source": [
    "---\n",
    "## Everything in Python is an Object\n",
    "    \n",
    "+ This means that they have *methods*.\n",
    "+ Even simple integers have methods attached."
   ]
  },
  {
   "cell_type": "markdown",
   "id": "e2c7da4f",
   "metadata": {},
   "source": [
    "---\n",
    "# <center> [Built-in functions](https://docs.python.org/3/library/functions.html) </center>\n",
    "\n",
    "*Built-ins* are commonly used functions that are provided as part of Python's [Standard Library](https://docs.python.org/3/tutorial/stdlib.html) in the global namespace.\n",
    "\n",
    "Here are a few useful built-ins:\n",
    "+ `print(x)` : print `x` to console.\n",
    "+ `help(x)` : print help for `x`.\n",
    "+ `type(x)` : get the type of `x`.\n",
    "+ `isinstance(x,y)` : Is the `x` of type `y`?\n",
    "+ `len(x)` : number of elements in `x`."
   ]
  },
  {
   "cell_type": "code",
   "execution_count": null,
   "id": "9ae4b8b9",
   "metadata": {},
   "outputs": [],
   "source": []
  },
  {
   "cell_type": "markdown",
   "id": "175ef7a5",
   "metadata": {},
   "source": [
    "---\n",
    "# <center> <font color=darkgreen>Scalars</font>  </center>\n",
    "---\n",
    "\n",
    "## int"
   ]
  },
  {
   "cell_type": "code",
   "execution_count": null,
   "id": "fd4b6a2c",
   "metadata": {},
   "outputs": [],
   "source": []
  },
  {
   "cell_type": "markdown",
   "id": "e3f1bd04",
   "metadata": {},
   "source": [
    "## float"
   ]
  },
  {
   "cell_type": "code",
   "execution_count": null,
   "id": "b483771a",
   "metadata": {},
   "outputs": [],
   "source": []
  },
  {
   "cell_type": "markdown",
   "id": "a5880476",
   "metadata": {},
   "source": [
    "## bool\n",
    "+ The two boolean values are `True` and `False`"
   ]
  },
  {
   "cell_type": "code",
   "execution_count": null,
   "id": "9e252bbe",
   "metadata": {},
   "outputs": [],
   "source": []
  },
  {
   "cell_type": "markdown",
   "id": "b3299d26",
   "metadata": {},
   "source": [
    "## complex (j)"
   ]
  },
  {
   "cell_type": "code",
   "execution_count": null,
   "id": "ed83347a",
   "metadata": {},
   "outputs": [],
   "source": []
  },
  {
   "cell_type": "markdown",
   "id": "76f14ace",
   "metadata": {},
   "source": [
    "## None\n",
    "+ `None` is different from `0`, `False`, and `''`.\n",
    "+ `None` only equals `None`.\n"
   ]
  },
  {
   "cell_type": "code",
   "execution_count": null,
   "id": "94638803",
   "metadata": {},
   "outputs": [],
   "source": []
  },
  {
   "cell_type": "markdown",
   "id": "be868842",
   "metadata": {},
   "source": [
    "---\n",
    "# <center> <font color=darkgreen>More built-ins</font>  </center>\n",
    "---\n",
    "\n",
    "\n",
    "## Constructors\n",
    "\n",
    "These are used to convert from one scalar type to another.\n",
    "\n",
    "+ `bool()`\n",
    "+ `complex()`\n",
    "+ ...\n"
   ]
  },
  {
   "cell_type": "code",
   "execution_count": null,
   "id": "ef1ebd52",
   "metadata": {},
   "outputs": [],
   "source": []
  },
  {
   "cell_type": "markdown",
   "id": "a5629f56",
   "metadata": {},
   "source": [
    "**Note** : There are also constructors for *iterable* types, which we will see later. "
   ]
  },
  {
   "cell_type": "markdown",
   "id": "91be985c",
   "metadata": {},
   "source": [
    "---\n",
    "# <center> <font color=darkgreen>Operators</font>  </center>\n",
    "---\n",
    "\n",
    "## Arithmetic operators (`+`, `-`, `*`, `/`, `**`, `//`,`%`)"
   ]
  },
  {
   "cell_type": "markdown",
   "id": "530bde84",
   "metadata": {},
   "source": [
    "## Comparison operators (`==`, `!=`, `<`, `>`, `<=`, `>=`)"
   ]
  },
  {
   "cell_type": "code",
   "execution_count": null,
   "id": "68c479cc",
   "metadata": {},
   "outputs": [],
   "source": []
  },
  {
   "cell_type": "markdown",
   "id": "b9728502",
   "metadata": {},
   "source": [
    "## Logical operators (`and`, `or`, `not`)"
   ]
  },
  {
   "cell_type": "code",
   "execution_count": null,
   "id": "6c3c7590",
   "metadata": {},
   "outputs": [],
   "source": []
  }
 ],
 "metadata": {
  "kernelspec": {
   "display_name": "Python 3 (ipykernel)",
   "language": "python",
   "name": "python3"
  },
  "language_info": {
   "codemirror_mode": {
    "name": "ipython",
    "version": 3
   },
   "file_extension": ".py",
   "mimetype": "text/x-python",
   "name": "python",
   "nbconvert_exporter": "python",
   "pygments_lexer": "ipython3",
   "version": "3.9.15"
  }
 },
 "nbformat": 4,
 "nbformat_minor": 5
}
