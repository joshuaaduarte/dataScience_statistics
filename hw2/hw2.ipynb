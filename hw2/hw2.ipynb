{
 "cells": [
  {
   "cell_type": "markdown",
   "id": "287a97d1-1395-4bf8-9f2a-9208864802d7",
   "metadata": {},
   "source": [
    "<h2><center>Homework 2"
   ]
  },
  {
   "cell_type": "code",
   "execution_count": 50,
   "id": "bbcfad0a-89e6-4458-a949-250f68a2003e",
   "metadata": {},
   "outputs": [],
   "source": [
    "#import the required packages\n",
    "import numpy as np\n",
    "#To use stats.norm and stats.t functions as stated in the assignment\n",
    "from scipy import stats\n",
    "import math\n",
    "import matplotlib.pyplot as plt \n",
    "#from scipy.stats import norm"
   ]
  },
  {
   "cell_type": "markdown",
   "id": "95e3b006-4cf8-4ff7-8597-39db864c4038",
   "metadata": {},
   "source": [
    "### Problem 3\n",
    "Given, <br>\n",
    "&emsp;N=100;<br>\n",
    "&emsp;mean=50kN;<br>\n",
    "&emsp;std=2kN;<br>\n",
    "We use the equation which assumes we know the standard deviation.\n",
    "Here we use Z-tables "
   ]
  },
  {
   "cell_type": "code",
   "execution_count": 40,
   "id": "27472ac7-6741-47d2-94d7-7cdccf5e510e",
   "metadata": {},
   "outputs": [
    {
     "name": "stdout",
     "output_type": "stream",
     "text": [
      "The 95% confidence interval is 0.3919927969080108\n",
      "therefore the interval is [ 49.60800720309199 , 50.39199279690801 ]\n"
     ]
    }
   ],
   "source": [
    "#a) find 95% confidence interval \n",
    "conf=0.95\n",
    "N=100\n",
    "mean=50\n",
    "std=2\n",
    "confint=(std/np.sqrt(N))*abs(stats.norm().ppf((1-conf)/2))\n",
    "print(\"The 95% confidence interval is\", confint)\n",
    "print(\"therefore the interval is [\",(mean-confint),\",\",(mean+confint),\"]\")"
   ]
  },
  {
   "cell_type": "code",
   "execution_count": 41,
   "id": "7ecfef4a-fe5c-40df-b357-5b28dbdd115c",
   "metadata": {},
   "outputs": [
    {
     "name": "stdout",
     "output_type": "stream",
     "text": [
      "The 99% confidence interval is 0.5151658607097801\n",
      "therefore the interval is [ 49.48483413929022 , 50.51516586070978 ]\n"
     ]
    }
   ],
   "source": [
    "#b) find 99% confidence interval \n",
    "conf=0.99\n",
    "N=100\n",
    "mean=50\n",
    "std=2\n",
    "confint=(std/np.sqrt(N))*abs(stats.norm().ppf((1-conf)/2))\n",
    "print(\"The 99% confidence interval is\", confint)\n",
    "print(\"therefore the interval is [\",(mean-confint),\",\",(mean+confint),\"]\")"
   ]
  },
  {
   "cell_type": "code",
   "execution_count": 42,
   "id": "3377bc36-15b2-4c83-8eb7-d27c108f90b8",
   "metadata": {},
   "outputs": [
    {
     "name": "stdout",
     "output_type": "stream",
     "text": [
      "The level of confidence is  0.8663855974622803\n"
     ]
    }
   ],
   "source": [
    "#c) level of confidence\n",
    "Y=stats.norm(loc=mean,scale=(std/np.sqrt(N)))\n",
    "levconf=Y.cdf(50.3)-Y.cdf(49.7)\n",
    "print(\"The level of confidence is \",levconf)"
   ]
  },
  {
   "cell_type": "code",
   "execution_count": 43,
   "id": "6854de4b-c12e-4b93-adbd-5ff7c38e89b3",
   "metadata": {},
   "outputs": [
    {
     "name": "stdout",
     "output_type": "stream",
     "text": [
      "The number of wires to be sampled is 171\n"
     ]
    }
   ],
   "source": [
    "#d) Find N\n",
    "confint=0.3\n",
    "conf=0.95\n",
    "N=((std/confint)*abs(stats.norm().ppf((1-conf)/2)))**2\n",
    "print(\"The number of wires to be sampled is\",math.ceil(N))"
   ]
  },
  {
   "cell_type": "code",
   "execution_count": 44,
   "id": "327b5fae-0e3d-40de-a817-80d1eeb2b627",
   "metadata": {},
   "outputs": [
    {
     "name": "stdout",
     "output_type": "stream",
     "text": [
      "The number of wires to be sampled is 295\n"
     ]
    }
   ],
   "source": [
    "#e) Find N\n",
    "confint=0.3\n",
    "conf=0.99\n",
    "N=((std/confint)*abs(stats.norm().ppf((1-conf)/2)))**2\n",
    "print(\"The number of wires to be sampled is\",math.ceil(N))"
   ]
  },
  {
   "cell_type": "markdown",
   "id": "380ca78b-a9c7-4490-8d19-675ac87a1055",
   "metadata": {},
   "source": [
    "### Problem 4\n",
    "Given, <br>\n",
    "&emsp;N=8;<br>\n",
    "&emsp;mean=3410.14oC;<br>\n",
    "&emsp;std=1.018oC;<br>\n",
    "We use the equation which assumes we know the standard deviation. Here we use t-tabeles\n"
   ]
  },
  {
   "cell_type": "code",
   "execution_count": 47,
   "id": "c326e936-a806-475b-a489-2200aa5553c3",
   "metadata": {},
   "outputs": [
    {
     "name": "stdout",
     "output_type": "stream",
     "text": [
      "The 99% confidence interval is 0.8510692980093996\n",
      "therefore the interval is [ 3409.2889307019905 , 3410.9910692980093 ]\n"
     ]
    }
   ],
   "source": [
    "#a) find 95% confidence interval \n",
    "conf=0.95\n",
    "N=8\n",
    "mean=3410.14\n",
    "std=1.018\n",
    "confint=(std/np.sqrt(N))*abs(stats.t(df=N-1).ppf((1-conf)/2))\n",
    "print(\"The 99% confidence interval is\", confint)\n",
    "print(\"therefore the interval is [\",(mean-confint),\",\",(mean+confint),\"]\")"
   ]
  },
  {
   "cell_type": "code",
   "execution_count": 48,
   "id": "2912aa95-2afc-4d4f-83a6-0c4cb6acd1cb",
   "metadata": {},
   "outputs": [
    {
     "name": "stdout",
     "output_type": "stream",
     "text": [
      "The 99% confidence interval is 1.0790147882441998\n",
      "therefore the interval is [ 3409.0609852117555 , 3411.2190147882443 ]\n"
     ]
    }
   ],
   "source": [
    "#a) find 98% confidence interval \n",
    "conf=0.98\n",
    "N=8\n",
    "mean=3410.14\n",
    "std=1.018\n",
    "confint=(std/np.sqrt(N))*abs(stats.t(df=N-1).ppf((1-conf)/2))\n",
    "print(\"The 99% confidence interval is\", confint)\n",
    "print(\"therefore the interval is [\",(mean-confint),\",\",(mean+confint),\"]\")"
   ]
  },
  {
   "cell_type": "markdown",
   "id": "eb66fec3-fa2d-45ef-855c-daf720530fc9",
   "metadata": {},
   "source": [
    "### Problem 5\n",
    "Given, <br>\n",
    "&emsp;N=4;<br>\n",
    "&emsp;mean=0.165mm;<br>\n",
    "&emsp;std=0.022mm;<br>\n",
    "We use the equation which assumes we know the standard deviation. Here we use t-tabeles\n"
   ]
  },
  {
   "cell_type": "code",
   "execution_count": 66,
   "id": "cb6c1299-1721-4400-9746-acaba38e9dc3",
   "metadata": {},
   "outputs": [
    {
     "name": "stdout",
     "output_type": "stream",
     "text": [
      "The 99% confidence interval is 0.006609531699428381\n",
      "therefore the interval is [ 0.15839046830057163 , 0.17160953169942839 ]\n"
     ]
    }
   ],
   "source": [
    "#a) find 95% confidence interval \n",
    "conf=0.95\n",
    "N=45\n",
    "mean=0.165\n",
    "std=0.022\n",
    "confint=(std/np.sqrt(N))*abs(stats.t(df=N-1).ppf((1-conf)/2))\n",
    "print(\"The 99% confidence interval is\", confint)\n",
    "print(\"therefore the interval is [\",(mean-confint),\",\",(mean+confint),\"]\")\n",
    "Llimit=mean-confint\n",
    "Ulimit=mean-confint"
   ]
  },
  {
   "cell_type": "code",
   "execution_count": 67,
   "id": "81a679f4-8b34-4f81-9f1a-19695da27502",
   "metadata": {},
   "outputs": [
    {
     "data": {
      "text/plain": [
       "Text(0, 0.5, 'confidence interval(rho)')"
      ]
     },
     "execution_count": 67,
     "metadata": {},
     "output_type": "execute_result"
    },
    {
     "data": {
      "image/png": "[encoded data removed]",
      "text/plain": [
       "<Figure size 432x288 with 1 Axes>"
      ]
     },
     "metadata": {
      "needs_background": "light"
     },
     "output_type": "display_data"
    }
   ],
   "source": [
    "#b) plot showing the dependence of the size\n",
    "conf=np.linspace(0,1)\n",
    "confint=(std/np.sqrt(N))*abs(stats.t(df=N-1).ppf((1-conf)/2))\n",
    "plt.plot(conf,confint)\n",
    "plt.xlabel(\"confidence level(gamma)\")\n",
    "plt.ylabel('confidence interval(rho)')"
   ]
  },
  {
   "cell_type": "code",
   "execution_count": 68,
   "id": "e7f0574e-412f-4561-81fa-807adbf51f5b",
   "metadata": {},
   "outputs": [
    {
     "data": {
      "text/plain": [
       "Text(0, 0.5, 'confidence interval(rho)')"
      ]
     },
     "execution_count": 68,
     "metadata": {},
     "output_type": "execute_result"
    },
    {
     "data": {
      "image/png": "[encoded data removed]",
      "text/plain": [
       "<Figure size 432x288 with 1 Axes>"
      ]
     },
     "metadata": {
      "needs_background": "light"
     },
     "output_type": "display_data"
    }
   ],
   "source": [
    "#c) plot showing the dependence of the size\n",
    "conf=0.95\n",
    "N=np.linspace(1,100)\n",
    "confint=(std/np.sqrt(N))*abs(stats.t(df=N-1).ppf((1-conf)/2))\n",
    "plt.plot(N,confint)\n",
    "plt.xlabel(\"confidence level(gamma)\")\n",
    "plt.ylabel('confidence interval(rho)')"
   ]
  },
  {
   "cell_type": "code",
   "execution_count": 83,
   "id": "88a4aa3a-f258-4558-b152-20dcc320348c",
   "metadata": {},
   "outputs": [
    {
     "data": {
      "text/plain": [
       "<matplotlib.collections.PolyCollection at 0x7fb819231e10>"
      ]
     },
     "execution_count": 83,
     "metadata": {},
     "output_type": "execute_result"
    },
    {
     "data": {
      "image/png": "[encoded data removed]",
      "text/plain": [
       "<Figure size 432x288 with 1 Axes>"
      ]
     },
     "metadata": {
      "needs_background": "light"
     },
     "output_type": "display_data"
    }
   ],
   "source": [
    "#d) plot the pdf with the area of part a) shaded in\n",
    "conf=0.95\n",
    "N=45\n",
    "mean=0.165\n",
    "std=0.022\n",
    "Y=stats.norm(loc=mean, scale=std/np.sqrt(N))\n",
    "y=np.linspace(mean-4*std/np.sqrt(N),mean+4*std/np.sqrt(N),200)\n",
    "plt.plot(y,Y.pdf(y))\n",
    "shade= y[(y>=0.158) & (y<=0.171)]\n",
    "plt.fill_between(shade,Y.pdf(shade), alpha=0.5)"
   ]
  },
  {
   "cell_type": "markdown",
   "id": "9d054846-dece-4de5-82bd-7dd8abe470a7",
   "metadata": {},
   "source": [
    "### Problem 6\n",
    "Given, <br>\n",
    "&emsp;PEL=50ppm;<br>\n",
    "&emsp;ppm values={48,42,58,45,51,39,45,58,43,50,43,43};<br>\n",
    "assume distribution is gaussian\n"
   ]
  },
  {
   "cell_type": "markdown",
   "id": "d812c6d0-7ebf-4937-ad65-e5c5f8795b2a",
   "metadata": {},
   "source": [
    "a)considering the hypothesis tests we can say,<br>\n",
    "&emsp;the null hypothesis Ho: mean=50<br>\n",
    "&emsp;and the alternate hypothesis H1: mean>50(as it is permissible upto 50ppm)"
   ]
  },
  {
   "cell_type": "markdown",
   "id": "4a9fdccc-a7cc-4055-85b5-62e934848f6d",
   "metadata": {},
   "source": [
    "b) Considering the single mean point being tested and given the distribution is Gaussian, the Ho is evaluated with the t-statistic with N-1 dof and 0.05 significance level"
   ]
  },
  {
   "cell_type": "code",
   "execution_count": 128,
   "id": "fc13f4b3-c35c-484a-8a10-8efc4fcd530f",
   "metadata": {},
   "outputs": [
    {
     "data": {
      "text/plain": [
       "'y=np.array([48,42,58,45,51,39,45,58,43,50,43,43])\\nN=y.shape[0]\\nmean=y.mean()\\nstd=y.std(ddof=1)\\nY=stats.norm(loc=50, scale=std)\\ny=np.linspace(25,75,200)\\nplt.plot(y,Y.pdf(y))\\nconf=0.05\\nconfint=(std/np.sqrt(N))*abs(stats.norm().ppf((1-conf)/2))\\nshade= y[(y>=(mean-confint)) & (y<=(mean+confint))]\\nplt.fill_between(shade,Y.pdf(shade))'"
      ]
     },
     "execution_count": 128,
     "metadata": {},
     "output_type": "execute_result"
    }
   ],
   "source": [
    "'''y=np.array([48,42,58,45,51,39,45,58,43,50,43,43])\n",
    "N=y.shape[0]\n",
    "mean=y.mean()\n",
    "std=y.std(ddof=1)\n",
    "Y=stats.norm(loc=50, scale=std)\n",
    "y=np.linspace(25,75,200)\n",
    "plt.plot(y,Y.pdf(y))\n",
    "conf=0.05\n",
    "confint=(std/np.sqrt(N))*abs(stats.norm().ppf((1-conf)/2))\n",
    "shade= y[(y>=(mean-confint)) & (y<=(mean+confint))]\n",
    "plt.fill_between(shade,Y.pdf(shade))'''"
   ]
  },
  {
   "cell_type": "code",
   "execution_count": 115,
   "id": "e451a98a-5ec5-4236-ae80-104eab7e24f3",
   "metadata": {},
   "outputs": [
    {
     "name": "stdout",
     "output_type": "stream",
     "text": [
      "The p-value is 0.9363166928058132\n"
     ]
    }
   ],
   "source": [
    "#c) find the p-value\n",
    "t=(mean-50)/(std/np.sqrt(N))\n",
    "p=1-stats.t(df=N-1).cdf(t)\n",
    "print('The p-value is',p)"
   ]
  },
  {
   "cell_type": "markdown",
   "id": "6c7e32f3-4545-4e1f-b34f-deb2b2aa70b1",
   "metadata": {},
   "source": [
    "d) Since the above obtained p-value is greater than the significance level of 0.05, failed to reject Ho in favour of H1."
   ]
  },
  {
   "cell_type": "markdown",
   "id": "f961dd36-d7fb-462f-b04e-c0d62b619f0b",
   "metadata": {},
   "source": [
    "### Problem 7\n"
   ]
  },
  {
   "cell_type": "code",
   "execution_count": 127,
   "id": "a2dac3f4-3473-4110-bef9-be2b89679fb0",
   "metadata": {},
   "outputs": [
    {
     "name": "stdout",
     "output_type": "stream",
     "text": [
      "the sample size is to be above 542\n"
     ]
    }
   ],
   "source": [
    "#a) find the N range\n",
    "conf=0.98\n",
    "confintmax=0.05\n",
    "#The required confidence level is to be less than or equal to 0.05 and \n",
    "#we also know for the worst condition we consider the p*(1-p) value as maximum i.e, 0.25\n",
    "N=0.25*(stats.norm.ppf((1-conf)/2)/confintmax)**2\n",
    "print('the sample size is to be above',math.ceil(N))"
   ]
  },
  {
   "cell_type": "code",
   "execution_count": 123,
   "id": "54aff31c-1362-4be9-810a-dad5183d1b19",
   "metadata": {},
   "outputs": [
    {
     "name": "stdout",
     "output_type": "stream",
     "text": [
      "The 98% confidence interval is 0.05873740460555898\n",
      "therefore the interval is [ 47.02459592872778 , 47.142070737938894 ]\n"
     ]
    }
   ],
   "source": [
    "#b) Determine the confidence interval\n",
    "N=200\n",
    "p=30/200\n",
    "std=np.sqrt(p*(1-p))\n",
    "confint=(std/np.sqrt(N))*abs(stats.norm().ppf((1-conf)/2))\n",
    "print(\"The 98% confidence interval is\", confint)\n",
    "print(\"therefore the interval is [\",(mean-confint),\",\",(mean+confint),\"]\")"
   ]
  },
  {
   "cell_type": "code",
   "execution_count": 129,
   "id": "7adb429a-b0de-44fe-a489-a096c5b227ef",
   "metadata": {},
   "outputs": [
    {
     "name": "stdout",
     "output_type": "stream",
     "text": [
      "The sample size is 277\n"
     ]
    }
   ],
   "source": [
    "#c) estimate the sample size\n",
    "N=p*(1-p)*(stats.norm.ppf((1-conf)/2)/confintmax)**2\n",
    "print('The sample size is',math.ceil(N))"
   ]
  },
  {
   "cell_type": "code",
   "execution_count": null,
   "id": "cf0592e2-c0d1-4190-8ec5-7f58b0e3c6fc",
   "metadata": {},
   "outputs": [],
   "source": []
  }
 ],
 "metadata": {
  "kernelspec": {
   "display_name": "Python 3 (ipykernel)",
   "language": "python",
   "name": "python3"
  },
  "language_info": {
   "codemirror_mode": {
    "name": "ipython",
    "version": 3
   },
   "file_extension": ".py",
   "mimetype": "text/x-python",
   "name": "python",
   "nbconvert_exporter": "python",
   "pygments_lexer": "ipython3",
   "version": "3.7.13"
  }
 },
 "nbformat": 4,
 "nbformat_minor": 5
}
