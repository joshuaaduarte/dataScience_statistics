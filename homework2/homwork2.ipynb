{
 "cells": [
  {
   "cell_type": "code",
   "execution_count": 36,
   "id": "45980f18-e677-42cb-a2ce-7d0f9636b96a",
   "metadata": {},
   "outputs": [],
   "source": [
    "# import libraries\n",
    "import numpy as np \n",
    "import scipy.stats as stats\n",
    "import matplotlib.pyplot as plt\n",
    "import math\n"
   ]
  },
  {
   "cell_type": "markdown",
   "id": "2f0d32a7-c1b5-40f5-88a5-fc94230ba4f0",
   "metadata": {},
   "source": [
    "## Problem 3\n",
    "\n",
    "In a sample of 100 steel wires the average breaking strength is 50 kN, with a standard\n",
    "deviation of 2 kN.  \n",
    "(a) Find a 95% confidence interval for the mean breaking strength of this type of wire.  \n",
    "(b) Find a 99% confidence interval for the mean breaking strength of this type of wire.  \n",
    "(c) An engineer claims that the mean breaking strength is between 49.7 kN and 50.3 kN. With what level of confidence can this statement be made?  \n",
    "(d) How many wires must be sampled so that a 95% confidence interval specifies the mean breaking strength to within ±0.3 kN?  \n",
    "(e) How many wires must be sampled so that a 99% confidence interval specifies the mean breaking strength to within ±0.3 kN?  "
   ]
  },
  {
   "cell_type": "code",
   "execution_count": 75,
   "id": "b4b08383-d874-409c-bfdc-e383d62addda",
   "metadata": {},
   "outputs": [],
   "source": [
    "# Establish known variables\n",
    "mu = 50\n",
    "std_dev = 2\n",
    "N = 100 "
   ]
  },
  {
   "cell_type": "code",
   "execution_count": 76,
   "id": "1a105218-2f17-45ac-9bdc-5e37e125849f",
   "metadata": {},
   "outputs": [
    {
     "data": {
      "text/plain": [
       "[49.60800720309199, 50.39199279690801]"
      ]
     },
     "execution_count": 76,
     "metadata": {},
     "output_type": "execute_result"
    }
   ],
   "source": [
    "# A \n",
    "# Calculate a confidence interval of 95%. This is done by determining rho and subtracting and adding it to mu.\n",
    "\n",
    "conf_level = 0.95\n",
    "rho = (std_dev/np.sqrt(N))*abs(stats.norm().ppf((1-conf_level)/2))\n",
    "\n",
    "range = [mu-rho, mu+rho]\n",
    "range"
   ]
  },
  {
   "cell_type": "code",
   "execution_count": 77,
   "id": "e001e182-c13e-4fe6-9817-5d6452ae6e53",
   "metadata": {},
   "outputs": [
    {
     "data": {
      "text/plain": [
       "[49.60800720309199, 50.39199279690801]"
      ]
     },
     "execution_count": 77,
     "metadata": {},
     "output_type": "execute_result"
    }
   ],
   "source": [
    "# B \n",
    "# Calculate a confidence interval of 99%. This is done by determining rho and subtracting and adding it to mu.\n",
    "\n",
    "gamma = 0.99\n",
    "rho = (std_dev/np.sqrt(N))*abs(stats.norm().ppf((1-conf_level)/2))\n",
    "\n",
    "range = [mu-rho, mu+rho]\n",
    "range"
   ]
  },
  {
   "cell_type": "code",
   "execution_count": 78,
   "id": "bc2b5b27-816e-4b31-98b8-eb70c25f0447",
   "metadata": {},
   "outputs": [
    {
     "data": {
      "text/plain": [
       "0.8663855974622803"
      ]
     },
     "execution_count": 78,
     "metadata": {},
     "output_type": "execute_result"
    }
   ],
   "source": [
    "# C \n",
    "# Determine the confidence interval for the breaking strenght between 49.7 and 50.3. This is done by creating a normal \n",
    "#distribution centered around mu with the standard deviation and number of samples.  \n",
    "# Then subtracting the cdfs at the two ends\n",
    "Y = stats.norm(loc=mu, scale = std_dev/np.sqrt(N))\n",
    "conf_level = Y.cdf(50.3) - Y.cdf(49.7)\n",
    "conf_level"
   ]
  },
  {
   "cell_type": "code",
   "execution_count": 80,
   "id": "58c3926b-2d62-488c-b6b0-d86d3a0397b3",
   "metadata": {},
   "outputs": [
    {
     "data": {
      "text/plain": [
       "171"
      ]
     },
     "execution_count": 80,
     "metadata": {},
     "output_type": "execute_result"
    }
   ],
   "source": [
    "# D \n",
    "# given rho, confidence level, mu, and standard deviation the number of samples can be determined\n",
    "# and must be rounded up as it should be a whole number.\n",
    "\n",
    "rho = 0.3\n",
    "conf_level= 0.95\n",
    "N = math.ceil(((std_dev/rho)*abs(stats.norm().ppf((1-conf_level)/2)))**2)\n",
    "N"
   ]
  },
  {
   "cell_type": "code",
   "execution_count": 82,
   "id": "2e319b24-a249-4b88-8a95-45ab256924fd",
   "metadata": {},
   "outputs": [
    {
     "data": {
      "text/plain": [
       "295"
      ]
     },
     "execution_count": 82,
     "metadata": {},
     "output_type": "execute_result"
    }
   ],
   "source": [
    "# E \n",
    "# given rho, confidence level, mu, and standard deviation the number of samples can be determined and \n",
    "# must be rounded up as it should be a whole number.\n",
    "\n",
    "rho = 0.3\n",
    "conf_level = 0.99\n",
    "N = math.ceil(((std_dev/rho)*abs(stats.norm().ppf((1-conf_level)/2)))**2)\n",
    "N"
   ]
  },
  {
   "cell_type": "markdown",
   "id": "9c9de25f-8f1f-4cbf-bd22-9bcfe6e5202a",
   "metadata": {},
   "source": [
    "## Problem 4\n",
    "\n",
    "A chemist made eight independent measurements of the melting point of tungsten. She\n",
    "obtained a sample mean of 3410.14 degrees Celsius and a sample standard deviation of 1.018\n",
    "degrees.  \n",
    "(a) Use the Student’s t distribution to find a 95% confidence interval for the melting point of tungsten.  \n",
    "(b) Use the Student’s t distribution to find a 98% confidence interval for the melting point of tungsten.  "
   ]
  },
  {
   "cell_type": "code",
   "execution_count": 56,
   "id": "ee28a2ce-6334-4819-b59f-fd444729c6c8",
   "metadata": {},
   "outputs": [],
   "source": [
    "# Known Variables\n",
    "N = 8\n",
    "mu = 3410.14\n",
    "std_dev = 1.018"
   ]
  },
  {
   "cell_type": "code",
   "execution_count": 59,
   "id": "30ded273-1260-4712-95d5-9e05dda28c39",
   "metadata": {},
   "outputs": [
    {
     "data": {
      "text/plain": [
       "[3409.2889307019905, 3410.9910692980093]"
      ]
     },
     "execution_count": 59,
     "metadata": {},
     "output_type": "execute_result"
    }
   ],
   "source": [
    "# A\n",
    "# Determine the confidence interval at a confidence level of 95%\n",
    "conf_level = 0.95\n",
    "rho = (std_dev/np.sqrt(N))*abs(stats.t(df=N-1).ppf((1-conf_level)/2))\n",
    "conf_interval = [mu-rho, mu+rho]\n",
    "conf_interval"
   ]
  },
  {
   "cell_type": "code",
   "execution_count": 60,
   "id": "c5683e08-1882-44a1-932a-5d45777cc1f4",
   "metadata": {},
   "outputs": [
    {
     "data": {
      "text/plain": [
       "[3409.0609852117555, 3411.2190147882443]"
      ]
     },
     "execution_count": 60,
     "metadata": {},
     "output_type": "execute_result"
    }
   ],
   "source": [
    "# B\n",
    "# Determine the confidence interval at a confidence level of 98%\n",
    "conf_level = 0.98\n",
    "rho = (std_dev/np.sqrt(N))*abs(stats.t(df=N-1).ppf((1-conf_level)/2))\n",
    "conf_interval = [mu-rho, mu+rho]\n",
    "conf_interval"
   ]
  },
  {
   "cell_type": "markdown",
   "id": "55634c87-63f6-4e5c-8ee5-ecf06824500a",
   "metadata": {},
   "source": [
    "## Problem 5\n",
    "\n",
    "A producer of printed circuit boards (PCBs) wishes to estimate the scoring depth of their\n",
    "circuits. To this end, they have collected 45 samples of measured depths. The mean and\n",
    "standard deviations of these samples is 0.165 mm and 0.022 mm respectively.  \n",
    "(a) Find a 95% confidence interval for the true score depth.  \n",
    "(b) Create a plot showing the dependence of the size of the confidence interval (ρ) on the confidence level (γ) ranging from 0 to 1. Keep the sample size fixed at 45.  \n",
    "(c) Create a plot showing the dependence of the size of the confidence interval on the sample size ranging from 1 to 100. Keep the confidence level fixed at 0.95. (Here you can assume normality even where N <30).  \n",
    "(d) Create a plot showing the pdf of the sample mean and with the area computed in part d) shaded in. Hint: plt.fill between.  \n"
   ]
  },
  {
   "cell_type": "code",
   "execution_count": 61,
   "id": "09c29fbb-9437-43a5-a5b2-c9ef14f434a3",
   "metadata": {},
   "outputs": [],
   "source": [
    "# known variables\n",
    "N = 45\n",
    "mu = 0.165\n",
    "std_dev = 0.022"
   ]
  },
  {
   "cell_type": "code",
   "execution_count": 62,
   "id": "bdf6c374-9a46-4b88-a0a3-6e2c9e2ddce8",
   "metadata": {},
   "outputs": [
    {
     "data": {
      "text/plain": [
       "[0.15839046830057163, 0.17160953169942839]"
      ]
     },
     "execution_count": 62,
     "metadata": {},
     "output_type": "execute_result"
    }
   ],
   "source": [
    "# A\n",
    "# Find confidence interval for a confidence level of 95%\n",
    "conf_level = 0.95\n",
    "rho = (std_dev/np.sqrt(N))*abs(stats.t(df=N-1).ppf((1-conf_level)/2))\n",
    "conf_interval = [mu-rho, mu+rho]\n",
    "conf_interval"
   ]
  },
  {
   "cell_type": "code",
   "execution_count": 83,
   "id": "cb0467be-738e-4b97-b9b0-04d088eea922",
   "metadata": {},
   "outputs": [
    {
     "data": {
      "text/plain": [
       "Text(0, 0.5, 'Rho')"
      ]
     },
     "execution_count": 83,
     "metadata": {},
     "output_type": "execute_result"
    },
    {
     "data": {
      "image/png": "[encoded data removed]",
      "text/plain": [
       "<Figure size 640x480 with 1 Axes>"
      ]
     },
     "metadata": {},
     "output_type": "display_data"
    }
   ],
   "source": [
    "# B \n",
    "# Create a plot of the confidence level vs rho with a fixed sample size of 45\n",
    "conf_level = np.linspace(0,1)\n",
    "rho = (std_dev/np.sqrt(N))*abs(stats.norm().ppf((1-conf_level)/2))\n",
    "\n",
    "plt.plot(conf_level,rho)\n",
    "plt.title('Confidence Level vs Rho')\n",
    "plt.xlabel('Confidence Level')\n",
    "plt.ylabel('Rho')"
   ]
  },
  {
   "cell_type": "code",
   "execution_count": 64,
   "id": "fbcc2a8e-3be3-4b70-8dc1-1ad4ca592645",
   "metadata": {},
   "outputs": [
    {
     "data": {
      "text/plain": [
       "Text(0, 0.5, 'Rho')"
      ]
     },
     "execution_count": 64,
     "metadata": {},
     "output_type": "execute_result"
    },
    {
     "data": {
      "image/png": "[encoded data removed]",
      "text/plain": [
       "<Figure size 640x480 with 1 Axes>"
      ]
     },
     "metadata": {},
     "output_type": "display_data"
    }
   ],
   "source": [
    "# C\n",
    "# Create a plot of the number of samples vs rho at a fixed confidence level of 95%. Assume normality\n",
    "conf_level = 0.95 \n",
    "N = np.arange(1,100)\n",
    "rho = (std_dev/np.sqrt(N))*abs(stats.norm().ppf((1-conf_level)/2))\n",
    "\n",
    "plt.plot(N,rho)\n",
    "plt.title('Number of Samples(N) vs Rho')\n",
    "plt.xlabel('Number of Samples(N)')\n",
    "plt.ylabel('Rho')"
   ]
  },
  {
   "cell_type": "code",
   "execution_count": 74,
   "id": "47c47283-cfda-4662-a106-36ec9b9ac52e",
   "metadata": {},
   "outputs": [
    {
     "data": {
      "text/plain": [
       "<matplotlib.collections.PolyCollection at 0x1f5ada40a60>"
      ]
     },
     "execution_count": 74,
     "metadata": {},
     "output_type": "execute_result"
    },
    {
     "data": {
      "image/png": "[encoded data removed]",
      "text/plain": [
       "<Figure size 640x480 with 1 Axes>"
      ]
     },
     "metadata": {},
     "output_type": "display_data"
    }
   ],
   "source": [
    "# D\n",
    "# Create a pdf plot\n",
    "N = 45\n",
    "Yn = stats.norm(loc = mu, scale = std_dev/np.sqrt(N))\n",
    "y = np.linspace(mu-4*std_dev/np.sqrt(N), mu+4*std_dev/np.sqrt(N),200)\n",
    "\n",
    "plt.plot(y, Yn.pdf(y))\n",
    "plt.title('PDF')\n",
    "yint = y[(y>=0.158) & (y<=0.171)]\n",
    "plt.fill_between(yint,Yn.pdf(yint))"
   ]
  },
  {
   "cell_type": "markdown",
   "id": "7802462b-2849-413e-bbb4-e0ca1208c470",
   "metadata": {},
   "source": [
    "## Problem 6\n",
    "The Occupational Safety and Health Administration (OSHA) establishes Permissible Exposure Limits (PELs) for nitrous oxide of 50 ppm. Measurements from a chemical plant yielded \n",
    "the following ppm values for nitrous oxide: {48,42,58,45,51,39,45,58,43,50,43,43} You can assume that the true distribution is Gaussian.  \n",
    "(a) State the null and alternative hypotheses for a test meant to show that the plant violates the standard.  \n",
    "(b) Which statistic is appropriate for this test and what is its distribution?  \n",
    "(c) Compute the p-value for the test statistic.  \n",
    "(d) Can we conclude to a 5% significance level that the plant violates the standard?  "
   ]
  },
  {
   "cell_type": "markdown",
   "id": "934f6868-90bc-4744-9a25-d6efa882bbf7",
   "metadata": {},
   "source": [
    "### A\n",
    "h0 = 50  \n",
    "h1 > 50"
   ]
  },
  {
   "cell_type": "code",
   "execution_count": 28,
   "id": "0168d5c8-fa5c-45be-af04-79deb5c90a20",
   "metadata": {},
   "outputs": [],
   "source": [
    "# B \n",
    "y = np.array([48,42,58,45,51,39,45,58,43,50,43,43])\n",
    "N = y.shape[0]\n",
    "mu = y.mean()\n",
    "std_dev = y.std(ddof=1)\n",
    "Yn = stats.norm(loc = mu, scale = std_dev/np.sqrt(N))\n",
    "y = np.linspace(mu-4*std_dev/np.sqrt(N), mu+4*std_dev/np.sqrt(N),200)\n",
    "\n",
    "plt.plot(y, Yn.pdf(y))\n",
    "plt.title('PDF')\n",
    "yint = y[(y>=0.158) & (y<=0.171)]\n",
    "plt.fill_between(yint,Yn.pdf(yint))"
   ]
  },
  {
   "cell_type": "code",
   "execution_count": 29,
   "id": "3bebe521-f942-4265-8dbf-ac599c8ad34e",
   "metadata": {},
   "outputs": [
    {
     "data": {
      "text/plain": [
       "-1.6490831626990412"
      ]
     },
     "execution_count": 29,
     "metadata": {},
     "output_type": "execute_result"
    }
   ],
   "source": [
    "# C\n",
    "y = np.array([48,42,58,45,51,39,45,58,43,50,43,43])\n",
    "N = y.shape[0]\n",
    "mu = y.mean()\n",
    "std_dev = y.std(ddof=1)\n",
    "t = (mu-50)/(std_dev/np.sqrt(N))\n",
    "t"
   ]
  },
  {
   "cell_type": "code",
   "execution_count": 30,
   "id": "cc9bfb14-7247-4757-9771-c0613371b176",
   "metadata": {},
   "outputs": [
    {
     "data": {
      "text/plain": [
       "0.9363166928058132"
      ]
     },
     "execution_count": 30,
     "metadata": {},
     "output_type": "execute_result"
    }
   ],
   "source": [
    "1-stats.t(df=N-1).cdf(t)"
   ]
  },
  {
   "cell_type": "code",
   "execution_count": 31,
   "id": "64668e33-83f2-4ab9-af36-b20921099324",
   "metadata": {},
   "outputs": [],
   "source": [
    "# P value is greater than sigma so we fail to reject h0"
   ]
  },
  {
   "cell_type": "markdown",
   "id": "afbff866-620c-4984-93f2-95b587c54a97",
   "metadata": {},
   "source": [
    "## Problem 7\n",
    "\n",
    "Note Watch the mini-lecture on ‘Confidence intervals for Bernoulli processes’, and then\n",
    "answer this question.  \n",
    "\n",
    "Stainless steels can be susceptible to stress corrosion cracking under certain conditions. A\n",
    "materials engineer is interested in determining the proportion of steel alloy failures that are\n",
    "due to stress corrosion cracking.  \n",
    "(a) In the absence of preliminary data, how large a sample must be taken so as to be sure\n",
    "that a 98% confidence interval will specify the proportion to within ±0.05?  \n",
    "(b) In a sample of 200 failures, 30 of them were caused by stress corrosion cracking. Find a\n",
    "98% confidence interval for the proportion of failures causedby stress corrosion cracking.  \n",
    "(c) Based on the data in part (b), estimate the sample size needed so that the 98% confidence interval will specify the proportion to within ±0.05.  "
   ]
  },
  {
   "cell_type": "code",
   "execution_count": null,
   "id": "eb57468e-4b01-479a-88e6-92f4a506e9f5",
   "metadata": {},
   "outputs": [],
   "source": [
    "# A\n"
   ]
  },
  {
   "cell_type": "code",
   "execution_count": 34,
   "id": "f090d3ab-268f-417d-a072-217dc858fa1f",
   "metadata": {},
   "outputs": [
    {
     "data": {
      "text/plain": [
       "0.05873740460555898"
      ]
     },
     "execution_count": 34,
     "metadata": {},
     "output_type": "execute_result"
    }
   ],
   "source": [
    "# B\n",
    "\n",
    "N = 200\n",
    "p = 30/200\n",
    "std_dev = np.sqrt(p*(1-p))\n",
    "gamma = 0.98\n",
    "rho = (std_dev/np.sqrt(N))*abs(stats.norm.ppf((1-gamma)/2))\n",
    "rho"
   ]
  },
  {
   "cell_type": "code",
   "execution_count": 35,
   "id": "86399af7-db85-4d6b-b8a2-791a42206308",
   "metadata": {},
   "outputs": [
    {
     "data": {
      "text/plain": [
       "276.00661598377127"
      ]
     },
     "execution_count": 35,
     "metadata": {},
     "output_type": "execute_result"
    }
   ],
   "source": [
    "# C \n",
    "gamma = 0.98\n",
    "rho = 0.05\n",
    "p = 30/200\n",
    "p*(1-p)*(stats.norm.ppf((1-gamma)/2)/rho)**2"
   ]
  },
  {
   "cell_type": "code",
   "execution_count": null,
   "id": "34e4e557-2643-4322-8e13-935f45688206",
   "metadata": {},
   "outputs": [],
   "source": []
  }
 ],
 "metadata": {
  "kernelspec": {
   "display_name": "Python 3 (ipykernel)",
   "language": "python",
   "name": "python3"
  },
  "language_info": {
   "codemirror_mode": {
    "name": "ipython",
    "version": 3
   },
   "file_extension": ".py",
   "mimetype": "text/x-python",
   "name": "python",
   "nbconvert_exporter": "python",
   "pygments_lexer": "ipython3",
   "version": "3.9.16"
  }
 },
 "nbformat": 4,
 "nbformat_minor": 5
}
