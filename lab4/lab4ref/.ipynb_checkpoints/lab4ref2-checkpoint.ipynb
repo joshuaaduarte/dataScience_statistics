{
 "cells": [
  {
   "cell_type": "code",
   "execution_count": 1,
   "metadata": {
    "deletable": false,
    "editable": false
   },
   "outputs": [],
   "source": [
    "# Initialize Otter\n",
    "import otter\n",
    "grader = otter.Notebook(\"lab4.ipynb\")"
   ]
  },
  {
   "cell_type": "markdown",
   "metadata": {},
   "source": [
    "---\n",
    "\n",
    "<h1><center>SDSE Lab 4 <br><br> Linear regression and Feature selection </center></h1>\n",
    "\n",
    "---\n",
    "\n",
    "In this lab we will use linear regression to predict cancer mortality rates based on data obtained from the American Community Survey of the [U.S. Census Bureau](https://www.census.gov/). The lab has four parts. In part 1 you will load the data and do basic manipulations using [pandas](https://pandas.pydata.org/docs/index.html). In part 2 you will perform basic linear regression on the full feature set. In part 3 you will compute confidence intervals and perform hypothesis tests on the paramters from part 2. Then in part 4 you will run the forward and backward stepwise feature selection algorithms and estimate the performance of the resulting model using a test dataset.\n",
    "\n"
   ]
  },
  {
   "cell_type": "code",
   "execution_count": 2,
   "metadata": {
    "execution": {
     "iopub.execute_input": "2023-03-07T08:09:02.290976Z",
     "iopub.status.busy": "2023-03-07T08:09:02.290501Z",
     "iopub.status.idle": "2023-03-07T08:09:03.706250Z",
     "shell.execute_reply": "2023-03-07T08:09:03.705000Z"
    }
   },
   "outputs": [],
   "source": [
    "import numpy as np\n",
    "import matplotlib.pyplot as plt\n",
    "import pandas as pd\n",
    "import scipy.stats as stats"
   ]
  },
  {
   "cell_type": "markdown",
   "metadata": {},
   "source": [
    "<h1><font color='purple'> Part 1:  Loading and cleaning the data</font></h1>"
   ]
  },
  {
   "cell_type": "markdown",
   "metadata": {},
   "source": [
    "## 1.1 Load the data into a pandas DataFrame\n",
    "\n",
    "See a description of the data [here](https://data.world/nrippner/ols-regression-challenge).\n",
    "\n",
    "You can obtain information about the data using these pandas commands:\n",
    "+ `data.head()` to see the first 5 rows of the DataFrame.\n",
    "+ `data.tail()` to see the last 5 rows of the DataFrame.\n",
    "+ `data.shape` is the tuple (number of rows, number of columns).\n",
    "+ `data.columns` contains the column labels.\n",
    "+ `data.index` contains the row labels."
   ]
  },
  {
   "cell_type": "code",
   "execution_count": 3,
   "metadata": {
    "execution": {
     "iopub.execute_input": "2023-03-07T08:09:03.711341Z",
     "iopub.status.busy": "2023-03-07T08:09:03.710878Z",
     "iopub.status.idle": "2023-03-07T08:09:03.740080Z",
     "shell.execute_reply": "2023-03-07T08:09:03.738664Z"
    }
   },
   "outputs": [],
   "source": [
    "data = pd.read_csv('cancerdata.csv')"
   ]
  },
  {
   "cell_type": "markdown",
   "metadata": {},
   "source": [
    "## 1.2 Inspect columns\n",
    "\n",
    "Run `data.info()` and note:\n",
    " a) which columns are non-numeric (Dtype=object), and\n",
    " b) which have null entries (Non-Null Count<3047)."
   ]
  },
  {
   "cell_type": "code",
   "execution_count": 4,
   "metadata": {
    "execution": {
     "iopub.execute_input": "2023-03-07T08:09:03.745892Z",
     "iopub.status.busy": "2023-03-07T08:09:03.745472Z",
     "iopub.status.idle": "2023-03-07T08:09:03.767200Z",
     "shell.execute_reply": "2023-03-07T08:09:03.765722Z"
    }
   },
   "outputs": [
    {
     "name": "stdout",
     "output_type": "stream",
     "text": [
      "<class 'pandas.core.frame.DataFrame'>\n",
      "RangeIndex: 3047 entries, 0 to 3046\n",
      "Data columns (total 28 columns):\n",
      " #   Column                   Non-Null Count  Dtype  \n",
      "---  ------                   --------------  -----  \n",
      " 0   target_deathrate         3047 non-null   float64\n",
      " 1   incidencerate            3047 non-null   float64\n",
      " 2   medincome                3047 non-null   int64  \n",
      " 3   povertypercent           3047 non-null   float64\n",
      " 4   binnedinc                3047 non-null   object \n",
      " 5   medianage                3047 non-null   float64\n",
      " 6   geography                3047 non-null   object \n",
      " 7   avghouseholdsize         3047 non-null   float64\n",
      " 8   percentmarried           3047 non-null   float64\n",
      " 9   pctnohs18_24             3047 non-null   float64\n",
      " 10  pcths18_24               3047 non-null   float64\n",
      " 11  pctsomecol18_24          762 non-null    float64\n",
      " 12  pctbachdeg18_24          3047 non-null   float64\n",
      " 13  pcths25_over             3047 non-null   float64\n",
      " 14  pctbachdeg25_over        3047 non-null   float64\n",
      " 15  pctemployed16_over       2895 non-null   float64\n",
      " 16  pctunemployed16_over     3047 non-null   float64\n",
      " 17  pctprivatecoverage       3047 non-null   float64\n",
      " 18  pctprivatecoveragealone  2438 non-null   float64\n",
      " 19  pctempprivcoverage       3047 non-null   float64\n",
      " 20  pctpubliccoverage        3047 non-null   float64\n",
      " 21  pctpubliccoveragealone   3047 non-null   float64\n",
      " 22  pctwhite                 3047 non-null   float64\n",
      " 23  pctblack                 3047 non-null   float64\n",
      " 24  pctasian                 3047 non-null   float64\n",
      " 25  pctotherrace             3047 non-null   float64\n",
      " 26  pctmarriedhouseholds     3047 non-null   float64\n",
      " 27  birthrate                3047 non-null   float64\n",
      "dtypes: float64(25), int64(1), object(2)\n",
      "memory usage: 666.7+ KB\n"
     ]
    }
   ],
   "source": [
    "data.info()"
   ]
  },
  {
   "cell_type": "markdown",
   "metadata": {},
   "source": [
    "## 1.3 Discard non-numerical columns\n",
    "\n",
    "Remove the two columns with non-numeric data.\n",
    "Hints:\n",
    "+ `data.dtypes` lists the data types for each column.\n",
    "+ You can construct a boolean indicator array of non-numeric colums with `data.dtypes=='object'`.\n",
    "+ Use that array to index `data.columns`\n",
    "+ Use [`data.drop`](https://pandas.pydata.org/docs/reference/api/pandas.DataFrame.drop.html) to remove the selected columns"
   ]
  },
  {
   "cell_type": "code",
   "execution_count": 5,
   "metadata": {
    "execution": {
     "iopub.execute_input": "2023-03-07T08:09:03.835961Z",
     "iopub.status.busy": "2023-03-07T08:09:03.835504Z",
     "iopub.status.idle": "2023-03-07T08:09:03.851318Z",
     "shell.execute_reply": "2023-03-07T08:09:03.850008Z"
    },
    "tags": []
   },
   "outputs": [],
   "source": [
    "data = data.drop(columns=['binnedinc', 'geography'])\n"
   ]
  },
  {
   "cell_type": "code",
   "execution_count": 6,
   "metadata": {
    "deletable": false,
    "editable": false
   },
   "outputs": [
    {
     "data": {
      "text/html": [
       "<p><strong><pre style='display: inline;'>q1p3</pre></strong> passed! ✨</p>"
      ],
      "text/plain": [
       "q1p3 results: All test cases passed!"
      ]
     },
     "execution_count": 6,
     "metadata": {},
     "output_type": "execute_result"
    }
   ],
   "source": [
    "grader.check(\"q1p3\")"
   ]
  },
  {
   "cell_type": "markdown",
   "metadata": {},
   "source": [
    "## 1.4 Discard columns where more than 10% of values are nan\n",
    "\n",
    "Hints:\n",
    "+ [`data.dropna`](https://pandas.pydata.org/docs/reference/api/pandas.DataFrame.dropna.html)\n",
    "+ `axis` ... we are dropping columns\n",
    "+ `thresh` ... The condition for dropping a column is that it has less than `round(0.9*data.shape[0])` non-nans.\n"
   ]
  },
  {
   "cell_type": "code",
   "execution_count": 7,
   "metadata": {
    "execution": {
     "iopub.execute_input": "2023-03-07T08:09:03.899425Z",
     "iopub.status.busy": "2023-03-07T08:09:03.898994Z",
     "iopub.status.idle": "2023-03-07T08:09:03.910217Z",
     "shell.execute_reply": "2023-03-07T08:09:03.909300Z"
    },
    "tags": []
   },
   "outputs": [
    {
     "data": {
      "text/plain": [
       "(3047, 24)"
      ]
     },
     "execution_count": 7,
     "metadata": {},
     "output_type": "execute_result"
    }
   ],
   "source": [
    "thresh = round(0.9*data.shape[0])\n",
    "data = data.dropna(axis = 'columns', thresh = thresh)\n",
    "data.shape"
   ]
  },
  {
   "cell_type": "code",
   "execution_count": 8,
   "metadata": {
    "deletable": false,
    "editable": false
   },
   "outputs": [
    {
     "data": {
      "text/html": [
       "<p><strong><pre style='display: inline;'>q1p4</pre></strong> passed! 🌈</p>"
      ],
      "text/plain": [
       "q1p4 results: All test cases passed!"
      ]
     },
     "execution_count": 8,
     "metadata": {},
     "output_type": "execute_result"
    }
   ],
   "source": [
    "grader.check(\"q1p4\")"
   ]
  },
  {
   "cell_type": "markdown",
   "metadata": {},
   "source": [
    "## 1.5 Drop all rows that contain one or more nans.\n",
    "\n",
    "Hint: You can again use `data.dropna` for this."
   ]
  },
  {
   "cell_type": "code",
   "execution_count": 9,
   "metadata": {
    "execution": {
     "iopub.execute_input": "2023-03-07T08:09:03.935268Z",
     "iopub.status.busy": "2023-03-07T08:09:03.934903Z",
     "iopub.status.idle": "2023-03-07T08:09:03.943233Z",
     "shell.execute_reply": "2023-03-07T08:09:03.942407Z"
    },
    "tags": []
   },
   "outputs": [
    {
     "data": {
      "text/plain": [
       "(2895, 24)"
      ]
     },
     "execution_count": 9,
     "metadata": {},
     "output_type": "execute_result"
    }
   ],
   "source": [
    "data = data.dropna(axis = 'rows')\n",
    "data.shape"
   ]
  },
  {
   "cell_type": "code",
   "execution_count": 10,
   "metadata": {
    "deletable": false,
    "editable": false
   },
   "outputs": [
    {
     "data": {
      "text/html": [
       "<p><strong><pre style='display: inline;'>q1p5</pre></strong> passed! 🚀</p>"
      ],
      "text/plain": [
       "q1p5 results: All test cases passed!"
      ]
     },
     "execution_count": 10,
     "metadata": {},
     "output_type": "execute_result"
    }
   ],
   "source": [
    "grader.check(\"q1p5\")"
   ]
  },
  {
   "cell_type": "markdown",
   "metadata": {},
   "source": [
    "## 1.6 Inspect correlations\n",
    "\n",
    "Next we'll look at the correlation coefficients between each of the features and the target variable `target_deathrate`.\n",
    "\n",
    "1) Use `data.corr()` to build the correlations matrix.\n",
    "2) Inspect the column (or row) corresponding to `target_deathrate`.\n",
    "3) Rank (i.e. sort) the features from most to least correlated with the output. This ranking is in terms of the absolute value of the correlation coefficient.\n",
    "4) Save the top 5 correlated features to `top_5_corr`. `top_5_corr` should be a numpy array with shape `(5,)`.\n",
    "\n",
    "Hints:\n",
    "+ [`abs`](https://pandas.pydata.org/docs/reference/api/pandas.Series.abs.html)\n",
    "+ [`sort_values`](https://pandas.pydata.org/docs/reference/api/pandas.Series.sort_values.html)\n",
    "+ [`to_numpy`](https://pandas.pydata.org/docs/reference/api/pandas.Series.to_numpy.html)"
   ]
  },
  {
   "cell_type": "code",
   "execution_count": 11,
   "metadata": {
    "execution": {
     "iopub.execute_input": "2023-03-07T08:09:03.958279Z",
     "iopub.status.busy": "2023-03-07T08:09:03.957549Z",
     "iopub.status.idle": "2023-03-07T08:09:03.976180Z",
     "shell.execute_reply": "2023-03-07T08:09:03.975033Z"
    },
    "tags": []
   },
   "outputs": [],
   "source": [
    "# correlation matrix\n",
    "C = data.corr()\n",
    "\n",
    "# vector correlations between the features and target_deathrate\n",
    "corr_target = C.iloc[:,0]\n",
    "\n",
    "# sorted corr_target_sort\n",
    "corr_target_abs = corr_target.abs()\n",
    "corr_target_sort = corr_target_abs.sort_values(ascending=False)\n",
    "corr_target_sort = corr_target_sort.tail(-1)\n",
    "\n",
    "# top 5 correlations with target_deathrate\n",
    "top_5_sort = corr_target_sort.head()\n",
    "top_5_sort = top_5_sort.index"
   ]
  },
  {
   "cell_type": "code",
   "execution_count": 12,
   "metadata": {
    "deletable": false,
    "editable": false
   },
   "outputs": [
    {
     "data": {
      "text/html": [
       "<p><strong><pre style='display: inline;'>q1p6</pre></strong> passed! 🙌</p>"
      ],
      "text/plain": [
       "q1p6 results: All test cases passed!"
      ]
     },
     "execution_count": 12,
     "metadata": {},
     "output_type": "execute_result"
    }
   ],
   "source": [
    "grader.check(\"q1p6\")"
   ]
  },
  {
   "cell_type": "markdown",
   "metadata": {},
   "source": [
    "## 1.7 Scatter plot\n",
    "\n",
    "Make a scatter plot of the data with the most correlated feature along the x axis, and the target along the y axis.\n",
    "\n",
    "Hint: You can use the plotting function attached to the DataFrame: [data.plot(kind='scatter',x=..., y=...)](https://pandas.pydata.org/docs/reference/api/pandas.DataFrame.plot.html)"
   ]
  },
  {
   "cell_type": "code",
   "execution_count": 13,
   "metadata": {},
   "outputs": [
    {
     "data": {
      "text/plain": [
       "(2895,)"
      ]
     },
     "execution_count": 13,
     "metadata": {},
     "output_type": "execute_result"
    }
   ],
   "source": [
    "#pctbachdeg25_over\n",
    "a = data.loc[:,\"pctbachdeg25_over\"]\n",
    "np.shape(a)"
   ]
  },
  {
   "cell_type": "code",
   "execution_count": 14,
   "metadata": {
    "execution": {
     "iopub.execute_input": "2023-03-07T08:09:03.993192Z",
     "iopub.status.busy": "2023-03-07T08:09:03.992826Z",
     "iopub.status.idle": "2023-03-07T08:09:04.282152Z",
     "shell.execute_reply": "2023-03-07T08:09:04.280806Z"
    },
    "tags": []
   },
   "outputs": [
    {
     "data": {
      "text/plain": [
       "<AxesSubplot: xlabel='pctbachdeg25_over', ylabel='target_deathrate'>"
      ]
     },
     "execution_count": 14,
     "metadata": {},
     "output_type": "execute_result"
    },
    {
     "data": {
      "image/png": "[encoded data removed]",
      "text/plain": [
       "<Figure size 640x480 with 1 Axes>"
      ]
     },
     "metadata": {},
     "output_type": "display_data"
    }
   ],
   "source": [
    "data.plot(kind='scatter',x=\"pctbachdeg25_over\",y=\"target_deathrate\")\n",
    "# plt.scatter(data.loc[:,\"pctbachdeg25_over\"],data.loc[:,\"target_deathrate\"])"
   ]
  },
  {
   "cell_type": "markdown",
   "metadata": {},
   "source": [
    "---\n",
    "\n",
    "<h1><font color='purple'> Part 2: Linear regression - Point estimates</font></h1>"
   ]
  },
  {
   "cell_type": "markdown",
   "metadata": {},
   "source": [
    "## 2.1 Extract data matrices\n",
    "\n",
    "The next cell extracts the `X` and `Y` matrices from `data`. It also makes a list of `features`, and defines dimensions `N` and `D`."
   ]
  },
  {
   "cell_type": "code",
   "execution_count": 15,
   "metadata": {
    "execution": {
     "iopub.execute_input": "2023-03-07T08:09:04.287571Z",
     "iopub.status.busy": "2023-03-07T08:09:04.287223Z",
     "iopub.status.idle": "2023-03-07T08:09:04.298715Z",
     "shell.execute_reply": "2023-03-07T08:09:04.297429Z"
    },
    "tags": []
   },
   "outputs": [],
   "source": [
    "X = data.drop(columns='target_deathrate').values\n",
    "features = data.columns.values\n",
    "features = features[features!='target_deathrate']\n",
    "Y = data['target_deathrate'].values\n",
    "\n",
    "N = np.shape(X)[0]\n",
    "D = np.shape(X)[1]"
   ]
  },
  {
   "cell_type": "code",
   "execution_count": 16,
   "metadata": {
    "deletable": false,
    "editable": false
   },
   "outputs": [
    {
     "data": {
      "text/html": [
       "<p><strong><pre style='display: inline;'>q2p1</pre></strong> passed! 🌈</p>"
      ],
      "text/plain": [
       "q2p1 results: All test cases passed!"
      ]
     },
     "execution_count": 16,
     "metadata": {},
     "output_type": "execute_result"
    }
   ],
   "source": [
    "grader.check(\"q2p1\")"
   ]
  },
  {
   "cell_type": "markdown",
   "metadata": {},
   "source": [
    "## 2.2 Center the inputs\n",
    "\n",
    "## $\\mathbf{\\bar{X}} = \\text{mean}(\\mathbf{X})$\n",
    "## $\\Phi=\\mathbf{X}-\\mathbf{\\bar{X}}$\n",
    "\n",
    "Compute the column-wise means `Xbar` and subtract them from `X` to obtain `Phi`. Hint: Use `X.mean(axis=...)`. Should it be `axis=0` or `axis=1`? Check that the column-wise means of `Phi` equal zero (to machine precision). "
   ]
  },
  {
   "cell_type": "code",
   "execution_count": 17,
   "metadata": {
    "execution": {
     "iopub.execute_input": "2023-03-07T08:09:04.358620Z",
     "iopub.status.busy": "2023-03-07T08:09:04.357583Z",
     "iopub.status.idle": "2023-03-07T08:09:04.365108Z",
     "shell.execute_reply": "2023-03-07T08:09:04.364257Z"
    },
    "tags": []
   },
   "outputs": [
    {
     "data": {
      "text/plain": [
       "(2895, 23)"
      ]
     },
     "execution_count": 17,
     "metadata": {},
     "output_type": "execute_result"
    }
   ],
   "source": [
    "Xbar = X.mean(axis=0)\n",
    "Phi = X-Xbar\n",
    "Phi.shape"
   ]
  },
  {
   "cell_type": "code",
   "execution_count": 18,
   "metadata": {
    "deletable": false,
    "editable": false
   },
   "outputs": [
    {
     "data": {
      "text/html": [
       "<p><strong><pre style='display: inline;'>q2p2</pre></strong> passed! 🚀</p>"
      ],
      "text/plain": [
       "q2p2 results: All test cases passed!"
      ]
     },
     "execution_count": 18,
     "metadata": {},
     "output_type": "execute_result"
    }
   ],
   "source": [
    "grader.check(\"q2p2\")"
   ]
  },
  {
   "cell_type": "markdown",
   "metadata": {},
   "source": [
    "## 2.3 Compute the intercept term \n",
    "\n",
    "## $\\theta_0 = \\text{mean}(\\mathbf{Y})$"
   ]
  },
  {
   "cell_type": "code",
   "execution_count": 19,
   "metadata": {
    "execution": {
     "iopub.execute_input": "2023-03-07T08:09:04.402338Z",
     "iopub.status.busy": "2023-03-07T08:09:04.401553Z",
     "iopub.status.idle": "2023-03-07T08:09:04.408088Z",
     "shell.execute_reply": "2023-03-07T08:09:04.407336Z"
    },
    "tags": []
   },
   "outputs": [],
   "source": [
    "theta0 = Y.mean(axis=0)"
   ]
  },
  {
   "cell_type": "code",
   "execution_count": 20,
   "metadata": {
    "deletable": false,
    "editable": false
   },
   "outputs": [
    {
     "data": {
      "text/html": [
       "<p><strong><pre style='display: inline;'>q2p3</pre></strong> passed! 🍀</p>"
      ],
      "text/plain": [
       "q2p3 results: All test cases passed!"
      ]
     },
     "execution_count": 20,
     "metadata": {},
     "output_type": "execute_result"
    }
   ],
   "source": [
    "grader.check(\"q2p3\")"
   ]
  },
  {
   "cell_type": "markdown",
   "metadata": {},
   "source": [
    "## 2.4 Center the output\n",
    "\n",
    "## $\\mathbf{\\tilde{Y}} = \\mathbf{Y} - \\theta_0$"
   ]
  },
  {
   "cell_type": "code",
   "execution_count": 21,
   "metadata": {
    "execution": {
     "iopub.execute_input": "2023-03-07T08:09:04.423462Z",
     "iopub.status.busy": "2023-03-07T08:09:04.422770Z",
     "iopub.status.idle": "2023-03-07T08:09:04.429680Z",
     "shell.execute_reply": "2023-03-07T08:09:04.428736Z"
    },
    "tags": []
   },
   "outputs": [],
   "source": [
    "Ytilde = Y-theta0"
   ]
  },
  {
   "cell_type": "code",
   "execution_count": 22,
   "metadata": {
    "deletable": false,
    "editable": false
   },
   "outputs": [
    {
     "data": {
      "text/html": [
       "<p><strong><pre style='display: inline;'>q2p4</pre></strong> passed! 🎉</p>"
      ],
      "text/plain": [
       "q2p4 results: All test cases passed!"
      ]
     },
     "execution_count": 22,
     "metadata": {},
     "output_type": "execute_result"
    }
   ],
   "source": [
    "grader.check(\"q2p4\")"
   ]
  },
  {
   "cell_type": "markdown",
   "metadata": {},
   "source": [
    "## 2.5 Compute $V=(\\Phi^T \\Phi)^{-1}$\n",
    "\n",
    "Hints:\n",
    "+ numpy's @ operator and matrix transposition (`Phi.T`). See [this](https://numpy.org/devdocs/user/numpy-for-matlab-users.html) summary of the key differences between numpy and Matlab.\n",
    "+ [np.linalg.inv](https://numpy.org/doc/stable/reference/generated/numpy.linalg.inv.html)\n"
   ]
  },
  {
   "cell_type": "code",
   "execution_count": 23,
   "metadata": {
    "execution": {
     "iopub.execute_input": "2023-03-07T08:09:04.456320Z",
     "iopub.status.busy": "2023-03-07T08:09:04.455991Z",
     "iopub.status.idle": "2023-03-07T08:09:04.471439Z",
     "shell.execute_reply": "2023-03-07T08:09:04.470657Z"
    },
    "tags": []
   },
   "outputs": [],
   "source": [
    "V = np.linalg.inv(Phi.T@Phi)"
   ]
  },
  {
   "cell_type": "code",
   "execution_count": 24,
   "metadata": {
    "deletable": false,
    "editable": false
   },
   "outputs": [
    {
     "data": {
      "text/html": [
       "<p><strong><pre style='display: inline;'>q2p5</pre></strong> passed! 🌈</p>"
      ],
      "text/plain": [
       "q2p5 results: All test cases passed!"
      ]
     },
     "execution_count": 24,
     "metadata": {},
     "output_type": "execute_result"
    }
   ],
   "source": [
    "grader.check(\"q2p5\")"
   ]
  },
  {
   "cell_type": "markdown",
   "metadata": {},
   "source": [
    "## 2.6 Compute the least squares estimates of the parameters\n",
    "\n",
    "### ${\\underline\\theta} = (\\Phi^T\\Phi)^{-1}\\Phi^{T} \\mathbf{\\tilde{Y}}$"
   ]
  },
  {
   "cell_type": "code",
   "execution_count": 25,
   "metadata": {
    "execution": {
     "iopub.execute_input": "2023-03-07T08:09:04.533766Z",
     "iopub.status.busy": "2023-03-07T08:09:04.533210Z",
     "iopub.status.idle": "2023-03-07T08:09:04.543171Z",
     "shell.execute_reply": "2023-03-07T08:09:04.542404Z"
    },
    "tags": []
   },
   "outputs": [],
   "source": [
    "theta = V@Phi.T@Ytilde"
   ]
  },
  {
   "cell_type": "code",
   "execution_count": 26,
   "metadata": {
    "deletable": false,
    "editable": false
   },
   "outputs": [
    {
     "data": {
      "text/html": [
       "<p><strong><pre style='display: inline;'>q2p6</pre></strong> passed! 🌟</p>"
      ],
      "text/plain": [
       "q2p6 results: All test cases passed!"
      ]
     },
     "execution_count": 26,
     "metadata": {},
     "output_type": "execute_result"
    }
   ],
   "source": [
    "grader.check(\"q2p6\")"
   ]
  },
  {
   "cell_type": "markdown",
   "metadata": {},
   "source": [
    "## 2.7 Compute predictions for each of the samples\n",
    "\n",
    "### $\\mathbf{\\hat{Y}} = \\theta_0 + \\Phi\\underline\\theta$\n"
   ]
  },
  {
   "cell_type": "code",
   "execution_count": 27,
   "metadata": {
    "execution": {
     "iopub.execute_input": "2023-03-07T08:09:04.579733Z",
     "iopub.status.busy": "2023-03-07T08:09:04.577838Z",
     "iopub.status.idle": "2023-03-07T08:09:04.588879Z",
     "shell.execute_reply": "2023-03-07T08:09:04.587732Z"
    },
    "tags": []
   },
   "outputs": [],
   "source": [
    "Yhat = theta0 + Phi@theta"
   ]
  },
  {
   "cell_type": "code",
   "execution_count": 28,
   "metadata": {
    "deletable": false,
    "editable": false
   },
   "outputs": [
    {
     "data": {
      "text/html": [
       "<p><strong><pre style='display: inline;'>q2p7</pre></strong> passed! 🍀</p>"
      ],
      "text/plain": [
       "q2p7 results: All test cases passed!"
      ]
     },
     "execution_count": 28,
     "metadata": {},
     "output_type": "execute_result"
    }
   ],
   "source": [
    "grader.check(\"q2p7\")"
   ]
  },
  {
   "cell_type": "markdown",
   "metadata": {},
   "source": [
    "---\n",
    "\n",
    "<h1><font color='purple'> Part 3: Parameter uncertainty and hypothesis test</font></h1>"
   ]
  },
  {
   "cell_type": "markdown",
   "metadata": {},
   "source": [
    "## 3.1 Compute the standard deviation of the output\n",
    "\n",
    "### $\\hat\\sigma_Y = \\sqrt{ \\frac{1}{N-D-1} \\sum_{i=1}^{N}(y_i-\\hat{y}_i)^2 }$"
   ]
  },
  {
   "cell_type": "code",
   "execution_count": 29,
   "metadata": {
    "execution": {
     "iopub.execute_input": "2023-03-07T08:09:04.625450Z",
     "iopub.status.busy": "2023-03-07T08:09:04.624608Z",
     "iopub.status.idle": "2023-03-07T08:09:04.634926Z",
     "shell.execute_reply": "2023-03-07T08:09:04.633771Z"
    },
    "tags": []
   },
   "outputs": [],
   "source": [
    "sigmahatY = np.sqrt(1/(N-D-1)*np.sum((Y-Yhat)**2))"
   ]
  },
  {
   "cell_type": "code",
   "execution_count": 30,
   "metadata": {
    "deletable": false,
    "editable": false
   },
   "outputs": [
    {
     "data": {
      "text/html": [
       "<p><strong><pre style='display: inline;'>q3p1</pre></strong> passed! 🙌</p>"
      ],
      "text/plain": [
       "q3p1 results: All test cases passed!"
      ]
     },
     "execution_count": 30,
     "metadata": {},
     "output_type": "execute_result"
    }
   ],
   "source": [
    "grader.check(\"q3p1\")"
   ]
  },
  {
   "cell_type": "markdown",
   "metadata": {},
   "source": [
    "## 3.2 Compute the standard deviations of the parameter estimates\n",
    "\n",
    "### $\\sigma_i = Std(\\hat\\theta_i) = \\hat\\sigma_Y \\sqrt{ v_i } $\n",
    "\n",
    "Here $v_i$ is the $i$'th diagonal component of $V$."
   ]
  },
  {
   "cell_type": "code",
   "execution_count": 31,
   "metadata": {
    "execution": {
     "iopub.execute_input": "2023-03-07T08:09:04.657200Z",
     "iopub.status.busy": "2023-03-07T08:09:04.656361Z",
     "iopub.status.idle": "2023-03-07T08:09:04.667161Z",
     "shell.execute_reply": "2023-03-07T08:09:04.665909Z"
    },
    "tags": []
   },
   "outputs": [],
   "source": [
    "v = np.diag(V)\n",
    "sigma_theta = sigmahatY * np.sqrt(v)"
   ]
  },
  {
   "cell_type": "code",
   "execution_count": 32,
   "metadata": {
    "deletable": false,
    "editable": false
   },
   "outputs": [
    {
     "data": {
      "text/html": [
       "<p><strong><pre style='display: inline;'>q3p2</pre></strong> passed! 🌟</p>"
      ],
      "text/plain": [
       "q3p2 results: All test cases passed!"
      ]
     },
     "execution_count": 32,
     "metadata": {},
     "output_type": "execute_result"
    }
   ],
   "source": [
    "grader.check(\"q3p2\")"
   ]
  },
  {
   "cell_type": "markdown",
   "metadata": {},
   "source": [
    "## 3.3 Conduct a hypothesis test on each of the parameters, with the null hypothesis that the parameter value is zero. Use a significance level of $\\alpha=0.05$."
   ]
  },
  {
   "cell_type": "code",
   "execution_count": 33,
   "metadata": {
    "execution": {
     "iopub.execute_input": "2023-03-07T08:09:04.714754Z",
     "iopub.status.busy": "2023-03-07T08:09:04.713878Z",
     "iopub.status.idle": "2023-03-07T08:09:04.720061Z",
     "shell.execute_reply": "2023-03-07T08:09:04.718831Z"
    }
   },
   "outputs": [],
   "source": [
    "alpha = 0.05"
   ]
  },
  {
   "cell_type": "markdown",
   "metadata": {},
   "source": [
    "### 3.3.1 Compute Z for each parameter\n",
    "\n",
    "### $Z_i = \\hat\\theta_i/\\sigma_i$"
   ]
  },
  {
   "cell_type": "code",
   "execution_count": 41,
   "metadata": {
    "execution": {
     "iopub.execute_input": "2023-03-07T08:09:04.729426Z",
     "iopub.status.busy": "2023-03-07T08:09:04.728563Z",
     "iopub.status.idle": "2023-03-07T08:09:04.735793Z",
     "shell.execute_reply": "2023-03-07T08:09:04.734546Z"
    },
    "tags": []
   },
   "outputs": [],
   "source": [
    "Z = theta/sigma_theta"
   ]
  },
  {
   "cell_type": "code",
   "execution_count": 42,
   "metadata": {
    "deletable": false,
    "editable": false
   },
   "outputs": [
    {
     "data": {
      "text/html": [
       "<p><strong><pre style='display: inline;'>q3p3p1</pre></strong> passed! 🍀</p>"
      ],
      "text/plain": [
       "q3p3p1 results: All test cases passed!"
      ]
     },
     "execution_count": 42,
     "metadata": {},
     "output_type": "execute_result"
    }
   ],
   "source": [
    "grader.check(\"q3p3p1\")"
   ]
  },
  {
   "cell_type": "markdown",
   "metadata": {},
   "source": [
    "### 3.3.2. Compute the p-value for each parameter\n",
    "\n",
    "### $p_i = 2\\: \\Phi_{\\mathcal{N}}(-|Z_i|)$"
   ]
  },
  {
   "cell_type": "code",
   "execution_count": 47,
   "metadata": {
    "execution": {
     "iopub.execute_input": "2023-03-07T08:09:04.764304Z",
     "iopub.status.busy": "2023-03-07T08:09:04.763909Z",
     "iopub.status.idle": "2023-03-07T08:09:04.771760Z",
     "shell.execute_reply": "2023-03-07T08:09:04.770495Z"
    },
    "tags": []
   },
   "outputs": [],
   "source": [
    "p = 2*stats.norm.cdf(-abs(Z))"
   ]
  },
  {
   "cell_type": "code",
   "execution_count": 48,
   "metadata": {
    "deletable": false,
    "editable": false
   },
   "outputs": [
    {
     "data": {
      "text/html": [
       "<p><strong><pre style='display: inline;'>q3p3p2</pre></strong> passed! ✨</p>"
      ],
      "text/plain": [
       "q3p3p2 results: All test cases passed!"
      ]
     },
     "execution_count": 48,
     "metadata": {},
     "output_type": "execute_result"
    }
   ],
   "source": [
    "grader.check(\"q3p3p2\")"
   ]
  },
  {
   "cell_type": "markdown",
   "metadata": {},
   "source": [
    "### 3.3.3 Create a boolean mask indicating features that were deemed influential by the hypothesis test (H0 was rejected)\n",
    "\n",
    "Done already."
   ]
  },
  {
   "cell_type": "code",
   "execution_count": 49,
   "metadata": {
    "execution": {
     "iopub.execute_input": "2023-03-07T08:09:04.797650Z",
     "iopub.status.busy": "2023-03-07T08:09:04.797288Z",
     "iopub.status.idle": "2023-03-07T08:09:04.801230Z",
     "shell.execute_reply": "2023-03-07T08:09:04.800401Z"
    }
   },
   "outputs": [],
   "source": [
    "ind_influential = p<alpha"
   ]
  },
  {
   "cell_type": "markdown",
   "metadata": {},
   "source": [
    "### 3.4 Parameters table.\n",
    "Make a DataFrame with one row per parameter. The index of the table should be the parameter names. The columns should be:\n",
    "+ `theta`: the point estimate of the parameter.\n",
    "+ `stddev`: the estiuamted standard deviation of the parameters.\n",
    "+ `Z`: Z scores computed in part 3.3.1\n",
    "+ `p`: p-values compute in part 3.3.2\n",
    "+ `influential`: the boolean indicator from part 3.3.3.\n",
    "\n",
    "Done already."
   ]
  },
  {
   "cell_type": "code",
   "execution_count": 50,
   "metadata": {
    "execution": {
     "iopub.execute_input": "2023-03-07T08:09:04.805297Z",
     "iopub.status.busy": "2023-03-07T08:09:04.804931Z",
     "iopub.status.idle": "2023-03-07T08:09:04.826583Z",
     "shell.execute_reply": "2023-03-07T08:09:04.825539Z"
    }
   },
   "outputs": [
    {
     "data": {
      "text/html": [
       "<div>\n",
       "<style scoped>\n",
       "    .dataframe tbody tr th:only-of-type {\n",
       "        vertical-align: middle;\n",
       "    }\n",
       "\n",
       "    .dataframe tbody tr th {\n",
       "        vertical-align: top;\n",
       "    }\n",
       "\n",
       "    .dataframe thead th {\n",
       "        text-align: right;\n",
       "    }\n",
       "</style>\n",
       "<table border=\"1\" class=\"dataframe\">\n",
       "  <thead>\n",
       "    <tr style=\"text-align: right;\">\n",
       "      <th></th>\n",
       "      <th>theta</th>\n",
       "      <th>stddev</th>\n",
       "      <th>Z</th>\n",
       "      <th>p</th>\n",
       "      <th>influential</th>\n",
       "    </tr>\n",
       "  </thead>\n",
       "  <tbody>\n",
       "    <tr>\n",
       "      <th>incidencerate</th>\n",
       "      <td>0.187506</td>\n",
       "      <td>0.007661</td>\n",
       "      <td>24.475587</td>\n",
       "      <td>2.688326e-132</td>\n",
       "      <td>True</td>\n",
       "    </tr>\n",
       "    <tr>\n",
       "      <th>medincome</th>\n",
       "      <td>0.000036</td>\n",
       "      <td>0.000082</td>\n",
       "      <td>0.440800</td>\n",
       "      <td>6.593576e-01</td>\n",
       "      <td>False</td>\n",
       "    </tr>\n",
       "    <tr>\n",
       "      <th>povertypercent</th>\n",
       "      <td>0.291682</td>\n",
       "      <td>0.161699</td>\n",
       "      <td>1.803853</td>\n",
       "      <td>7.125441e-02</td>\n",
       "      <td>False</td>\n",
       "    </tr>\n",
       "    <tr>\n",
       "      <th>medianage</th>\n",
       "      <td>-0.005219</td>\n",
       "      <td>0.008185</td>\n",
       "      <td>-0.637612</td>\n",
       "      <td>5.237264e-01</td>\n",
       "      <td>False</td>\n",
       "    </tr>\n",
       "    <tr>\n",
       "      <th>avghouseholdsize</th>\n",
       "      <td>0.797012</td>\n",
       "      <td>0.989947</td>\n",
       "      <td>0.805106</td>\n",
       "      <td>4.207585e-01</td>\n",
       "      <td>False</td>\n",
       "    </tr>\n",
       "    <tr>\n",
       "      <th>percentmarried</th>\n",
       "      <td>1.166145</td>\n",
       "      <td>0.166061</td>\n",
       "      <td>7.022370</td>\n",
       "      <td>2.181363e-12</td>\n",
       "      <td>True</td>\n",
       "    </tr>\n",
       "    <tr>\n",
       "      <th>pctnohs18_24</th>\n",
       "      <td>-0.194668</td>\n",
       "      <td>0.057114</td>\n",
       "      <td>-3.408435</td>\n",
       "      <td>6.533657e-04</td>\n",
       "      <td>True</td>\n",
       "    </tr>\n",
       "    <tr>\n",
       "      <th>pcths18_24</th>\n",
       "      <td>0.183444</td>\n",
       "      <td>0.050269</td>\n",
       "      <td>3.649261</td>\n",
       "      <td>2.629955e-04</td>\n",
       "      <td>True</td>\n",
       "    </tr>\n",
       "    <tr>\n",
       "      <th>pctbachdeg18_24</th>\n",
       "      <td>-0.114888</td>\n",
       "      <td>0.110064</td>\n",
       "      <td>-1.043822</td>\n",
       "      <td>2.965676e-01</td>\n",
       "      <td>False</td>\n",
       "    </tr>\n",
       "    <tr>\n",
       "      <th>pcths25_over</th>\n",
       "      <td>0.369317</td>\n",
       "      <td>0.098170</td>\n",
       "      <td>3.762007</td>\n",
       "      <td>1.685551e-04</td>\n",
       "      <td>True</td>\n",
       "    </tr>\n",
       "    <tr>\n",
       "      <th>pctbachdeg25_over</th>\n",
       "      <td>-1.220256</td>\n",
       "      <td>0.158098</td>\n",
       "      <td>-7.718337</td>\n",
       "      <td>1.178577e-14</td>\n",
       "      <td>True</td>\n",
       "    </tr>\n",
       "    <tr>\n",
       "      <th>pctemployed16_over</th>\n",
       "      <td>-0.673616</td>\n",
       "      <td>0.109705</td>\n",
       "      <td>-6.140244</td>\n",
       "      <td>8.239456e-10</td>\n",
       "      <td>True</td>\n",
       "    </tr>\n",
       "    <tr>\n",
       "      <th>pctunemployed16_over</th>\n",
       "      <td>0.159057</td>\n",
       "      <td>0.169522</td>\n",
       "      <td>0.938270</td>\n",
       "      <td>3.481055e-01</td>\n",
       "      <td>False</td>\n",
       "    </tr>\n",
       "    <tr>\n",
       "      <th>pctprivatecoverage</th>\n",
       "      <td>-0.451365</td>\n",
       "      <td>0.132278</td>\n",
       "      <td>-3.412255</td>\n",
       "      <td>6.442778e-04</td>\n",
       "      <td>True</td>\n",
       "    </tr>\n",
       "    <tr>\n",
       "      <th>pctempprivcoverage</th>\n",
       "      <td>0.421374</td>\n",
       "      <td>0.106657</td>\n",
       "      <td>3.950731</td>\n",
       "      <td>7.791297e-05</td>\n",
       "      <td>True</td>\n",
       "    </tr>\n",
       "    <tr>\n",
       "      <th>pctpubliccoverage</th>\n",
       "      <td>-0.948335</td>\n",
       "      <td>0.183828</td>\n",
       "      <td>-5.158809</td>\n",
       "      <td>2.485254e-07</td>\n",
       "      <td>True</td>\n",
       "    </tr>\n",
       "    <tr>\n",
       "      <th>pctpubliccoveragealone</th>\n",
       "      <td>1.011222</td>\n",
       "      <td>0.257571</td>\n",
       "      <td>3.925986</td>\n",
       "      <td>8.637530e-05</td>\n",
       "      <td>True</td>\n",
       "    </tr>\n",
       "    <tr>\n",
       "      <th>pctwhite</th>\n",
       "      <td>-0.131077</td>\n",
       "      <td>0.059187</td>\n",
       "      <td>-2.214612</td>\n",
       "      <td>2.678671e-02</td>\n",
       "      <td>True</td>\n",
       "    </tr>\n",
       "    <tr>\n",
       "      <th>pctblack</th>\n",
       "      <td>-0.063329</td>\n",
       "      <td>0.056613</td>\n",
       "      <td>-1.118626</td>\n",
       "      <td>2.632996e-01</td>\n",
       "      <td>False</td>\n",
       "    </tr>\n",
       "    <tr>\n",
       "      <th>pctasian</th>\n",
       "      <td>-0.161777</td>\n",
       "      <td>0.182805</td>\n",
       "      <td>-0.884969</td>\n",
       "      <td>3.761734e-01</td>\n",
       "      <td>False</td>\n",
       "    </tr>\n",
       "    <tr>\n",
       "      <th>pctotherrace</th>\n",
       "      <td>-0.903198</td>\n",
       "      <td>0.125004</td>\n",
       "      <td>-7.225334</td>\n",
       "      <td>4.998729e-13</td>\n",
       "      <td>True</td>\n",
       "    </tr>\n",
       "    <tr>\n",
       "      <th>pctmarriedhouseholds</th>\n",
       "      <td>-1.270509</td>\n",
       "      <td>0.164788</td>\n",
       "      <td>-7.709947</td>\n",
       "      <td>1.258699e-14</td>\n",
       "      <td>True</td>\n",
       "    </tr>\n",
       "    <tr>\n",
       "      <th>birthrate</th>\n",
       "      <td>-0.830525</td>\n",
       "      <td>0.194075</td>\n",
       "      <td>-4.279410</td>\n",
       "      <td>1.873893e-05</td>\n",
       "      <td>True</td>\n",
       "    </tr>\n",
       "  </tbody>\n",
       "</table>\n",
       "</div>"
      ],
      "text/plain": [
       "                           theta    stddev          Z              p  \\\n",
       "incidencerate           0.187506  0.007661  24.475587  2.688326e-132   \n",
       "medincome               0.000036  0.000082   0.440800   6.593576e-01   \n",
       "povertypercent          0.291682  0.161699   1.803853   7.125441e-02   \n",
       "medianage              -0.005219  0.008185  -0.637612   5.237264e-01   \n",
       "avghouseholdsize        0.797012  0.989947   0.805106   4.207585e-01   \n",
       "percentmarried          1.166145  0.166061   7.022370   2.181363e-12   \n",
       "pctnohs18_24           -0.194668  0.057114  -3.408435   6.533657e-04   \n",
       "pcths18_24              0.183444  0.050269   3.649261   2.629955e-04   \n",
       "pctbachdeg18_24        -0.114888  0.110064  -1.043822   2.965676e-01   \n",
       "pcths25_over            0.369317  0.098170   3.762007   1.685551e-04   \n",
       "pctbachdeg25_over      -1.220256  0.158098  -7.718337   1.178577e-14   \n",
       "pctemployed16_over     -0.673616  0.109705  -6.140244   8.239456e-10   \n",
       "pctunemployed16_over    0.159057  0.169522   0.938270   3.481055e-01   \n",
       "pctprivatecoverage     -0.451365  0.132278  -3.412255   6.442778e-04   \n",
       "pctempprivcoverage      0.421374  0.106657   3.950731   7.791297e-05   \n",
       "pctpubliccoverage      -0.948335  0.183828  -5.158809   2.485254e-07   \n",
       "pctpubliccoveragealone  1.011222  0.257571   3.925986   8.637530e-05   \n",
       "pctwhite               -0.131077  0.059187  -2.214612   2.678671e-02   \n",
       "pctblack               -0.063329  0.056613  -1.118626   2.632996e-01   \n",
       "pctasian               -0.161777  0.182805  -0.884969   3.761734e-01   \n",
       "pctotherrace           -0.903198  0.125004  -7.225334   4.998729e-13   \n",
       "pctmarriedhouseholds   -1.270509  0.164788  -7.709947   1.258699e-14   \n",
       "birthrate              -0.830525  0.194075  -4.279410   1.873893e-05   \n",
       "\n",
       "                        influential  \n",
       "incidencerate                  True  \n",
       "medincome                     False  \n",
       "povertypercent                False  \n",
       "medianage                     False  \n",
       "avghouseholdsize              False  \n",
       "percentmarried                 True  \n",
       "pctnohs18_24                   True  \n",
       "pcths18_24                     True  \n",
       "pctbachdeg18_24               False  \n",
       "pcths25_over                   True  \n",
       "pctbachdeg25_over              True  \n",
       "pctemployed16_over             True  \n",
       "pctunemployed16_over          False  \n",
       "pctprivatecoverage             True  \n",
       "pctempprivcoverage             True  \n",
       "pctpubliccoverage              True  \n",
       "pctpubliccoveragealone         True  \n",
       "pctwhite                       True  \n",
       "pctblack                      False  \n",
       "pctasian                      False  \n",
       "pctotherrace                   True  \n",
       "pctmarriedhouseholds           True  \n",
       "birthrate                      True  "
      ]
     },
     "execution_count": 50,
     "metadata": {},
     "output_type": "execute_result"
    }
   ],
   "source": [
    "lr_params = pd.DataFrame(index=features,\n",
    "             data={'theta':theta,\n",
    "                   'stddev':sigma_theta,\n",
    "                   'Z':Z,\n",
    "                   'p':p,\n",
    "                   'influential':ind_influential})\n",
    "\n",
    "lr_params"
   ]
  },
  {
   "cell_type": "markdown",
   "metadata": {},
   "source": [
    "## 3.5 Sort the parameters table by p-value\n",
    "\n",
    "Create a new DataFrame called `lr_params_sorted` by sorting the values in ascending order, according to p-values.\n",
    "\n",
    "Hint: [`sort_values`](https://pandas.pydata.org/docs/reference/api/pandas.DataFrame.sort_values.html)"
   ]
  },
  {
   "cell_type": "code",
   "execution_count": 58,
   "metadata": {
    "execution": {
     "iopub.execute_input": "2023-03-07T08:09:04.832199Z",
     "iopub.status.busy": "2023-03-07T08:09:04.831838Z",
     "iopub.status.idle": "2023-03-07T08:09:04.839891Z",
     "shell.execute_reply": "2023-03-07T08:09:04.838852Z"
    },
    "tags": []
   },
   "outputs": [],
   "source": [
    "lr_params_sorted = lr_params.sort_values(by='p', ascending=True)"
   ]
  },
  {
   "cell_type": "code",
   "execution_count": 59,
   "metadata": {
    "deletable": false,
    "editable": false
   },
   "outputs": [
    {
     "data": {
      "text/html": [
       "<p><strong><pre style='display: inline;'>q3p5</pre></strong> passed! 🚀</p>"
      ],
      "text/plain": [
       "q3p5 results: All test cases passed!"
      ]
     },
     "execution_count": 59,
     "metadata": {},
     "output_type": "execute_result"
    }
   ],
   "source": [
    "grader.check(\"q3p5\")"
   ]
  },
  {
   "cell_type": "markdown",
   "metadata": {},
   "source": [
    "## 3.6 Bar plot\n",
    "\n",
    "The bar plot below shows the parameter values along with their 95% (2$\\sigma$) confidence intervals. Influential fetaures are showns in green, non-influential features are shown in red."
   ]
  },
  {
   "cell_type": "code",
   "execution_count": 60,
   "metadata": {
    "execution": {
     "iopub.execute_input": "2023-03-07T08:09:04.856294Z",
     "iopub.status.busy": "2023-03-07T08:09:04.855600Z",
     "iopub.status.idle": "2023-03-07T08:09:05.299170Z",
     "shell.execute_reply": "2023-03-07T08:09:05.298149Z"
    }
   },
   "outputs": [
    {
     "data": {
      "image/png": "[encoded data removed]",
      "text/plain": [
       "<Figure size 1500x500 with 1 Axes>"
      ]
     },
     "metadata": {},
     "output_type": "display_data"
    }
   ],
   "source": [
    "color = np.array(['g' for i in range(D)])\n",
    "color[~lr_params_sorted['influential']] = 'r'\n",
    "\n",
    "lr_params_sorted.plot(kind='bar',\n",
    "                y='theta',\n",
    "                yerr=2*lr_params_sorted['stddev'],\n",
    "                figsize=(15,5),\n",
    "                color=color,\n",
    "                legend=False)\n",
    "plt.grid(linestyle=':')"
   ]
  },
  {
   "cell_type": "markdown",
   "metadata": {},
   "source": [
    "## 3.7 Build list of features to keep\n",
    "\n",
    "Extract the names of influential features from `lr_params_sorted` and store them in `features` (overwrite the previous values). `features` should be a numpy array with shape `(15,)`."
   ]
  },
  {
   "cell_type": "code",
   "execution_count": 70,
   "metadata": {
    "execution": {
     "iopub.execute_input": "2023-03-07T08:09:05.304027Z",
     "iopub.status.busy": "2023-03-07T08:09:05.303704Z",
     "iopub.status.idle": "2023-03-07T08:09:05.311182Z",
     "shell.execute_reply": "2023-03-07T08:09:05.310182Z"
    },
    "tags": []
   },
   "outputs": [],
   "source": [
    "lr_params_sorted_influential = lr_params_sorted[lr_params_sorted['influential']]\n",
    "features = np.array(lr_params_sorted_influential.index)"
   ]
  },
  {
   "cell_type": "code",
   "execution_count": 71,
   "metadata": {
    "deletable": false,
    "editable": false
   },
   "outputs": [
    {
     "data": {
      "text/html": [
       "<p><strong><pre style='display: inline;'>q3p7</pre></strong> passed! 🍀</p>"
      ],
      "text/plain": [
       "q3p7 results: All test cases passed!"
      ]
     },
     "execution_count": 71,
     "metadata": {},
     "output_type": "execute_result"
    }
   ],
   "source": [
    "grader.check(\"q3p7\")"
   ]
  },
  {
   "cell_type": "markdown",
   "metadata": {},
   "source": [
    "## 3.8 Create a new DataFrame with only the chosen features\n",
    "\n",
    "Done already. Notice that the target variable is now called `Y`."
   ]
  },
  {
   "cell_type": "code",
   "execution_count": 72,
   "metadata": {
    "execution": {
     "iopub.execute_input": "2023-03-07T08:09:05.336329Z",
     "iopub.status.busy": "2023-03-07T08:09:05.335444Z",
     "iopub.status.idle": "2023-03-07T08:09:05.362573Z",
     "shell.execute_reply": "2023-03-07T08:09:05.361487Z"
    }
   },
   "outputs": [
    {
     "data": {
      "text/html": [
       "<div>\n",
       "<style scoped>\n",
       "    .dataframe tbody tr th:only-of-type {\n",
       "        vertical-align: middle;\n",
       "    }\n",
       "\n",
       "    .dataframe tbody tr th {\n",
       "        vertical-align: top;\n",
       "    }\n",
       "\n",
       "    .dataframe thead th {\n",
       "        text-align: right;\n",
       "    }\n",
       "</style>\n",
       "<table border=\"1\" class=\"dataframe\">\n",
       "  <thead>\n",
       "    <tr style=\"text-align: right;\">\n",
       "      <th></th>\n",
       "      <th>incidencerate</th>\n",
       "      <th>pctbachdeg25_over</th>\n",
       "      <th>pctmarriedhouseholds</th>\n",
       "      <th>pctotherrace</th>\n",
       "      <th>percentmarried</th>\n",
       "      <th>pctemployed16_over</th>\n",
       "      <th>pctpubliccoverage</th>\n",
       "      <th>birthrate</th>\n",
       "      <th>pctempprivcoverage</th>\n",
       "      <th>pctpubliccoveragealone</th>\n",
       "      <th>pcths25_over</th>\n",
       "      <th>pcths18_24</th>\n",
       "      <th>pctprivatecoverage</th>\n",
       "      <th>pctnohs18_24</th>\n",
       "      <th>pctwhite</th>\n",
       "      <th>Y</th>\n",
       "    </tr>\n",
       "  </thead>\n",
       "  <tbody>\n",
       "    <tr>\n",
       "      <th>0</th>\n",
       "      <td>489.8</td>\n",
       "      <td>19.6</td>\n",
       "      <td>52.856076</td>\n",
       "      <td>1.843479</td>\n",
       "      <td>52.5</td>\n",
       "      <td>51.9</td>\n",
       "      <td>32.9</td>\n",
       "      <td>6.118831</td>\n",
       "      <td>41.6</td>\n",
       "      <td>14.0</td>\n",
       "      <td>23.2</td>\n",
       "      <td>39.5</td>\n",
       "      <td>75.1</td>\n",
       "      <td>11.5</td>\n",
       "      <td>81.780529</td>\n",
       "      <td>164.9</td>\n",
       "    </tr>\n",
       "    <tr>\n",
       "      <th>1</th>\n",
       "      <td>411.6</td>\n",
       "      <td>22.7</td>\n",
       "      <td>45.372500</td>\n",
       "      <td>3.741352</td>\n",
       "      <td>44.5</td>\n",
       "      <td>55.9</td>\n",
       "      <td>31.1</td>\n",
       "      <td>4.333096</td>\n",
       "      <td>43.6</td>\n",
       "      <td>15.3</td>\n",
       "      <td>26.0</td>\n",
       "      <td>22.4</td>\n",
       "      <td>70.2</td>\n",
       "      <td>6.1</td>\n",
       "      <td>89.228509</td>\n",
       "      <td>161.3</td>\n",
       "    </tr>\n",
       "    <tr>\n",
       "      <th>2</th>\n",
       "      <td>349.7</td>\n",
       "      <td>16.0</td>\n",
       "      <td>54.444868</td>\n",
       "      <td>2.747358</td>\n",
       "      <td>54.2</td>\n",
       "      <td>45.9</td>\n",
       "      <td>42.1</td>\n",
       "      <td>3.729488</td>\n",
       "      <td>34.9</td>\n",
       "      <td>21.1</td>\n",
       "      <td>29.0</td>\n",
       "      <td>36.6</td>\n",
       "      <td>63.7</td>\n",
       "      <td>24.0</td>\n",
       "      <td>90.922190</td>\n",
       "      <td>174.7</td>\n",
       "    </tr>\n",
       "    <tr>\n",
       "      <th>3</th>\n",
       "      <td>430.4</td>\n",
       "      <td>9.3</td>\n",
       "      <td>51.021514</td>\n",
       "      <td>1.362643</td>\n",
       "      <td>52.7</td>\n",
       "      <td>48.3</td>\n",
       "      <td>45.3</td>\n",
       "      <td>4.603841</td>\n",
       "      <td>35.0</td>\n",
       "      <td>25.0</td>\n",
       "      <td>31.6</td>\n",
       "      <td>41.2</td>\n",
       "      <td>58.4</td>\n",
       "      <td>20.2</td>\n",
       "      <td>91.744686</td>\n",
       "      <td>194.8</td>\n",
       "    </tr>\n",
       "    <tr>\n",
       "      <th>4</th>\n",
       "      <td>350.1</td>\n",
       "      <td>15.0</td>\n",
       "      <td>54.027460</td>\n",
       "      <td>0.492135</td>\n",
       "      <td>57.8</td>\n",
       "      <td>48.2</td>\n",
       "      <td>44.0</td>\n",
       "      <td>6.796657</td>\n",
       "      <td>35.1</td>\n",
       "      <td>22.7</td>\n",
       "      <td>33.4</td>\n",
       "      <td>43.0</td>\n",
       "      <td>61.6</td>\n",
       "      <td>14.9</td>\n",
       "      <td>94.104024</td>\n",
       "      <td>144.4</td>\n",
       "    </tr>\n",
       "  </tbody>\n",
       "</table>\n",
       "</div>"
      ],
      "text/plain": [
       "   incidencerate  pctbachdeg25_over  pctmarriedhouseholds  pctotherrace  \\\n",
       "0          489.8               19.6             52.856076      1.843479   \n",
       "1          411.6               22.7             45.372500      3.741352   \n",
       "2          349.7               16.0             54.444868      2.747358   \n",
       "3          430.4                9.3             51.021514      1.362643   \n",
       "4          350.1               15.0             54.027460      0.492135   \n",
       "\n",
       "   percentmarried  pctemployed16_over  pctpubliccoverage  birthrate  \\\n",
       "0            52.5                51.9               32.9   6.118831   \n",
       "1            44.5                55.9               31.1   4.333096   \n",
       "2            54.2                45.9               42.1   3.729488   \n",
       "3            52.7                48.3               45.3   4.603841   \n",
       "4            57.8                48.2               44.0   6.796657   \n",
       "\n",
       "   pctempprivcoverage  pctpubliccoveragealone  pcths25_over  pcths18_24  \\\n",
       "0                41.6                    14.0          23.2        39.5   \n",
       "1                43.6                    15.3          26.0        22.4   \n",
       "2                34.9                    21.1          29.0        36.6   \n",
       "3                35.0                    25.0          31.6        41.2   \n",
       "4                35.1                    22.7          33.4        43.0   \n",
       "\n",
       "   pctprivatecoverage  pctnohs18_24   pctwhite      Y  \n",
       "0                75.1          11.5  81.780529  164.9  \n",
       "1                70.2           6.1  89.228509  161.3  \n",
       "2                63.7          24.0  90.922190  174.7  \n",
       "3                58.4          20.2  91.744686  194.8  \n",
       "4                61.6          14.9  94.104024  144.4  "
      ]
     },
     "execution_count": 72,
     "metadata": {},
     "output_type": "execute_result"
    }
   ],
   "source": [
    "D = data[features].copy()\n",
    "D['Y'] = data['target_deathrate']\n",
    "D.head()"
   ]
  },
  {
   "cell_type": "markdown",
   "metadata": {
    "deletable": false,
    "editable": false
   },
   "source": [
    "## Submission\n",
    "\n",
    "Make sure you have run all cells in your notebook in order before running the cell below, so that all images/graphs appear in the output. The cell below will generate a zip file for you to submit. **Please save before exporting!**"
   ]
  },
  {
   "cell_type": "code",
   "execution_count": null,
   "metadata": {
    "deletable": false,
    "editable": false
   },
   "outputs": [],
   "source": [
    "# Save your notebook first, then run this cell to export your submission.\n",
    "grader.export(pdf=False)"
   ]
  },
  {
   "cell_type": "markdown",
   "metadata": {},
   "source": [
    " "
   ]
  }
 ],
 "metadata": {
  "kernelspec": {
   "display_name": "Python 3 (ipykernel)",
   "language": "python",
   "name": "python3"
  },
  "language_info": {
   "codemirror_mode": {
    "name": "ipython",
    "version": 3
   },
   "file_extension": ".py",
   "mimetype": "text/x-python",
   "name": "python",
   "nbconvert_exporter": "python",
   "pygments_lexer": "ipython3",
   "version": "3.9.15"
  },
  "otter": {
   "OK_FORMAT": true,
   "tests": {
    "q1p3": {
     "name": "q1p3",
     "points": null,
     "suites": [
      {
       "cases": [
        {
         "code": ">>> data.shape[0]==3047\nTrue",
         "hidden": false,
         "locked": false,
         "points": 0
        },
        {
         "code": ">>> 'binnedinc' not in data.columns\nTrue",
         "hidden": false,
         "locked": false,
         "points": 0
        },
        {
         "code": ">>> 'geography' not in data.columns\nTrue",
         "hidden": false,
         "locked": false,
         "points": 0
        },
        {
         "code": ">>> data.shape[1]==26\nTrue",
         "hidden": false,
         "locked": false,
         "points": 0
        }
       ],
       "scored": true,
       "setup": "",
       "teardown": "",
       "type": "doctest"
      }
     ]
    },
    "q1p4": {
     "name": "q1p4",
     "points": null,
     "suites": [
      {
       "cases": [
        {
         "code": ">>> thresh == 2742\nTrue",
         "hidden": false,
         "locked": false,
         "points": 1
        },
        {
         "code": ">>> data.shape[1] == 24\nTrue",
         "hidden": false,
         "locked": false,
         "points": 1
        }
       ],
       "scored": true,
       "setup": "",
       "teardown": "",
       "type": "doctest"
      }
     ]
    },
    "q1p5": {
     "name": "q1p5",
     "points": null,
     "suites": [
      {
       "cases": [
        {
         "code": ">>> data.shape[0] == 2895\nTrue",
         "hidden": false,
         "locked": false,
         "points": 1
        }
       ],
       "scored": true,
       "setup": "",
       "teardown": "",
       "type": "doctest"
      }
     ]
    },
    "q1p6": {
     "name": "q1p6",
     "points": null,
     "suites": [
      {
       "cases": [
        {
         "code": ">>> set(top_5_sort) == {'pctbachdeg25_over', 'pctpubliccoveragealone', 'incidencerate','medincome', 'povertypercent'}\nTrue",
         "hidden": false,
         "locked": false,
         "points": 3
        }
       ],
       "scored": true,
       "setup": "",
       "teardown": "",
       "type": "doctest"
      }
     ]
    },
    "q2p1": {
     "name": "q2p1",
     "points": null,
     "suites": [
      {
       "cases": [
        {
         "code": ">>> N==2895\nTrue",
         "hidden": false,
         "locked": false,
         "points": 0
        },
        {
         "code": ">>> D==23\nTrue",
         "hidden": false,
         "locked": false,
         "points": 0
        },
        {
         "code": ">>> features.shape[0]==23\nTrue",
         "hidden": false,
         "locked": false,
         "points": 0
        },
        {
         "code": ">>> Y.shape[0]==2895\nTrue",
         "hidden": false,
         "locked": false,
         "points": 0
        },
        {
         "code": ">>> X.shape==(2895, 23)\nTrue",
         "hidden": false,
         "locked": false,
         "points": 0
        }
       ],
       "scored": true,
       "setup": "",
       "teardown": "",
       "type": "doctest"
      }
     ]
    },
    "q2p2": {
     "name": "q2p2",
     "points": null,
     "suites": [
      {
       "cases": [
        {
         "code": ">>> Xbar.shape == (23,)\nTrue",
         "hidden": false,
         "locked": false,
         "points": 1
        },
        {
         "code": ">>> np.all(np.isclose(Xbar,[4.47968130e+02, 4.70018943e+04, 1.69154404e+01, 4.51043869e+01,\\\n...        2.47898111e+00, 5.17701900e+01, 1.82317098e+01, 3.50329188e+01,\\\n...        6.17371330e+00, 3.48162003e+01, 1.32435924e+01, 5.41526425e+01,\\\n...        7.85772021e+00, 6.43052159e+01, 4.11553022e+01, 3.63139551e+01,\\\n...        1.92735060e+01, 8.36106781e+01, 9.13387070e+00, 1.26068542e+00,\\\n...        2.00590580e+00, 5.12269330e+01, 5.63689582e+00],1e-3))\nTrue",
         "hidden": false,
         "locked": false,
         "points": 1
        },
        {
         "code": ">>> \n>>> np.all(np.isclose(Phi.mean(axis=0),0.0,1e-3))\nTrue",
         "hidden": false,
         "locked": false,
         "points": 1
        }
       ],
       "scored": true,
       "setup": "",
       "teardown": "",
       "type": "doctest"
      }
     ]
    },
    "q2p3": {
     "name": "q2p3",
     "points": null,
     "suites": [
      {
       "cases": [
        {
         "code": ">>> np.isclose(theta0,178.63896373056997,1e-3)\nTrue",
         "hidden": false,
         "locked": false,
         "points": 1
        }
       ],
       "scored": true,
       "setup": "",
       "teardown": "",
       "type": "doctest"
      }
     ]
    },
    "q2p4": {
     "name": "q2p4",
     "points": null,
     "suites": [
      {
       "cases": [
        {
         "code": ">>> Ytilde.shape[0] == 2895\nTrue",
         "hidden": false,
         "locked": false,
         "points": 1
        },
        {
         "code": ">>> np.all(np.isclose(Ytilde[:4],[-13.73896373, -17.33896373,  -3.93896373,  16.16103627],1e-3))\nTrue",
         "hidden": false,
         "locked": false,
         "points": 1
        }
       ],
       "scored": true,
       "setup": "",
       "teardown": "",
       "type": "doctest"
      }
     ]
    },
    "q2p5": {
     "name": "q2p5",
     "points": null,
     "suites": [
      {
       "cases": [
        {
         "code": ">>> V.shape==(23, 23)\nTrue",
         "hidden": false,
         "locked": false,
         "points": 1
        },
        {
         "code": ">>> np.isclose(V.max(),0.002601839888831154,1e-3)\nTrue",
         "hidden": false,
         "locked": false,
         "points": 1
        },
        {
         "code": ">>> np.isclose(V.sum(),0.003489384428225235)\nTrue",
         "hidden": false,
         "locked": false,
         "points": 1
        }
       ],
       "scored": true,
       "setup": "",
       "teardown": "",
       "type": "doctest"
      }
     ]
    },
    "q2p6": {
     "name": "q2p6",
     "points": null,
     "suites": [
      {
       "cases": [
        {
         "code": ">>> theta.shape[0]==23\nTrue",
         "hidden": false,
         "locked": false,
         "points": 1
        },
        {
         "code": ">>> np.all(np.isclose(theta[:4],[ 1.87505833e-01,  3.61306252e-05,  2.91681846e-01, -5.21889897e-03],1e-3))\nTrue",
         "hidden": false,
         "locked": false,
         "points": 1
        }
       ],
       "scored": true,
       "setup": "",
       "teardown": "",
       "type": "doctest"
      }
     ]
    },
    "q2p7": {
     "name": "q2p7",
     "points": null,
     "suites": [
      {
       "cases": [
        {
         "code": ">>> Yhat.shape[0] == 2895\nTrue",
         "hidden": false,
         "locked": false
        },
        {
         "code": ">>> np.all(np.isclose(Yhat[:10],np.array([168.798185, 153.607133, 151.787604, 184.359217,\\\n...  160.431376, 185.604204, 185.307495, 170.591354, 189.465497, 183.483833, ]),1e-3))\nTrue",
         "hidden": false,
         "locked": false,
         "points": 2
        }
       ],
       "scored": true,
       "setup": "",
       "teardown": "",
       "type": "doctest"
      }
     ]
    },
    "q3p1": {
     "name": "q3p1",
     "points": null,
     "suites": [
      {
       "cases": [
        {
         "code": ">>> \n>>> np.isclose(sigmahatY,19.407583,1e-3)\nTrue",
         "hidden": false,
         "locked": false,
         "points": 1
        }
       ],
       "scored": true,
       "setup": "",
       "teardown": "",
       "type": "doctest"
      }
     ]
    },
    "q3p2": {
     "name": "q3p2",
     "points": null,
     "suites": [
      {
       "cases": [
        {
         "code": ">>> v.shape[0] == 23\nTrue",
         "hidden": false,
         "locked": false,
         "points": 0
        },
        {
         "code": ">>> sigma_theta.shape[0]==23\nTrue",
         "hidden": false,
         "locked": false,
         "points": 0
        },
        {
         "code": ">>> np.all(np.isclose(sigma_theta[:4],np.array([0.007661,0.000082,0.161699,0.008185]),1e-3))\nTrue",
         "hidden": false,
         "locked": false,
         "points": 2
        }
       ],
       "scored": true,
       "setup": "",
       "teardown": "",
       "type": "doctest"
      }
     ]
    },
    "q3p3p1": {
     "name": "q3p3p1",
     "points": null,
     "suites": [
      {
       "cases": [
        {
         "code": ">>> Z.shape[0]==23\nTrue",
         "hidden": false,
         "locked": false,
         "points": 1
        },
        {
         "code": ">>> np.all(np.isclose(Z,[24.47558717,  0.44080033,  1.80385264, -0.63761185,  0.80510603,\\\n...         7.0223698 , -3.40843532,  3.64926127, -1.04382238,  3.7620073 ,\\\n...        -7.71833656, -6.1402445 ,  0.93827042, -3.41225513,  3.95073064,\\\n...        -5.15880917,  3.92598565, -2.21461196, -1.11862628, -0.88496897,\\\n...        -7.22533367, -7.70994712, -4.27941014],1e-3))\nTrue",
         "hidden": false,
         "locked": false,
         "points": 1
        }
       ],
       "scored": true,
       "setup": "",
       "teardown": "",
       "type": "doctest"
      }
     ]
    },
    "q3p3p2": {
     "name": "q3p3p2",
     "points": null,
     "suites": [
      {
       "cases": [
        {
         "code": ">>> p.shape[0]==23\nTrue",
         "hidden": false,
         "locked": false,
         "points": 1
        },
        {
         "code": ">>> np.all(np.isclose(p,[2.68832634e-132, 6.59357555e-001, 7.12544118e-002, 5.23726380e-001,\\\n...        4.20758498e-001, 2.18136252e-012, 6.53365715e-004, 2.62995517e-004,\\\n...        2.96567574e-001, 1.68555128e-004, 1.17857663e-014, 8.23945617e-010,\\\n...        3.48105456e-001, 6.44277829e-004, 7.79129732e-005, 2.48525449e-007,\\\n...        8.63753049e-005, 2.67867102e-002, 2.63299608e-001, 3.76173367e-001,\\\n...        4.99872942e-013, 1.25869879e-014, 1.87389273e-005],1e-3))\nTrue",
         "hidden": false,
         "locked": false,
         "points": 2
        }
       ],
       "scored": true,
       "setup": "",
       "teardown": "",
       "type": "doctest"
      }
     ]
    },
    "q3p5": {
     "name": "q3p5",
     "points": null,
     "suites": [
      {
       "cases": [
        {
         "code": ">>> \n>>> np.all(lr_params_sorted.index==['incidencerate','pctbachdeg25_over','pctmarriedhouseholds',\\\n... 'pctotherrace', 'percentmarried', 'pctemployed16_over','pctpubliccoverage', 'birthrate', 'pctempprivcoverage',\\\n... 'pctpubliccoveragealone', 'pcths25_over', 'pcths18_24','pctprivatecoverage', 'pctnohs18_24', 'pctwhite', 'povertypercent',\\\n... 'pctblack', 'pctbachdeg18_24', 'pctunemployed16_over', 'pctasian','avghouseholdsize', 'medianage', 'medincome'])\nTrue",
         "hidden": false,
         "locked": false,
         "points": 2
        }
       ],
       "scored": true,
       "setup": "",
       "teardown": "",
       "type": "doctest"
      }
     ]
    },
    "q3p7": {
     "name": "q3p7",
     "points": null,
     "suites": [
      {
       "cases": [
        {
         "code": ">>> type(features)==np.ndarray\nTrue",
         "hidden": false,
         "locked": false,
         "points": 1
        },
        {
         "code": ">>> np.all(features[:5] == np.array(['incidencerate','pctbachdeg25_over','pctmarriedhouseholds','pctotherrace','percentmarried']))\nTrue",
         "hidden": false,
         "locked": false,
         "points": 1
        }
       ],
       "scored": true,
       "setup": "",
       "teardown": "",
       "type": "doctest"
      }
     ]
    }
   }
  }
 },
 "nbformat": 4,
 "nbformat_minor": 1
}
