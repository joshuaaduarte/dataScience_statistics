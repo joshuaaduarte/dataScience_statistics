{
 "cells": [
  {
   "cell_type": "code",
   "execution_count": 5,
   "id": "1871d4a3",
   "metadata": {},
   "outputs": [],
   "source": [
    "import numpy as np\n",
    "import matplotlib.pyplot as plt\n",
    "import pickle\n",
    "import scipy.stats as stats"
   ]
  },
  {
   "cell_type": "markdown",
   "id": "18c97d7e",
   "metadata": {},
   "source": [
    "---\n",
    "\n",
    "<h1><center>SDSE Lab 2 <br><br> Gradient descent and <br> Stochastic Gradient Descent </center></h1>\n",
    "\n",
    "---"
   ]
  },
  {
   "cell_type": "markdown",
   "id": "30150b0b",
   "metadata": {},
   "source": [
    "Note: The format for the report is as a Jupyter Notebook. Please include the SIDs of the members of your group in the `results` dictionary. A single notebook should be submitted as a group submission in Gradescope. "
   ]
  },
  {
   "cell_type": "code",
   "execution_count": 6,
   "id": "aef6402e",
   "metadata": {},
   "outputs": [],
   "source": [
    "result = {\n",
    "    'SIDs': [3038581366,3038574931,3038539428] # enter the SIDs for the group members\n",
    "}"
   ]
  },
  {
   "cell_type": "markdown",
   "id": "0b7fcc3e",
   "metadata": {},
   "source": [
    "# Introduction\n",
    "\n",
    "In this lab we will explore the gradient descent and stochastic gradient descent algorithms for solving a least squares optimization problem. The setup is as follows. We wish to model a process with scalar input $X$ and scalar output $Y$. Both of these are real-valued random variables; their sample spaces are the real line. The joint distribution of $X$ and $Y$ is given as:\n",
    "\\begin{align*}\n",
    "X &\\sim \\mathcal{U}(0,1) \\\\\n",
    "Y|X\\!=\\!x &\\sim \\mathcal{N}( \\theta_0 + \\theta_1 x ,\\sigma_\\epsilon)\n",
    "\\end{align*}\n",
    "This definition of $Y|X\\!=\\!x$ is equivalent to,\n",
    "\\begin{equation*}\n",
    "Y = \\theta_0 + \\theta_1 X + \\epsilon\n",
    "\\end{equation*}\n",
    "with $\\epsilon\\sim\\mathcal{N}(0,\\sigma_\\epsilon^2)$.\n",
    "\n",
    "# 1. Sampling the joint distribution\n",
    "\n",
    "We will first construct a synthetic dataset by sampling  from $(X,Y)$. \n",
    "\n",
    "Write a function called `sampleXY` that produces a dataset $\\{(x_i,y_i)\\}_N$ of iid samples from $(X,Y)$, given arguments $N$, $\\theta_0$, $\\theta_1$, and $\\sigma_\\epsilon$. The output of this function should be a numpy array with shape = $(N,2)$. "
   ]
  },
  {
   "cell_type": "code",
   "execution_count": 7,
   "id": "23ed7c4c",
   "metadata": {},
   "outputs": [],
   "source": [
    "def sampleXY(N, theta0, theta1, sigma_eps):\n",
    "    X = np.random.uniform(0,1,N)\n",
    "    epsilon = np.random.normal(0,sigma_eps, N)\n",
    "    Y = theta0 + theta1*X + epsilon\n",
    "    array = np.array([X,Y])\n",
    "    return array"
   ]
  },
  {
   "cell_type": "markdown",
   "id": "32611c5a",
   "metadata": {},
   "source": [
    "Run `sampleXY` with $N\\!=\\!40$, $\\theta_0\\!=\\!0.2$, $\\theta_1\\!=\\!-0.4$, and $\\sigma_\\epsilon\\!=\\!0.07$ and assign the result to the variable `XYsamp`. Create a plot showing the line $y=\\theta_0 + \\theta_1 x$, overlaid with a scatter plot of `XYsamp`. The plot should have labels on the x and y axes."
   ]
  },
  {
   "cell_type": "code",
   "execution_count": 8,
   "id": "474ecf3e",
   "metadata": {},
   "outputs": [
    {
     "name": "stdout",
     "output_type": "stream",
     "text": [
      "[[ 0.49281357  0.08266003  0.74284663  0.37581125  0.03042625  0.61122018\n",
      "   0.6218869   0.45436775  0.4699719   0.13199838  0.19940597  0.17634862\n",
      "   0.62747584  0.17302857  0.99521553  0.4612488   0.58436319  0.44912233\n",
      "   0.25475243  0.1276683   0.04888614  0.8228034   0.0524723   0.04485879\n",
      "   0.03926816  0.92884396  0.9431905   0.23176519  0.754861    0.54279442\n",
      "   0.46927675  0.20505924  0.61570797  0.12475437  0.94821057  0.70798132\n",
      "   0.49248646  0.13711529  0.18449793  0.70291542]\n",
      " [ 0.05765132  0.12735189 -0.12846254  0.04051585  0.23791426 -0.02497742\n",
      "  -0.02878912  0.08300753  0.0088657   0.13116632  0.19248604  0.12825108\n",
      "  -0.07153254  0.0484549  -0.2887722   0.05835136  0.01972975  0.02952986\n",
      "   0.11458196  0.28657166  0.06188969 -0.20625499  0.18028366  0.21631407\n",
      "   0.19368547 -0.2554721  -0.21259029  0.09909771 -0.07791405 -0.03836384\n",
      "  -0.04168357  0.14157336 -0.16059874  0.07748878 -0.20428137 -0.12137956\n",
      "  -0.08262304  0.14824045 -0.06341667 -0.21071641]]\n"
     ]
    }
   ],
   "source": [
    "N = 40\n",
    "theta0=0.2\n",
    "theta1=-0.4\n",
    "sigma_eps= 0.07\n",
    "XYsamp = sampleXY(N, theta0, theta1, sigma_eps)\n",
    "print(XYsamp)\n"
   ]
  },
  {
   "cell_type": "code",
   "execution_count": 10,
   "id": "af952ef5",
   "metadata": {},
   "outputs": [
    {
     "data": {
      "text/plain": [
       "<function matplotlib.pyplot.show(close=None, block=None)>"
      ]
     },
     "execution_count": 10,
     "metadata": {},
     "output_type": "execute_result"
    },
    {
     "data": {
      "image/png": "[encoded data removed]",
      "text/plain": [
       "<Figure size 640x480 with 1 Axes>"
      ]
     },
     "metadata": {},
     "output_type": "display_data"
    }
   ],
   "source": [
    "# sets variables x and y to be the respective variables derived from the function in the previous cell\n",
    "x = XYsamp[0]\n",
    "y = XYsamp[1]\n",
    "\n",
    "fig1 = plt.figure()\n",
    "# adds points to a scatter plot\n",
    "plt.scatter(x,y)\n",
    "\n",
    "# creates a line that is y = theta0 + theta1*x and adds it to the plot \n",
    "line_x = np.linspace(0,1,100)\n",
    "line_y = theta0 + theta1*line_x\n",
    "\n",
    "plt.plot(line_x, line_y, '-r')\n",
    "\n",
    "# set axis labels and shows plot\n",
    "plt.title('Plot of x vs y')\n",
    "plt.xlabel('X')\n",
    "plt.ylabel('Y')\n",
    "plt.show\n",
    "\n",
    "\n",
    "# ADD CODE HERE"
   ]
  },
  {
   "cell_type": "code",
   "execution_count": null,
   "id": "47574322",
   "metadata": {},
   "outputs": [],
   "source": [
    "################################\n",
    "# Reporting. Do not modify.#####\n",
    "result['fig1'] = fig1  # 4 points\n",
    "################################"
   ]
  },
  {
   "cell_type": "markdown",
   "id": "eadb8f32",
   "metadata": {},
   "source": [
    "We will now overwrite the data you sampled with another dataset contained in the file `1d_data.pickle`. This is so the results are predictable."
   ]
  },
  {
   "cell_type": "code",
   "execution_count": 12,
   "id": "9a726b2c",
   "metadata": {},
   "outputs": [
    {
     "name": "stdout",
     "output_type": "stream",
     "text": [
      "[[ 0.26080771 -0.0167954 ]\n",
      " [ 0.33699405  0.09963627]\n",
      " [ 0.36929101  0.10978001]\n",
      " [ 0.41854395  0.02639039]\n",
      " [ 0.07099163  0.2208093 ]\n",
      " [ 0.25136018  0.02889733]\n",
      " [ 0.83548999 -0.24428549]\n",
      " [ 0.55188738  0.08502048]\n",
      " [ 0.75609632 -0.03562489]\n",
      " [ 0.59377784 -0.04921159]\n",
      " [ 0.65722805 -0.03271674]\n",
      " [ 0.1941553   0.07420796]\n",
      " [ 0.05033221  0.10294424]\n",
      " [ 0.49500122  0.0403545 ]\n",
      " [ 0.43163632 -0.02684472]\n",
      " [ 0.84496277 -0.14854758]\n",
      " [ 0.15355817  0.21085325]\n",
      " [ 0.28428282  0.07357161]\n",
      " [ 0.13475872  0.07480284]\n",
      " [ 0.96860861 -0.23916899]\n",
      " [ 0.02012632  0.27773011]\n",
      " [ 0.98826914 -0.33991   ]\n",
      " [ 0.61076725 -0.00661786]\n",
      " [ 0.49688813 -0.02245188]\n",
      " [ 0.80240783 -0.04968038]\n",
      " [ 0.40749308  0.02342941]\n",
      " [ 0.67387563  0.02968287]\n",
      " [ 0.84315809 -0.20912494]\n",
      " [ 0.35849541  0.08197205]\n",
      " [ 0.99158839 -0.22273146]\n",
      " [ 0.11928999  0.18340278]\n",
      " [ 0.95610376 -0.2000605 ]\n",
      " [ 0.69261867 -0.03670628]\n",
      " [ 0.06892167  0.13125948]\n",
      " [ 0.27831576  0.05428888]\n",
      " [ 0.12936627  0.23922464]\n",
      " [ 0.68575167 -0.0990357 ]\n",
      " [ 0.78998124 -0.13944422]\n",
      " [ 0.49429109 -0.00576771]\n",
      " [ 0.75185098  0.02168292]]\n"
     ]
    }
   ],
   "source": [
    "with open('./1d_data.pickle', 'rb') as file:\n",
    "    XYsamp = pickle.load(file)\n",
    "    \n",
    "print(XYsamp)"
   ]
  },
  {
   "cell_type": "markdown",
   "id": "85b80c9e",
   "metadata": {},
   "source": [
    "# 2. Gradient descent for linear regression\n",
    "\n",
    "We are still a few weeks from learning about linear regression. However here we will use the optimization problem at the center of linear regression to demonstrate gradient descent and stochastic gradient descent. \n",
    "\n",
    "Our dataset `XYsamp` contains $N$ tuples $(x_i,y_i)$. Our goal now is to find parameters $\\hat\\theta_0$ and $\\hat\\theta_1$ that minimize a quadratic cost function. \n",
    "\n",
    "\\begin{equation*}\n",
    "J(\\hat\\theta_0,\\hat\\theta_1) = \\frac{1}{N} \\sum_{i=1}^{N} \\left( \\hat\\theta_0 + \\hat \\theta_1 x_i - y_i \\right)^2\n",
    "\\end{equation*}\n",
    "\n",
    "The update equation for gradient descent is:\n",
    "\n",
    "\\begin{equation*}\n",
    "\\theta_{k+1} = \\theta_k -\\gamma \\nabla J(\\theta_k)\n",
    "\\end{equation*}\n",
    "\n",
    "$\\theta_{k}$ is a vector of the estimates $\\hat\\theta_0$ and $\\hat\\theta_1$ after $k$ steps of gradient descent. The gradient of $J$ is:\n",
    "\n",
    "\\begin{align*}\n",
    "\\nabla J(\\hat\\theta_0,\\hat\\theta_1) &= \n",
    "\\frac{1}{N} \\sum_{i=1}^{N} \\nabla\\left( \\hat\\theta_0 + \\hat \\theta_1 x_i - y_i \\right)^2  \\\\\n",
    "&= \n",
    "\\frac{1}{N} \\sum_{i=1}^{N} 2\\left( \\hat\\theta_0 + \\hat \\theta_1 x_i - y_i \\right)\\begin{bmatrix} 1 \\\\ x_i \\end{bmatrix}\n",
    "\\end{align*}\n",
    "\n",
    "\n",
    "\n",
    "## (2a)\n",
    "\n",
    "Write a function called `nablaJ` that takes `XYsamp`, $\\hat\\theta_0$, and $\\hat\\theta_1$ as inputs, and returns the gradient as a numpy array of length 2."
   ]
  },
  {
   "cell_type": "code",
   "execution_count": 18,
   "id": "72128258",
   "metadata": {},
   "outputs": [],
   "source": [
    "def nablaJ(XYsamp, theta0, theta1):\n",
    "    N = len(XYsamp)\n",
    "    nablajArray = np.array([0.0,0.0])\n",
    "    \n",
    "    for i in range(N): \n",
    "        xi, yi = XYsamp[i]\n",
    "        nablajArray[0] += 2 * (theta0 + theta1*xi - yi)\n",
    "        nablajArray[1] += 2 * (theta0 + theta1*xi - yi) * xi\n",
    "\n",
    "    nablajArray /= N\n",
    "    \n",
    "    return nablajArray\n"
   ]
  },
  {
   "cell_type": "code",
   "execution_count": 19,
   "id": "7fa66f3c",
   "metadata": {},
   "outputs": [],
   "source": [
    "################################\n",
    "# Reporting. Do not modify.#####\n",
    "result['nablaJ_2a_a'] = nablaJ(XYsamp,0.5,-1)    # 3 points\n",
    "result['nablaJ_2a_b'] = nablaJ(XYsamp,1.1,0.6)    # 3 points\n",
    "################################"
   ]
  },
  {
   "cell_type": "markdown",
   "id": "66a4ed8f",
   "metadata": {},
   "source": [
    "## (2b)\n",
    "\n",
    "Write a function called `gradient_descent` that executes the gradient descent algorithm. This function should take as input \n",
    "\n",
    "+ The dataset `XYsamp`\n",
    "+ the total number of steps to take `K`\n",
    "+ the step size `gamma`\n",
    "+ the initial condition `theta_init` as a numpy array of length 2. \n",
    "\n",
    "It should return the trajectory as a 2D numpy array with shape = `(K,2)`. "
   ]
  },
  {
   "cell_type": "code",
   "execution_count": 25,
   "id": "020a8077-cbaa-49e6-aa94-5765860e96eb",
   "metadata": {},
   "outputs": [
    {
     "data": {
      "text/plain": [
       "array([[0.05477675, 0.0395841 ],\n",
       "       [0.03132389, 0.00915965],\n",
       "       [0.05008476, 0.01951065],\n",
       "       [0.01996564, 0.06475463],\n",
       "       [0.00314554, 0.01603433],\n",
       "       [0.07224843, 0.00120947],\n",
       "       [0.0205422 , 0.08233368],\n",
       "       [0.09068599, 0.04285088],\n",
       "       [0.05347502, 0.00917879],\n",
       "       [0.01648293, 0.13763898],\n",
       "       [0.11855585, 0.07713363],\n",
       "       [0.00127258, 0.03425759],\n",
       "       [0.00939273, 0.08393452],\n",
       "       [0.03531409, 0.00819621],\n",
       "       [0.02403035, 0.02124607],\n",
       "       [0.05397287, 0.02359706],\n",
       "       [0.11431555, 0.07260948],\n",
       "       [0.02499714, 0.03818703],\n",
       "       [0.08562846, 0.00308657],\n",
       "       [0.1896175 , 0.12955025]])"
      ]
     },
     "execution_count": 25,
     "metadata": {},
     "output_type": "execute_result"
    }
   ],
   "source": []
  },
  {
   "cell_type": "code",
   "execution_count": null,
   "id": "df4a8451-1a9f-4084-9bde-f32c4fa05005",
   "metadata": {},
   "outputs": [],
   "source": []
  },
  {
   "cell_type": "code",
   "execution_count": 34,
   "id": "5537afb1",
   "metadata": {},
   "outputs": [],
   "source": [
    "def gradient_descent(XYsamp,K,gamma,theta_init):\n",
    "    d = XYsamp.shape[1]\n",
    "    Theta = np.empty((K, d))\n",
    "    trajectory = theta_init\n",
    "    # ADD CODE HERE\n",
    "    for i in range(K):\n",
    "        gradient = nablaJ(XYsamp, theta_init[0], theta_init[1])\n",
    "        trajectory -= gamma * gradient\n",
    "        Theta[i] = trajectory\n",
    "    \n",
    "    return Theta\n"
   ]
  },
  {
   "cell_type": "code",
   "execution_count": 35,
   "id": "54309f20",
   "metadata": {},
   "outputs": [],
   "source": [
    "################################\n",
    "# Reporting. Do not modify.#####\n",
    "result['gd_2b_a'] = gradient_descent(XYsamp,10,0.1,np.array([-0.5,0.5]))  # 4 points\n",
    "result['gd_2b_b'] = gradient_descent(XYsamp,20,0.01,np.array([0.5,-0.5]))  # 4 points\n",
    "################################"
   ]
  },
  {
   "cell_type": "markdown",
   "id": "b7384232",
   "metadata": {},
   "source": [
    "## (2c)\n",
    "\n",
    "Complete the `run_gd_on_grid(theta0_grid,theta1_grid,K,gamma)`. This function takes as input\n",
    "+ `theta0_grid` and `theta1_grid`. These are two 5x5 grids of values of $\\hat\\theta_0$ and $\\hat\\theta_1$. \n",
    "+ the total number of steps to take `K`\n",
    "+ the step size `gamma`\n",
    "\n",
    "The function should return a numpy array with shape (5,5,K,2), where the (i,j,:,:) is a (K,2) trajectory of parameter values, and (i,j) are the indices to the 5x5 arrays.\n",
    "\n",
    "Run the function with $K=200$, $\\gamma=0.2$ and save the result to `trajectories`.\n",
    "\n",
    "Note: The code for creating the 5x5 grid is provided. "
   ]
  },
  {
   "cell_type": "code",
   "execution_count": 36,
   "id": "ea5944e2",
   "metadata": {},
   "outputs": [],
   "source": [
    "# Do not alter this code. It creates the 5x5 grid of values \n",
    "# that are passed to `run_gd_on_grid`\n",
    "def make_grid(gridN):\n",
    "    theta_0_array = np.linspace(-1,1,gridN)\n",
    "    theta_1_array = np.linspace(-1,1,gridN)\n",
    "    return  np.meshgrid(theta_0_array,theta_1_array)\n",
    "\n",
    "gridN = 5\n",
    "theta0_grid,theta1_grid = make_grid(gridN)"
   ]
  },
  {
   "cell_type": "code",
   "execution_count": 47,
   "id": "a93ff4e9-7260-4c76-bea7-c92ff8b206c7",
   "metadata": {},
   "outputs": [
    {
     "data": {
      "text/plain": [
       "array([[-1. , -1. , -1. , -1. , -1. ],\n",
       "       [-0.5, -0.5, -0.5, -0.5, -0.5],\n",
       "       [ 0. ,  0. ,  0. ,  0. ,  0. ],\n",
       "       [ 0.5,  0.5,  0.5,  0.5,  0.5],\n",
       "       [ 1. ,  1. ,  1. ,  1. ,  1. ]])"
      ]
     },
     "execution_count": 47,
     "metadata": {},
     "output_type": "execute_result"
    }
   ],
   "source": [
    "theta1_grid"
   ]
  },
  {
   "cell_type": "code",
   "execution_count": 41,
   "id": "af14c144",
   "metadata": {},
   "outputs": [],
   "source": [
    "def run_gd_on_grid(theta0_grid,theta1_grid,XYsamp,K,gamma):\n",
    "    gridN = theta0_grid.shape[0]\n",
    "    traj = np.empty((gridN,gridN,K,2))\n",
    "    for i in range(K):\n",
    "        gd = gradient_descent(XYsamp, K, gamma, np.array(t\n",
    "    # ADD CODE HERE\n",
    "    \n",
    "    return traj"
   ]
  },
  {
   "cell_type": "code",
   "execution_count": 45,
   "id": "4f10e581",
   "metadata": {},
   "outputs": [
    {
     "data": {
      "text/plain": [
       "array([[[[9.15536498e-312, 9.15487938e-312],\n",
       "         [2.12199579e-314, 0.00000000e+000],\n",
       "         [4.24896455e-321, 0.00000000e+000],\n",
       "         ...,\n",
       "         [0.00000000e+000, 0.00000000e+000],\n",
       "         [0.00000000e+000, 0.00000000e+000],\n",
       "         [0.00000000e+000, 0.00000000e+000]],\n",
       "\n",
       "        [[0.00000000e+000, 0.00000000e+000],\n",
       "         [0.00000000e+000, 0.00000000e+000],\n",
       "         [0.00000000e+000, 0.00000000e+000],\n",
       "         ...,\n",
       "         [0.00000000e+000, 0.00000000e+000],\n",
       "         [0.00000000e+000, 0.00000000e+000],\n",
       "         [0.00000000e+000, 0.00000000e+000]],\n",
       "\n",
       "        [[0.00000000e+000, 0.00000000e+000],\n",
       "         [0.00000000e+000, 0.00000000e+000],\n",
       "         [0.00000000e+000, 0.00000000e+000],\n",
       "         ...,\n",
       "         [0.00000000e+000, 0.00000000e+000],\n",
       "         [0.00000000e+000, 0.00000000e+000],\n",
       "         [0.00000000e+000, 0.00000000e+000]],\n",
       "\n",
       "        [[0.00000000e+000, 0.00000000e+000],\n",
       "         [0.00000000e+000, 0.00000000e+000],\n",
       "         [0.00000000e+000, 0.00000000e+000],\n",
       "         ...,\n",
       "         [0.00000000e+000, 0.00000000e+000],\n",
       "         [0.00000000e+000, 0.00000000e+000],\n",
       "         [0.00000000e+000, 0.00000000e+000]],\n",
       "\n",
       "        [[0.00000000e+000, 0.00000000e+000],\n",
       "         [0.00000000e+000, 0.00000000e+000],\n",
       "         [0.00000000e+000, 0.00000000e+000],\n",
       "         ...,\n",
       "         [0.00000000e+000, 0.00000000e+000],\n",
       "         [0.00000000e+000, 0.00000000e+000],\n",
       "         [0.00000000e+000, 0.00000000e+000]]],\n",
       "\n",
       "\n",
       "       [[[0.00000000e+000, 0.00000000e+000],\n",
       "         [0.00000000e+000, 0.00000000e+000],\n",
       "         [0.00000000e+000, 0.00000000e+000],\n",
       "         ...,\n",
       "         [0.00000000e+000, 0.00000000e+000],\n",
       "         [0.00000000e+000, 0.00000000e+000],\n",
       "         [0.00000000e+000, 0.00000000e+000]],\n",
       "\n",
       "        [[0.00000000e+000, 0.00000000e+000],\n",
       "         [0.00000000e+000, 0.00000000e+000],\n",
       "         [0.00000000e+000, 0.00000000e+000],\n",
       "         ...,\n",
       "         [0.00000000e+000, 0.00000000e+000],\n",
       "         [0.00000000e+000, 0.00000000e+000],\n",
       "         [0.00000000e+000, 0.00000000e+000]],\n",
       "\n",
       "        [[0.00000000e+000, 0.00000000e+000],\n",
       "         [0.00000000e+000, 0.00000000e+000],\n",
       "         [0.00000000e+000, 0.00000000e+000],\n",
       "         ...,\n",
       "         [0.00000000e+000, 0.00000000e+000],\n",
       "         [0.00000000e+000, 0.00000000e+000],\n",
       "         [0.00000000e+000, 0.00000000e+000]],\n",
       "\n",
       "        [[0.00000000e+000, 0.00000000e+000],\n",
       "         [0.00000000e+000, 0.00000000e+000],\n",
       "         [0.00000000e+000, 0.00000000e+000],\n",
       "         ...,\n",
       "         [0.00000000e+000, 0.00000000e+000],\n",
       "         [0.00000000e+000, 0.00000000e+000],\n",
       "         [0.00000000e+000, 0.00000000e+000]],\n",
       "\n",
       "        [[0.00000000e+000, 0.00000000e+000],\n",
       "         [0.00000000e+000, 0.00000000e+000],\n",
       "         [0.00000000e+000, 0.00000000e+000],\n",
       "         ...,\n",
       "         [0.00000000e+000, 0.00000000e+000],\n",
       "         [0.00000000e+000, 0.00000000e+000],\n",
       "         [0.00000000e+000, 0.00000000e+000]]],\n",
       "\n",
       "\n",
       "       [[[0.00000000e+000, 0.00000000e+000],\n",
       "         [0.00000000e+000, 0.00000000e+000],\n",
       "         [0.00000000e+000, 0.00000000e+000],\n",
       "         ...,\n",
       "         [0.00000000e+000, 0.00000000e+000],\n",
       "         [0.00000000e+000, 0.00000000e+000],\n",
       "         [0.00000000e+000, 0.00000000e+000]],\n",
       "\n",
       "        [[0.00000000e+000, 0.00000000e+000],\n",
       "         [0.00000000e+000, 0.00000000e+000],\n",
       "         [0.00000000e+000, 0.00000000e+000],\n",
       "         ...,\n",
       "         [0.00000000e+000, 0.00000000e+000],\n",
       "         [0.00000000e+000, 0.00000000e+000],\n",
       "         [0.00000000e+000, 0.00000000e+000]],\n",
       "\n",
       "        [[0.00000000e+000, 0.00000000e+000],\n",
       "         [0.00000000e+000, 0.00000000e+000],\n",
       "         [0.00000000e+000, 0.00000000e+000],\n",
       "         ...,\n",
       "         [0.00000000e+000, 0.00000000e+000],\n",
       "         [0.00000000e+000, 0.00000000e+000],\n",
       "         [0.00000000e+000, 0.00000000e+000]],\n",
       "\n",
       "        [[0.00000000e+000, 0.00000000e+000],\n",
       "         [0.00000000e+000, 0.00000000e+000],\n",
       "         [0.00000000e+000, 0.00000000e+000],\n",
       "         ...,\n",
       "         [0.00000000e+000, 0.00000000e+000],\n",
       "         [0.00000000e+000, 0.00000000e+000],\n",
       "         [0.00000000e+000, 0.00000000e+000]],\n",
       "\n",
       "        [[0.00000000e+000, 0.00000000e+000],\n",
       "         [0.00000000e+000, 0.00000000e+000],\n",
       "         [0.00000000e+000, 0.00000000e+000],\n",
       "         ...,\n",
       "         [0.00000000e+000, 0.00000000e+000],\n",
       "         [0.00000000e+000, 0.00000000e+000],\n",
       "         [0.00000000e+000, 0.00000000e+000]]],\n",
       "\n",
       "\n",
       "       [[[0.00000000e+000, 0.00000000e+000],\n",
       "         [0.00000000e+000, 0.00000000e+000],\n",
       "         [0.00000000e+000, 0.00000000e+000],\n",
       "         ...,\n",
       "         [0.00000000e+000, 0.00000000e+000],\n",
       "         [0.00000000e+000, 0.00000000e+000],\n",
       "         [0.00000000e+000, 0.00000000e+000]],\n",
       "\n",
       "        [[0.00000000e+000, 0.00000000e+000],\n",
       "         [0.00000000e+000, 0.00000000e+000],\n",
       "         [0.00000000e+000, 0.00000000e+000],\n",
       "         ...,\n",
       "         [0.00000000e+000, 0.00000000e+000],\n",
       "         [0.00000000e+000, 0.00000000e+000],\n",
       "         [0.00000000e+000, 0.00000000e+000]],\n",
       "\n",
       "        [[0.00000000e+000, 0.00000000e+000],\n",
       "         [0.00000000e+000, 0.00000000e+000],\n",
       "         [0.00000000e+000, 0.00000000e+000],\n",
       "         ...,\n",
       "         [0.00000000e+000, 0.00000000e+000],\n",
       "         [0.00000000e+000, 0.00000000e+000],\n",
       "         [0.00000000e+000, 0.00000000e+000]],\n",
       "\n",
       "        [[0.00000000e+000, 0.00000000e+000],\n",
       "         [0.00000000e+000, 0.00000000e+000],\n",
       "         [0.00000000e+000, 0.00000000e+000],\n",
       "         ...,\n",
       "         [0.00000000e+000, 0.00000000e+000],\n",
       "         [0.00000000e+000, 0.00000000e+000],\n",
       "         [0.00000000e+000, 0.00000000e+000]],\n",
       "\n",
       "        [[0.00000000e+000, 0.00000000e+000],\n",
       "         [0.00000000e+000, 0.00000000e+000],\n",
       "         [0.00000000e+000, 0.00000000e+000],\n",
       "         ...,\n",
       "         [0.00000000e+000, 0.00000000e+000],\n",
       "         [0.00000000e+000, 0.00000000e+000],\n",
       "         [0.00000000e+000, 0.00000000e+000]]],\n",
       "\n",
       "\n",
       "       [[[0.00000000e+000, 0.00000000e+000],\n",
       "         [0.00000000e+000, 0.00000000e+000],\n",
       "         [0.00000000e+000, 0.00000000e+000],\n",
       "         ...,\n",
       "         [0.00000000e+000, 0.00000000e+000],\n",
       "         [0.00000000e+000, 0.00000000e+000],\n",
       "         [0.00000000e+000, 0.00000000e+000]],\n",
       "\n",
       "        [[0.00000000e+000, 0.00000000e+000],\n",
       "         [0.00000000e+000, 0.00000000e+000],\n",
       "         [0.00000000e+000, 0.00000000e+000],\n",
       "         ...,\n",
       "         [0.00000000e+000, 0.00000000e+000],\n",
       "         [0.00000000e+000, 0.00000000e+000],\n",
       "         [0.00000000e+000, 0.00000000e+000]],\n",
       "\n",
       "        [[0.00000000e+000, 0.00000000e+000],\n",
       "         [0.00000000e+000, 0.00000000e+000],\n",
       "         [0.00000000e+000, 0.00000000e+000],\n",
       "         ...,\n",
       "         [0.00000000e+000, 0.00000000e+000],\n",
       "         [0.00000000e+000, 0.00000000e+000],\n",
       "         [0.00000000e+000, 0.00000000e+000]],\n",
       "\n",
       "        [[0.00000000e+000, 0.00000000e+000],\n",
       "         [0.00000000e+000, 0.00000000e+000],\n",
       "         [0.00000000e+000, 0.00000000e+000],\n",
       "         ...,\n",
       "         [0.00000000e+000, 0.00000000e+000],\n",
       "         [0.00000000e+000, 0.00000000e+000],\n",
       "         [0.00000000e+000, 0.00000000e+000]],\n",
       "\n",
       "        [[0.00000000e+000, 0.00000000e+000],\n",
       "         [0.00000000e+000, 0.00000000e+000],\n",
       "         [0.00000000e+000, 0.00000000e+000],\n",
       "         ...,\n",
       "         [0.00000000e+000, 0.00000000e+000],\n",
       "         [0.00000000e+000, 0.00000000e+000],\n",
       "         [0.00000000e+000, 0.00000000e+000]]]])"
      ]
     },
     "execution_count": 45,
     "metadata": {},
     "output_type": "execute_result"
    }
   ],
   "source": [
    "trajectories = run_gd_on_grid(theta0_grid,theta1_grid,XYsamp,K=200,gamma=0.2)\n"
   ]
  },
  {
   "cell_type": "code",
   "execution_count": 43,
   "id": "6398df9d",
   "metadata": {},
   "outputs": [],
   "source": [
    "################################\n",
    "# Reporting. Do not modify.#####\n",
    "result['grid_2c'] = run_gd_on_grid(theta0_grid,theta1_grid,XYsamp,K=200,gamma=0.2) #  8 points\n",
    "################################"
   ]
  },
  {
   "cell_type": "markdown",
   "id": "f88585ae",
   "metadata": {},
   "source": [
    "## (2d)\n",
    "\n",
    "In this synthetic example, we actually know the true values of $\\theta_0$ and $\\theta_1$, since these were used to generate the data (they are stored as `theta0` and `theta1`. So we can explicitly compute the 2-norm of the estimation error for candidates $\\hat\\theta_0$ and $\\hat\\theta_1$ with:\n",
    "\n",
    "\\begin{equation*}\n",
    "e = \\sqrt{ (\\hat\\theta_0-\\theta_0)^2 + (\\hat\\theta_1-\\theta_1)^2 } \n",
    "\\end{equation*}\n",
    "\n",
    "Write a function called `compute_error` that makes this calculation. The function should take inputs `theta0hat`, `theta1hat`, `theta0`, `theta1`, and should return a scalar value for the error."
   ]
  },
  {
   "cell_type": "code",
   "execution_count": null,
   "id": "1f6c4107",
   "metadata": {},
   "outputs": [],
   "source": [
    "def compute_error(theta0hat, theta1hat, theta0, theta1):\n",
    "    pass # ADD CODE HERE"
   ]
  },
  {
   "cell_type": "markdown",
   "id": "dbe4e7a5",
   "metadata": {},
   "source": [
    "The following method will use your `compute_error` method to plot the evolution of the error in gradient descent. It plots the error trajectory for all 25 initial conditions on a 5x5 grid. "
   ]
  },
  {
   "cell_type": "code",
   "execution_count": null,
   "id": "3f374a3b",
   "metadata": {},
   "outputs": [],
   "source": [
    "def plot_error(trajectories):\n",
    "    \n",
    "    gridN = trajectories.shape[0]\n",
    "    K = trajectories.shape[2]\n",
    "    d = trajectories.shape[3]\n",
    "\n",
    "    fig = plt.figure(figsize=(12,5))\n",
    "    for i0 in range(gridN):\n",
    "        for i1 in range(gridN):\n",
    "            traj = trajectories[i0,i1,:,:]\n",
    "            error = np.empty(K)\n",
    "            for k in range(K):\n",
    "                error[k] = compute_error(traj[k,0], traj[k,1], theta0, theta1)\n",
    "            plt.semilogy(range(K),error)\n",
    "\n",
    "    plt.xlabel('k',fontsize=15)\n",
    "    plt.ylabel('error',fontsize=15)\n",
    "    plt.grid()\n",
    "    \n",
    "    return fig"
   ]
  },
  {
   "cell_type": "code",
   "execution_count": null,
   "id": "77adc8f9",
   "metadata": {},
   "outputs": [],
   "source": [
    "################################\n",
    "# Reporting. Do not modify.#####\n",
    "result['fig_2d'] = plot_error(result['grid_2c']) # 4 points\n",
    "################################"
   ]
  },
  {
   "cell_type": "markdown",
   "id": "318c71b7",
   "metadata": {},
   "source": [
    "## (2e)\n",
    "\n",
    "The `plot_quiver` function provided below creates a vector field plot of the negative gadient $-\\nabla J(\\theta_0,\\theta_1)$. It also marks the true value of the parameters with a blue dot. "
   ]
  },
  {
   "cell_type": "code",
   "execution_count": null,
   "id": "b392df49",
   "metadata": {},
   "outputs": [],
   "source": [
    "def plot_quiver(XYsamp):    \n",
    "    gridN = 10\n",
    "    theta0_grid, theta1_grid = make_grid(gridN)\n",
    "    flatgrid = np.reshape([theta0_grid, theta1_grid],(2,gridN**2)).T\n",
    "    UV = np.empty(flatgrid.shape)\n",
    "    for i, (theta0z, theta1z) in enumerate(flatgrid):\n",
    "        UV[i,:] = nablaJ(XYsamp,theta0z, theta1z)\n",
    "    \n",
    "    fig = plt.figure(figsize=(8,8))\n",
    "    plt.quiver(flatgrid[:,0], flatgrid[:,1],-UV[:,0],-UV[:,1],scale=N)\n",
    "    \n",
    "    plt.xlabel('theta0',fontsize=15)\n",
    "    plt.ylabel('theta1',fontsize=15)\n",
    "    plt.plot(theta0,theta1,'o',markersize=16)\n",
    "    plt.axis([-1,1,-1,1])\n",
    "    return fig\n",
    "\n",
    "plot_quiver(XYsamp);"
   ]
  },
  {
   "cell_type": "markdown",
   "id": "0254f99f",
   "metadata": {},
   "source": [
    "\n",
    "Your task is to complete the `plot_traj` function. The inputs to this function are:\n",
    "+ `fig`: the output of `plot_quiver` (a figure handle)\n",
    "+ `trajectories`: a set of gradient descent trajectories generate by `run_gd_on_grid`.\n",
    "\n",
    "The function should overlay these trajectories on top of the vector field. The style of the trajectory lines should be `'.-'` and it should have these characteristics:\n",
    "+ `color='red'`\n",
    "+ `linewidth=0.5`\n",
    "+ `markersize=2`"
   ]
  },
  {
   "cell_type": "code",
   "execution_count": null,
   "id": "c2d070a6",
   "metadata": {},
   "outputs": [],
   "source": [
    "def plot_traj(fig,trajectories):  \n",
    "    \n",
    "    plt.figure(fig)\n",
    "       \n",
    "    # ADD CODE HERE\n",
    "\n",
    "    return fig"
   ]
  },
  {
   "cell_type": "code",
   "execution_count": null,
   "id": "5be316da",
   "metadata": {},
   "outputs": [],
   "source": [
    "plot_traj(plot_quiver(XYsamp),trajectories);"
   ]
  },
  {
   "cell_type": "code",
   "execution_count": null,
   "id": "4c4752cd",
   "metadata": {},
   "outputs": [],
   "source": [
    "################################\n",
    "# Reporting. Do not modify.#####\n",
    "result['fig_2e'] = plot_traj(plot_quiver(XYsamp),result['grid_2c'])  # 6 points\n",
    "################################"
   ]
  },
  {
   "cell_type": "markdown",
   "id": "aaa31eed",
   "metadata": {},
   "source": [
    "## (2f)\n",
    "\n",
    "The next two cells generate the convergence and phase plots with $\\gamma=0.01$ and $\\gamma=0.7$."
   ]
  },
  {
   "cell_type": "code",
   "execution_count": null,
   "id": "35acbbe1",
   "metadata": {},
   "outputs": [],
   "source": [
    "trajectories2 = run_gd_on_grid(theta0_grid,theta1_grid,XYsamp,K=200,gamma=0.01)\n",
    "plot_traj(plot_quiver(XYsamp),trajectories2)\n",
    "plot_error(trajectories2)"
   ]
  },
  {
   "cell_type": "code",
   "execution_count": null,
   "id": "69df8598",
   "metadata": {},
   "outputs": [],
   "source": [
    "trajectories3 = run_gd_on_grid(theta0_grid,theta1_grid,XYsamp,K=200,gamma=0.7)\n",
    "plot_traj(plot_quiver(XYsamp),trajectories3)\n",
    "plot_error(trajectories3)"
   ]
  },
  {
   "cell_type": "markdown",
   "id": "079804df",
   "metadata": {},
   "source": [
    "What do you observe about the influence of the step size on the convergence of gradient descent?"
   ]
  },
  {
   "cell_type": "code",
   "execution_count": null,
   "id": "71eb3150",
   "metadata": {},
   "outputs": [],
   "source": [
    "comment = ''"
   ]
  },
  {
   "cell_type": "code",
   "execution_count": null,
   "id": "1d3ffbc7",
   "metadata": {},
   "outputs": [],
   "source": [
    "################################\n",
    "# Reporting. Do not modify.#####\n",
    "result['comment2f'] = comment   # 4 points\n",
    "################################"
   ]
  },
  {
   "cell_type": "markdown",
   "id": "c6f24ab1",
   "metadata": {},
   "source": [
    "# 3. Additive cost"
   ]
  },
  {
   "cell_type": "markdown",
   "id": "e402e8fe",
   "metadata": {},
   "source": [
    "There is no deliverable for this part. The goal is to introduce a plot that will be used in the next part. Run the next cell to generate the plot."
   ]
  },
  {
   "cell_type": "code",
   "execution_count": null,
   "id": "a8ed93c0",
   "metadata": {},
   "outputs": [],
   "source": [
    "def find_intersections(XYsamp):\n",
    "    x = XYsamp[:,0]\n",
    "    y = XYsamp[:,1]\n",
    "    N = XYsamp.shape[0]\n",
    "    points = []\n",
    "    for a in range(N - 1):\n",
    "        for b in np.arange(a + 1, N):\n",
    "            p0 = (y[a] * x[b] - y[b] * x[a]) / (x[b] - x[a])\n",
    "            p1 = (y[b] - y[a]) / (x[b] - x[a])\n",
    "            points.append([p0, p1])\n",
    "    return np.array(points)\n",
    "\n",
    "def plot_additive_grads(XYsamp):\n",
    "\n",
    "    x = XYsamp[:,0]\n",
    "    y = XYsamp[:,1]\n",
    "    \n",
    "    points = find_intersections(XYsamp)\n",
    "    fig = plt.figure(figsize=(8,8))\n",
    "    for n in range(N):\n",
    "        plt.plot([-1,(1+y[n])/x[n]],[y[n]+x[n],-1],'k',linewidth=0.2)\n",
    "    plt.plot(points[:,1],points[:,0],'k.',markersize=3)\n",
    "#     plt.plot(theta1,theta0,'mo',markersize=8,markerfacecolor='orange')\n",
    "    plt.xlabel('theta1',fontsize=15)\n",
    "    plt.ylabel('theta0',fontsize=15)\n",
    "    plt.axis([-1,1,-1,1])\n",
    "    return fig\n",
    "\n",
    "plot_additive_grads(XYsamp);"
   ]
  },
  {
   "cell_type": "markdown",
   "id": "26f6469b",
   "metadata": {},
   "source": [
    "In the context of stochastic gradient descent, the cost function that we are trying to minimize is the average over $N$ small cost functions:\n",
    "\n",
    "\\begin{equation*}\n",
    "\\ell_i(\\hat\\theta_0,\\hat\\theta_1) = \\left( \\hat\\theta_0 + \\hat \\theta_1 x_i - y_i \\right)^2\n",
    "\\end{equation*}\n",
    "\n",
    "each one associated with the data point $(x_i,y_i)$.\n",
    "\n",
    "\\begin{align*}\n",
    "J(\\hat\\theta_0,\\hat\\theta_1) &= \\frac{1}{N} \\sum_{i=1}^{N} \\left( \\hat\\theta_0 + \\hat \\theta_1 x_i - y_i \\right)^2 \\\\\n",
    "&= \\frac{1}{N} \\sum_{i=1}^{N} \\ell_i(\\hat\\theta_0,\\hat\\theta_1)\n",
    "\\end{align*}\n",
    "\n",
    "The gradient of $J$ is then the average if the gradients of the $\\ell_i$'s:\n",
    "\n",
    "\\begin{align*}\n",
    "\\nabla J(\\hat\\theta_0,\\hat\\theta_1) &= \\frac{1}{N} \\sum_{i=1}^{N} \\nabla\\ell_i(\\hat\\theta_0,\\hat\\theta_1)\n",
    "\\end{align*}\n",
    "\n",
    "Let's take a particular $\\ell_i$ and find its minimum. Since $\\ell_i$ is always positive, its minimum is wherever it equals zero. This is along a line in the $(\\hat\\theta_0,\\hat\\theta_1)$ plane:\n",
    "\n",
    "\\begin{equation*}\n",
    "\\hat\\theta_0 + \\hat\\theta_1 x_i - y_i = 0\n",
    "\\end{equation*}\n",
    "\n",
    "The plot above shows each of those $N$ lines. The black dots are the intersections of two lines. These would be exact solutions if only a pair of data points were given ($N=2$). \n",
    "\n",
    "# 4. Stochastic Gradient Descent\n",
    "\n",
    "## 4(a)\n",
    "\n",
    "Code stochastic gradient descent. Complete the function `SGD` below. This function takes as arguments \n",
    "+ the dataset `XYsamp`, \n",
    "+ the step size $\\gamma$ and \n",
    "+ the number of epochs to run. \n",
    "\n",
    "`SGD` function should\n",
    "\n",
    "+ randomly choose the initial condition with uniform probability from $[-1,1]\\times[-1,1]$\n",
    "+ use batches of size 1,\n",
    "+ draw samples without replacement.\n",
    "\n",
    "The function should return the parameter trajectory. \n",
    "\n",
    "\n",
    "Run SGD with $\\gamma=0.1$ and 10 epochs. Recreate the plot from part 2 but using this SGD trajectory instead of GD. Save the figure handle as `fig4a`."
   ]
  },
  {
   "cell_type": "code",
   "execution_count": null,
   "id": "59ff45f5",
   "metadata": {},
   "outputs": [],
   "source": [
    "def SGD(XYsamp,gamma,epochs):\n",
    "    \n",
    "    x = XYsamp[:,0]\n",
    "    y = XYsamp[:,1]\n",
    "    N = XYsamp.shape[0]\n",
    "    traj = np.empty((epochs*N+1,2))\n",
    "    \n",
    "    # ADD YOUR CODE HERE\n",
    "            \n",
    "    sol = traj[:-1,:]\n",
    "            \n",
    "    return sol"
   ]
  },
  {
   "cell_type": "code",
   "execution_count": null,
   "id": "895928a1",
   "metadata": {},
   "outputs": [],
   "source": [
    "fig4a = plot_additive_grads(XYsamp)\n",
    "\n",
    "traj = SGD(XYsamp,0.1,10)\n",
    "plt.plot(traj[:,1],traj[:,0],'r.-',linewidth=0.5,markersize=2)\n",
    "plt.plot(traj[0,1],traj[0,0],'og')\n",
    "plt.plot(traj[-1,1],traj[-1,0],'or')"
   ]
  },
  {
   "cell_type": "code",
   "execution_count": null,
   "id": "c0e89c69",
   "metadata": {},
   "outputs": [],
   "source": [
    "################################\n",
    "# Reporting. Do not modify.#####\n",
    "result['fig4a'] = fig4a # 8 points\n",
    "################################"
   ]
  },
  {
   "cell_type": "markdown",
   "id": "6a725139",
   "metadata": {},
   "source": [
    "## 4(b)\n",
    "\n",
    "Make the same plot with $\\gamma=0.01$ and $\\gamma=0.4$. Save the figure handles respectively as `fig4b1` and `fig4b2`."
   ]
  },
  {
   "cell_type": "code",
   "execution_count": null,
   "id": "e908756f",
   "metadata": {},
   "outputs": [],
   "source": [
    "fig4b1 = plot_additive_grads(XYsamp)\n",
    "\n",
    "traj = SGD(XYsamp,0.01,10)\n",
    "plt.plot(traj[:,1],traj[:,0],'r.-',linewidth=0.5,markersize=2)\n",
    "plt.plot(traj[0,1],traj[0,0],'og')\n",
    "plt.plot(traj[-1,1],traj[-1,0],'or')"
   ]
  },
  {
   "cell_type": "code",
   "execution_count": null,
   "id": "19cf3634",
   "metadata": {},
   "outputs": [],
   "source": [
    "fig4b2 = plot_additive_grads(XYsamp)\n",
    "\n",
    "traj = SGD(XYsamp,0.4,10)\n",
    "plt.plot(traj[:,1],traj[:,0],'r.-',linewidth=0.5,markersize=2)\n",
    "plt.plot(traj[0,1],traj[0,0],'og')\n",
    "plt.plot(traj[-1,1],traj[-1,0],'or')"
   ]
  },
  {
   "cell_type": "code",
   "execution_count": null,
   "id": "b27ac818",
   "metadata": {},
   "outputs": [],
   "source": [
    "################################\n",
    "# Reporting. Do not modify.#####\n",
    "result['fig4b1'] = fig4b1   # 4 points\n",
    "result['fig4b2'] = fig4b2   # 4 points\n",
    "################################"
   ]
  },
  {
   "cell_type": "markdown",
   "id": "90721049",
   "metadata": {},
   "source": [
    "## 4(c)\n",
    "\n",
    "Comment on the pros and cons of SGD with respect to GD. Save your comments in a string called `comment`. "
   ]
  },
  {
   "cell_type": "code",
   "execution_count": null,
   "id": "7f907248",
   "metadata": {},
   "outputs": [],
   "source": [
    "comment = ''"
   ]
  },
  {
   "cell_type": "code",
   "execution_count": null,
   "id": "bb8fb494",
   "metadata": {},
   "outputs": [],
   "source": [
    "################################\n",
    "# Reporting. Do not modify.#####\n",
    "result['comment'] = comment   # 4 points\n",
    "################################"
   ]
  },
  {
   "cell_type": "markdown",
   "id": "38d80fb9",
   "metadata": {},
   "source": [
    "---\n",
    "## Do not modify below this"
   ]
  },
  {
   "cell_type": "code",
   "execution_count": null,
   "id": "6616d276",
   "metadata": {},
   "outputs": [],
   "source": [
    "with open('{}.pickle'.format(\"_\".join([str(sid) for sid in result['SIDs']])),'wb') as file:\n",
    "    pickle.dump(result,file)"
   ]
  }
 ],
 "metadata": {
  "kernelspec": {
   "display_name": "Python 3 (ipykernel)",
   "language": "python",
   "name": "python3"
  },
  "language_info": {
   "codemirror_mode": {
    "name": "ipython",
    "version": 3
   },
   "file_extension": ".py",
   "mimetype": "text/x-python",
   "name": "python",
   "nbconvert_exporter": "python",
   "pygments_lexer": "ipython3",
   "version": "3.9.16"
  }
 },
 "nbformat": 4,
 "nbformat_minor": 5
}
